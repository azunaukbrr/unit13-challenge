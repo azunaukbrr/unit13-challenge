{
 "cells": [
  {
   "cell_type": "markdown",
   "metadata": {},
   "source": [
    "# Clustering Crypto"
   ]
  },
  {
   "cell_type": "code",
   "execution_count": 13,
   "metadata": {},
   "outputs": [],
   "source": [
    "# Initial imports\n",
    "import requests\n",
    "import pandas as pd\n",
    "import matplotlib.pyplot as plt\n",
    "import hvplot.pandas\n",
    "import plotly.express as px\n",
    "from sklearn.preprocessing import StandardScaler, MinMaxScaler\n",
    "from sklearn.decomposition import PCA\n",
    "from sklearn.cluster import KMeans\n",
    "from pathlib import Path"
   ]
  },
  {
   "cell_type": "markdown",
   "metadata": {},
   "source": [
    "### Fetching Cryptocurrency Data"
   ]
  },
  {
   "cell_type": "code",
   "execution_count": null,
   "metadata": {},
   "outputs": [],
   "source": [
    "# Use the following endpoint to fetch json data\n",
    "# url = \"https://min-api.cryptocompare.com/data/all/coinlist\""
   ]
  },
  {
   "cell_type": "code",
   "execution_count": null,
   "metadata": {},
   "outputs": [],
   "source": [
    "# Create a DataFrame \n",
    "# HINT: You will need to use the 'Data' key from the json response, then transpose the DataFrame."
   ]
  },
  {
   "cell_type": "code",
   "execution_count": 127,
   "metadata": {},
   "outputs": [
    {
     "data": {
      "text/html": [
       "<div>\n",
       "<style scoped>\n",
       "    .dataframe tbody tr th:only-of-type {\n",
       "        vertical-align: middle;\n",
       "    }\n",
       "\n",
       "    .dataframe tbody tr th {\n",
       "        vertical-align: top;\n",
       "    }\n",
       "\n",
       "    .dataframe thead th {\n",
       "        text-align: right;\n",
       "    }\n",
       "</style>\n",
       "<table border=\"1\" class=\"dataframe\">\n",
       "  <thead>\n",
       "    <tr style=\"text-align: right;\">\n",
       "      <th></th>\n",
       "      <th>Unnamed: 0</th>\n",
       "      <th>CoinName</th>\n",
       "      <th>Algorithm</th>\n",
       "      <th>IsTrading</th>\n",
       "      <th>ProofType</th>\n",
       "      <th>TotalCoinsMined</th>\n",
       "      <th>TotalCoinSupply</th>\n",
       "    </tr>\n",
       "  </thead>\n",
       "  <tbody>\n",
       "    <tr>\n",
       "      <th>0</th>\n",
       "      <td>42</td>\n",
       "      <td>42 Coin</td>\n",
       "      <td>Scrypt</td>\n",
       "      <td>True</td>\n",
       "      <td>PoW/PoS</td>\n",
       "      <td>4.199995e+01</td>\n",
       "      <td>42</td>\n",
       "    </tr>\n",
       "    <tr>\n",
       "      <th>1</th>\n",
       "      <td>365</td>\n",
       "      <td>365Coin</td>\n",
       "      <td>X11</td>\n",
       "      <td>True</td>\n",
       "      <td>PoW/PoS</td>\n",
       "      <td>NaN</td>\n",
       "      <td>2300000000</td>\n",
       "    </tr>\n",
       "    <tr>\n",
       "      <th>2</th>\n",
       "      <td>404</td>\n",
       "      <td>404Coin</td>\n",
       "      <td>Scrypt</td>\n",
       "      <td>True</td>\n",
       "      <td>PoW/PoS</td>\n",
       "      <td>1.055185e+09</td>\n",
       "      <td>532000000</td>\n",
       "    </tr>\n",
       "    <tr>\n",
       "      <th>3</th>\n",
       "      <td>611</td>\n",
       "      <td>SixEleven</td>\n",
       "      <td>SHA-256</td>\n",
       "      <td>True</td>\n",
       "      <td>PoW</td>\n",
       "      <td>NaN</td>\n",
       "      <td>611000</td>\n",
       "    </tr>\n",
       "    <tr>\n",
       "      <th>4</th>\n",
       "      <td>808</td>\n",
       "      <td>808</td>\n",
       "      <td>SHA-256</td>\n",
       "      <td>True</td>\n",
       "      <td>PoW/PoS</td>\n",
       "      <td>0.000000e+00</td>\n",
       "      <td>0</td>\n",
       "    </tr>\n",
       "  </tbody>\n",
       "</table>\n",
       "</div>"
      ],
      "text/plain": [
       "  Unnamed: 0   CoinName Algorithm  IsTrading ProofType  TotalCoinsMined  \\\n",
       "0         42    42 Coin    Scrypt       True   PoW/PoS     4.199995e+01   \n",
       "1        365    365Coin       X11       True   PoW/PoS              NaN   \n",
       "2        404    404Coin    Scrypt       True   PoW/PoS     1.055185e+09   \n",
       "3        611  SixEleven   SHA-256       True       PoW              NaN   \n",
       "4        808        808   SHA-256       True   PoW/PoS     0.000000e+00   \n",
       "\n",
       "  TotalCoinSupply  \n",
       "0              42  \n",
       "1      2300000000  \n",
       "2       532000000  \n",
       "3          611000  \n",
       "4               0  "
      ]
     },
     "execution_count": 127,
     "metadata": {},
     "output_type": "execute_result"
    }
   ],
   "source": [
    "# Alternatively, use the provided csv file:\n",
    "file_path = Path('Resources/crypto_data.csv')\n",
    "\n",
    "# Create a DataFrame\n",
    "cryptoC_df = pd.read_csv(file_path)\n",
    "cryptoC_df.head()"
   ]
  },
  {
   "cell_type": "markdown",
   "metadata": {},
   "source": [
    "### Data Preprocessing"
   ]
  },
  {
   "cell_type": "code",
   "execution_count": 128,
   "metadata": {},
   "outputs": [
    {
     "data": {
      "text/html": [
       "<div>\n",
       "<style scoped>\n",
       "    .dataframe tbody tr th:only-of-type {\n",
       "        vertical-align: middle;\n",
       "    }\n",
       "\n",
       "    .dataframe tbody tr th {\n",
       "        vertical-align: top;\n",
       "    }\n",
       "\n",
       "    .dataframe thead th {\n",
       "        text-align: right;\n",
       "    }\n",
       "</style>\n",
       "<table border=\"1\" class=\"dataframe\">\n",
       "  <thead>\n",
       "    <tr style=\"text-align: right;\">\n",
       "      <th></th>\n",
       "      <th>CoinName</th>\n",
       "      <th>Algorithm</th>\n",
       "      <th>IsTrading</th>\n",
       "      <th>ProofType</th>\n",
       "      <th>TotalCoinsMined</th>\n",
       "      <th>TotalCoinSupply</th>\n",
       "    </tr>\n",
       "  </thead>\n",
       "  <tbody>\n",
       "    <tr>\n",
       "      <th>0</th>\n",
       "      <td>42 Coin</td>\n",
       "      <td>Scrypt</td>\n",
       "      <td>True</td>\n",
       "      <td>PoW/PoS</td>\n",
       "      <td>4.199995e+01</td>\n",
       "      <td>42</td>\n",
       "    </tr>\n",
       "    <tr>\n",
       "      <th>1</th>\n",
       "      <td>365Coin</td>\n",
       "      <td>X11</td>\n",
       "      <td>True</td>\n",
       "      <td>PoW/PoS</td>\n",
       "      <td>NaN</td>\n",
       "      <td>2300000000</td>\n",
       "    </tr>\n",
       "    <tr>\n",
       "      <th>2</th>\n",
       "      <td>404Coin</td>\n",
       "      <td>Scrypt</td>\n",
       "      <td>True</td>\n",
       "      <td>PoW/PoS</td>\n",
       "      <td>1.055185e+09</td>\n",
       "      <td>532000000</td>\n",
       "    </tr>\n",
       "    <tr>\n",
       "      <th>3</th>\n",
       "      <td>SixEleven</td>\n",
       "      <td>SHA-256</td>\n",
       "      <td>True</td>\n",
       "      <td>PoW</td>\n",
       "      <td>NaN</td>\n",
       "      <td>611000</td>\n",
       "    </tr>\n",
       "    <tr>\n",
       "      <th>4</th>\n",
       "      <td>808</td>\n",
       "      <td>SHA-256</td>\n",
       "      <td>True</td>\n",
       "      <td>PoW/PoS</td>\n",
       "      <td>0.000000e+00</td>\n",
       "      <td>0</td>\n",
       "    </tr>\n",
       "  </tbody>\n",
       "</table>\n",
       "</div>"
      ],
      "text/plain": [
       "    CoinName Algorithm  IsTrading ProofType  TotalCoinsMined TotalCoinSupply\n",
       "0    42 Coin    Scrypt       True   PoW/PoS     4.199995e+01              42\n",
       "1    365Coin       X11       True   PoW/PoS              NaN      2300000000\n",
       "2    404Coin    Scrypt       True   PoW/PoS     1.055185e+09       532000000\n",
       "3  SixEleven   SHA-256       True       PoW              NaN          611000\n",
       "4        808   SHA-256       True   PoW/PoS     0.000000e+00               0"
      ]
     },
     "execution_count": 128,
     "metadata": {},
     "output_type": "execute_result"
    }
   ],
   "source": [
    "# Keep only necessary columns:\n",
    "# 'CoinName','Algorithm','IsTrading','ProofType','TotalCoinsMined','TotalCoinSupply'\n",
    "cryptoC_df = cryptoC_df[['CoinName', 'Algorithm', 'IsTrading', 'ProofType', 'TotalCoinsMined', 'TotalCoinSupply']]\n",
    "\n",
    "cryptoC_df.head()"
   ]
  },
  {
   "cell_type": "code",
   "execution_count": 129,
   "metadata": {},
   "outputs": [],
   "source": [
    "# Keep only cryptocurrencies that are trading\n",
    "cryptoC_df = cryptoC_df.loc[cryptoC_df['IsTrading'] == True]\n"
   ]
  },
  {
   "cell_type": "code",
   "execution_count": 130,
   "metadata": {},
   "outputs": [],
   "source": [
    "# Keep only cryptocurrencies with a working algorithm\n",
    "cryptoC_df = cryptoC_df.loc[cryptoC_df['Algorithm'] != 'N/A']\n"
   ]
  },
  {
   "cell_type": "code",
   "execution_count": 131,
   "metadata": {},
   "outputs": [],
   "source": [
    "# Remove the \"IsTrading\" column\n",
    "cryptoC_df = cryptoC_df.drop(columns = 'IsTrading')"
   ]
  },
  {
   "cell_type": "code",
   "execution_count": 132,
   "metadata": {},
   "outputs": [
    {
     "data": {
      "text/html": [
       "<div>\n",
       "<style scoped>\n",
       "    .dataframe tbody tr th:only-of-type {\n",
       "        vertical-align: middle;\n",
       "    }\n",
       "\n",
       "    .dataframe tbody tr th {\n",
       "        vertical-align: top;\n",
       "    }\n",
       "\n",
       "    .dataframe thead th {\n",
       "        text-align: right;\n",
       "    }\n",
       "</style>\n",
       "<table border=\"1\" class=\"dataframe\">\n",
       "  <thead>\n",
       "    <tr style=\"text-align: right;\">\n",
       "      <th></th>\n",
       "      <th>CoinName</th>\n",
       "      <th>Algorithm</th>\n",
       "      <th>ProofType</th>\n",
       "      <th>TotalCoinsMined</th>\n",
       "      <th>TotalCoinSupply</th>\n",
       "    </tr>\n",
       "  </thead>\n",
       "  <tbody>\n",
       "    <tr>\n",
       "      <th>0</th>\n",
       "      <td>42 Coin</td>\n",
       "      <td>Scrypt</td>\n",
       "      <td>PoW/PoS</td>\n",
       "      <td>4.199995e+01</td>\n",
       "      <td>42</td>\n",
       "    </tr>\n",
       "    <tr>\n",
       "      <th>2</th>\n",
       "      <td>404Coin</td>\n",
       "      <td>Scrypt</td>\n",
       "      <td>PoW/PoS</td>\n",
       "      <td>1.055185e+09</td>\n",
       "      <td>532000000</td>\n",
       "    </tr>\n",
       "    <tr>\n",
       "      <th>4</th>\n",
       "      <td>808</td>\n",
       "      <td>SHA-256</td>\n",
       "      <td>PoW/PoS</td>\n",
       "      <td>0.000000e+00</td>\n",
       "      <td>0</td>\n",
       "    </tr>\n",
       "    <tr>\n",
       "      <th>5</th>\n",
       "      <td>EliteCoin</td>\n",
       "      <td>X13</td>\n",
       "      <td>PoW/PoS</td>\n",
       "      <td>2.927942e+10</td>\n",
       "      <td>314159265359</td>\n",
       "    </tr>\n",
       "    <tr>\n",
       "      <th>7</th>\n",
       "      <td>Bitcoin</td>\n",
       "      <td>SHA-256</td>\n",
       "      <td>PoW</td>\n",
       "      <td>1.792718e+07</td>\n",
       "      <td>21000000</td>\n",
       "    </tr>\n",
       "  </tbody>\n",
       "</table>\n",
       "</div>"
      ],
      "text/plain": [
       "    CoinName Algorithm ProofType  TotalCoinsMined TotalCoinSupply\n",
       "0    42 Coin    Scrypt   PoW/PoS     4.199995e+01              42\n",
       "2    404Coin    Scrypt   PoW/PoS     1.055185e+09       532000000\n",
       "4        808   SHA-256   PoW/PoS     0.000000e+00               0\n",
       "5  EliteCoin       X13   PoW/PoS     2.927942e+10    314159265359\n",
       "7    Bitcoin   SHA-256       PoW     1.792718e+07        21000000"
      ]
     },
     "execution_count": 132,
     "metadata": {},
     "output_type": "execute_result"
    }
   ],
   "source": [
    "# Remove rows with at least 1 null value\n",
    "cryptoC_df =cryptoC_df.dropna()\n",
    "cryptoC_df.head()"
   ]
  },
  {
   "cell_type": "code",
   "execution_count": 135,
   "metadata": {},
   "outputs": [],
   "source": [
    "# Remove rows with cryptocurrencies having no coins mined\n",
    "cryptoC_df = cryptoC_df.loc[cryptoC_df ['TotalCoinsMined'] != 0]"
   ]
  },
  {
   "cell_type": "code",
   "execution_count": 136,
   "metadata": {},
   "outputs": [
    {
     "data": {
      "text/plain": [
       "(533, 5)"
      ]
     },
     "execution_count": 136,
     "metadata": {},
     "output_type": "execute_result"
    }
   ],
   "source": [
    "# Drop rows where there are 'N/A' text values\n",
    "for column in cryptoC_df:\n",
    "     cryptoC_df = cryptoC_df.loc[cryptoC_df[column] != 'N/A']\n",
    "\n",
    "cryptoC_df.shape"
   ]
  },
  {
   "cell_type": "code",
   "execution_count": 137,
   "metadata": {},
   "outputs": [
    {
     "data": {
      "text/html": [
       "<div>\n",
       "<style scoped>\n",
       "    .dataframe tbody tr th:only-of-type {\n",
       "        vertical-align: middle;\n",
       "    }\n",
       "\n",
       "    .dataframe tbody tr th {\n",
       "        vertical-align: top;\n",
       "    }\n",
       "\n",
       "    .dataframe thead th {\n",
       "        text-align: right;\n",
       "    }\n",
       "</style>\n",
       "<table border=\"1\" class=\"dataframe\">\n",
       "  <thead>\n",
       "    <tr style=\"text-align: right;\">\n",
       "      <th></th>\n",
       "      <th>CoinName</th>\n",
       "    </tr>\n",
       "  </thead>\n",
       "  <tbody>\n",
       "    <tr>\n",
       "      <th>0</th>\n",
       "      <td>42 Coin</td>\n",
       "    </tr>\n",
       "    <tr>\n",
       "      <th>2</th>\n",
       "      <td>404Coin</td>\n",
       "    </tr>\n",
       "    <tr>\n",
       "      <th>5</th>\n",
       "      <td>EliteCoin</td>\n",
       "    </tr>\n",
       "    <tr>\n",
       "      <th>7</th>\n",
       "      <td>Bitcoin</td>\n",
       "    </tr>\n",
       "    <tr>\n",
       "      <th>8</th>\n",
       "      <td>Ethereum</td>\n",
       "    </tr>\n",
       "    <tr>\n",
       "      <th>9</th>\n",
       "      <td>Litecoin</td>\n",
       "    </tr>\n",
       "    <tr>\n",
       "      <th>10</th>\n",
       "      <td>Dash</td>\n",
       "    </tr>\n",
       "    <tr>\n",
       "      <th>11</th>\n",
       "      <td>Monero</td>\n",
       "    </tr>\n",
       "    <tr>\n",
       "      <th>12</th>\n",
       "      <td>Ethereum Classic</td>\n",
       "    </tr>\n",
       "    <tr>\n",
       "      <th>13</th>\n",
       "      <td>ZCash</td>\n",
       "    </tr>\n",
       "    <tr>\n",
       "      <th>14</th>\n",
       "      <td>Bitshares</td>\n",
       "    </tr>\n",
       "    <tr>\n",
       "      <th>15</th>\n",
       "      <td>DigiByte</td>\n",
       "    </tr>\n",
       "    <tr>\n",
       "      <th>16</th>\n",
       "      <td>BitcoinDark</td>\n",
       "    </tr>\n",
       "    <tr>\n",
       "      <th>19</th>\n",
       "      <td>PayCoin</td>\n",
       "    </tr>\n",
       "    <tr>\n",
       "      <th>20</th>\n",
       "      <td>ProsperCoin</td>\n",
       "    </tr>\n",
       "    <tr>\n",
       "      <th>24</th>\n",
       "      <td>KoboCoin</td>\n",
       "    </tr>\n",
       "    <tr>\n",
       "      <th>27</th>\n",
       "      <td>Spreadcoin</td>\n",
       "    </tr>\n",
       "    <tr>\n",
       "      <th>37</th>\n",
       "      <td>Argentum</td>\n",
       "    </tr>\n",
       "    <tr>\n",
       "      <th>39</th>\n",
       "      <td>Aurora Coin</td>\n",
       "    </tr>\n",
       "    <tr>\n",
       "      <th>42</th>\n",
       "      <td>BlueCoin</td>\n",
       "    </tr>\n",
       "    <tr>\n",
       "      <th>44</th>\n",
       "      <td>MyriadCoin</td>\n",
       "    </tr>\n",
       "    <tr>\n",
       "      <th>45</th>\n",
       "      <td>MoonCoin</td>\n",
       "    </tr>\n",
       "    <tr>\n",
       "      <th>46</th>\n",
       "      <td>ZetaCoin</td>\n",
       "    </tr>\n",
       "    <tr>\n",
       "      <th>47</th>\n",
       "      <td>SexCoin</td>\n",
       "    </tr>\n",
       "    <tr>\n",
       "      <th>48</th>\n",
       "      <td>Quatloo</td>\n",
       "    </tr>\n",
       "    <tr>\n",
       "      <th>49</th>\n",
       "      <td>EnergyCoin</td>\n",
       "    </tr>\n",
       "    <tr>\n",
       "      <th>50</th>\n",
       "      <td>QuarkCoin</td>\n",
       "    </tr>\n",
       "    <tr>\n",
       "      <th>51</th>\n",
       "      <td>Riecoin</td>\n",
       "    </tr>\n",
       "    <tr>\n",
       "      <th>52</th>\n",
       "      <td>Digitalcoin</td>\n",
       "    </tr>\n",
       "    <tr>\n",
       "      <th>54</th>\n",
       "      <td>BitBar</td>\n",
       "    </tr>\n",
       "    <tr>\n",
       "      <th>...</th>\n",
       "      <td>...</td>\n",
       "    </tr>\n",
       "    <tr>\n",
       "      <th>1185</th>\n",
       "      <td>XiaoMiCoin</td>\n",
       "    </tr>\n",
       "    <tr>\n",
       "      <th>1186</th>\n",
       "      <td>Groestlcoin</td>\n",
       "    </tr>\n",
       "    <tr>\n",
       "      <th>1187</th>\n",
       "      <td>CapriCoin</td>\n",
       "    </tr>\n",
       "    <tr>\n",
       "      <th>1188</th>\n",
       "      <td>ClubCoin</td>\n",
       "    </tr>\n",
       "    <tr>\n",
       "      <th>1189</th>\n",
       "      <td>Radium</td>\n",
       "    </tr>\n",
       "    <tr>\n",
       "      <th>1190</th>\n",
       "      <td>Bata</td>\n",
       "    </tr>\n",
       "    <tr>\n",
       "      <th>1191</th>\n",
       "      <td>Pakcoin</td>\n",
       "    </tr>\n",
       "    <tr>\n",
       "      <th>1192</th>\n",
       "      <td>Creditbit</td>\n",
       "    </tr>\n",
       "    <tr>\n",
       "      <th>1193</th>\n",
       "      <td>OKCash</td>\n",
       "    </tr>\n",
       "    <tr>\n",
       "      <th>1194</th>\n",
       "      <td>Lisk</td>\n",
       "    </tr>\n",
       "    <tr>\n",
       "      <th>1195</th>\n",
       "      <td>HiCoin</td>\n",
       "    </tr>\n",
       "    <tr>\n",
       "      <th>1196</th>\n",
       "      <td>WhiteCoin</td>\n",
       "    </tr>\n",
       "    <tr>\n",
       "      <th>1198</th>\n",
       "      <td>FriendshipCoin</td>\n",
       "    </tr>\n",
       "    <tr>\n",
       "      <th>1200</th>\n",
       "      <td>Fiii</td>\n",
       "    </tr>\n",
       "    <tr>\n",
       "      <th>1201</th>\n",
       "      <td>JoinCoin</td>\n",
       "    </tr>\n",
       "    <tr>\n",
       "      <th>1202</th>\n",
       "      <td>Triangles Coin</td>\n",
       "    </tr>\n",
       "    <tr>\n",
       "      <th>1204</th>\n",
       "      <td>Vollar</td>\n",
       "    </tr>\n",
       "    <tr>\n",
       "      <th>1211</th>\n",
       "      <td>EOS</td>\n",
       "    </tr>\n",
       "    <tr>\n",
       "      <th>1213</th>\n",
       "      <td>Reality Clash</td>\n",
       "    </tr>\n",
       "    <tr>\n",
       "      <th>1214</th>\n",
       "      <td>Oxycoin</td>\n",
       "    </tr>\n",
       "    <tr>\n",
       "      <th>1226</th>\n",
       "      <td>TigerCash</td>\n",
       "    </tr>\n",
       "    <tr>\n",
       "      <th>1230</th>\n",
       "      <td>Waves</td>\n",
       "    </tr>\n",
       "    <tr>\n",
       "      <th>1231</th>\n",
       "      <td>Particl</td>\n",
       "    </tr>\n",
       "    <tr>\n",
       "      <th>1234</th>\n",
       "      <td>BitTorrent</td>\n",
       "    </tr>\n",
       "    <tr>\n",
       "      <th>1237</th>\n",
       "      <td>Nxt</td>\n",
       "    </tr>\n",
       "    <tr>\n",
       "      <th>1238</th>\n",
       "      <td>ZEPHYR</td>\n",
       "    </tr>\n",
       "    <tr>\n",
       "      <th>1242</th>\n",
       "      <td>Gapcoin</td>\n",
       "    </tr>\n",
       "    <tr>\n",
       "      <th>1245</th>\n",
       "      <td>Beldex</td>\n",
       "    </tr>\n",
       "    <tr>\n",
       "      <th>1246</th>\n",
       "      <td>Horizen</td>\n",
       "    </tr>\n",
       "    <tr>\n",
       "      <th>1247</th>\n",
       "      <td>BitcoinPlus</td>\n",
       "    </tr>\n",
       "  </tbody>\n",
       "</table>\n",
       "<p>533 rows × 1 columns</p>\n",
       "</div>"
      ],
      "text/plain": [
       "              CoinName\n",
       "0              42 Coin\n",
       "2              404Coin\n",
       "5            EliteCoin\n",
       "7              Bitcoin\n",
       "8             Ethereum\n",
       "9             Litecoin\n",
       "10                Dash\n",
       "11              Monero\n",
       "12    Ethereum Classic\n",
       "13               ZCash\n",
       "14           Bitshares\n",
       "15            DigiByte\n",
       "16         BitcoinDark\n",
       "19             PayCoin\n",
       "20         ProsperCoin\n",
       "24            KoboCoin\n",
       "27          Spreadcoin\n",
       "37            Argentum\n",
       "39         Aurora Coin\n",
       "42            BlueCoin\n",
       "44          MyriadCoin\n",
       "45            MoonCoin\n",
       "46            ZetaCoin\n",
       "47             SexCoin\n",
       "48             Quatloo\n",
       "49          EnergyCoin\n",
       "50           QuarkCoin\n",
       "51             Riecoin\n",
       "52        Digitalcoin \n",
       "54              BitBar\n",
       "...                ...\n",
       "1185        XiaoMiCoin\n",
       "1186       Groestlcoin\n",
       "1187         CapriCoin\n",
       "1188          ClubCoin\n",
       "1189            Radium\n",
       "1190              Bata\n",
       "1191           Pakcoin\n",
       "1192        Creditbit \n",
       "1193            OKCash\n",
       "1194              Lisk\n",
       "1195            HiCoin\n",
       "1196         WhiteCoin\n",
       "1198    FriendshipCoin\n",
       "1200              Fiii\n",
       "1201          JoinCoin\n",
       "1202    Triangles Coin\n",
       "1204            Vollar\n",
       "1211               EOS\n",
       "1213     Reality Clash\n",
       "1214           Oxycoin\n",
       "1226         TigerCash\n",
       "1230             Waves\n",
       "1231           Particl\n",
       "1234        BitTorrent\n",
       "1237               Nxt\n",
       "1238            ZEPHYR\n",
       "1242           Gapcoin\n",
       "1245            Beldex\n",
       "1246           Horizen\n",
       "1247       BitcoinPlus\n",
       "\n",
       "[533 rows x 1 columns]"
      ]
     },
     "execution_count": 137,
     "metadata": {},
     "output_type": "execute_result"
    }
   ],
   "source": [
    "# Store the 'CoinName'column in its own DataFrame prior to dropping it from crypto_df\n",
    "CoinName_df = cryptoC_df1['CoinName'].to_frame()\n",
    "CoinName_df"
   ]
  },
  {
   "cell_type": "code",
   "execution_count": 138,
   "metadata": {},
   "outputs": [
    {
     "data": {
      "text/html": [
       "<div>\n",
       "<style scoped>\n",
       "    .dataframe tbody tr th:only-of-type {\n",
       "        vertical-align: middle;\n",
       "    }\n",
       "\n",
       "    .dataframe tbody tr th {\n",
       "        vertical-align: top;\n",
       "    }\n",
       "\n",
       "    .dataframe thead th {\n",
       "        text-align: right;\n",
       "    }\n",
       "</style>\n",
       "<table border=\"1\" class=\"dataframe\">\n",
       "  <thead>\n",
       "    <tr style=\"text-align: right;\">\n",
       "      <th></th>\n",
       "      <th>Algorithm</th>\n",
       "      <th>ProofType</th>\n",
       "      <th>TotalCoinsMined</th>\n",
       "      <th>TotalCoinSupply</th>\n",
       "    </tr>\n",
       "  </thead>\n",
       "  <tbody>\n",
       "    <tr>\n",
       "      <th>0</th>\n",
       "      <td>Scrypt</td>\n",
       "      <td>PoW/PoS</td>\n",
       "      <td>4.199995e+01</td>\n",
       "      <td>42</td>\n",
       "    </tr>\n",
       "    <tr>\n",
       "      <th>2</th>\n",
       "      <td>Scrypt</td>\n",
       "      <td>PoW/PoS</td>\n",
       "      <td>1.055185e+09</td>\n",
       "      <td>532000000</td>\n",
       "    </tr>\n",
       "    <tr>\n",
       "      <th>5</th>\n",
       "      <td>X13</td>\n",
       "      <td>PoW/PoS</td>\n",
       "      <td>2.927942e+10</td>\n",
       "      <td>314159265359</td>\n",
       "    </tr>\n",
       "    <tr>\n",
       "      <th>7</th>\n",
       "      <td>SHA-256</td>\n",
       "      <td>PoW</td>\n",
       "      <td>1.792718e+07</td>\n",
       "      <td>21000000</td>\n",
       "    </tr>\n",
       "    <tr>\n",
       "      <th>8</th>\n",
       "      <td>Ethash</td>\n",
       "      <td>PoW</td>\n",
       "      <td>1.076842e+08</td>\n",
       "      <td>0</td>\n",
       "    </tr>\n",
       "  </tbody>\n",
       "</table>\n",
       "</div>"
      ],
      "text/plain": [
       "  Algorithm ProofType  TotalCoinsMined TotalCoinSupply\n",
       "0    Scrypt   PoW/PoS     4.199995e+01              42\n",
       "2    Scrypt   PoW/PoS     1.055185e+09       532000000\n",
       "5       X13   PoW/PoS     2.927942e+10    314159265359\n",
       "7   SHA-256       PoW     1.792718e+07        21000000\n",
       "8    Ethash       PoW     1.076842e+08               0"
      ]
     },
     "execution_count": 138,
     "metadata": {},
     "output_type": "execute_result"
    }
   ],
   "source": [
    "# Drop the 'CoinName' column since it's not going to be used on the clustering algorithm\n",
    "cryptoC_df.drop(columns = ['CoinName'], inplace=True)\n",
    "cryptoC_df.head()"
   ]
  },
  {
   "cell_type": "code",
   "execution_count": 142,
   "metadata": {},
   "outputs": [],
   "source": [
    "# Create dummy variables for text features\n",
    "X = pd.get_dummies(cryptoC_df, columns=['Algorithm', 'ProofType'], drop_first=True)"
   ]
  },
  {
   "cell_type": "code",
   "execution_count": 143,
   "metadata": {},
   "outputs": [],
   "source": [
    "# Standardize data\n",
    "X_scaled = StandardScaler().fit_transform(X)"
   ]
  },
  {
   "cell_type": "markdown",
   "metadata": {},
   "source": [
    "### Reducing Dimensions Using PCA"
   ]
  },
  {
   "cell_type": "code",
   "execution_count": 144,
   "metadata": {},
   "outputs": [],
   "source": [
    "# Use PCA to reduce dimensions to 3 principal components\n",
    "pca = PCA(n_components=3)\n",
    "cryptoC_pca = pca.fit_transform(X_scaled)"
   ]
  },
  {
   "cell_type": "code",
   "execution_count": 145,
   "metadata": {},
   "outputs": [
    {
     "data": {
      "text/html": [
       "<div>\n",
       "<style scoped>\n",
       "    .dataframe tbody tr th:only-of-type {\n",
       "        vertical-align: middle;\n",
       "    }\n",
       "\n",
       "    .dataframe tbody tr th {\n",
       "        vertical-align: top;\n",
       "    }\n",
       "\n",
       "    .dataframe thead th {\n",
       "        text-align: right;\n",
       "    }\n",
       "</style>\n",
       "<table border=\"1\" class=\"dataframe\">\n",
       "  <thead>\n",
       "    <tr style=\"text-align: right;\">\n",
       "      <th></th>\n",
       "      <th>PC 1</th>\n",
       "      <th>PC 2</th>\n",
       "      <th>PC 3</th>\n",
       "    </tr>\n",
       "  </thead>\n",
       "  <tbody>\n",
       "    <tr>\n",
       "      <th>0</th>\n",
       "      <td>-0.334330</td>\n",
       "      <td>0.995018</td>\n",
       "      <td>-0.585509</td>\n",
       "    </tr>\n",
       "    <tr>\n",
       "      <th>2</th>\n",
       "      <td>-0.317661</td>\n",
       "      <td>0.995189</td>\n",
       "      <td>-0.585848</td>\n",
       "    </tr>\n",
       "    <tr>\n",
       "      <th>5</th>\n",
       "      <td>2.302870</td>\n",
       "      <td>1.623324</td>\n",
       "      <td>-0.606491</td>\n",
       "    </tr>\n",
       "    <tr>\n",
       "      <th>7</th>\n",
       "      <td>-0.144784</td>\n",
       "      <td>-1.313503</td>\n",
       "      <td>0.212936</td>\n",
       "    </tr>\n",
       "    <tr>\n",
       "      <th>8</th>\n",
       "      <td>-0.146556</td>\n",
       "      <td>-2.001325</td>\n",
       "      <td>0.409726</td>\n",
       "    </tr>\n",
       "  </tbody>\n",
       "</table>\n",
       "</div>"
      ],
      "text/plain": [
       "       PC 1      PC 2      PC 3\n",
       "0 -0.334330  0.995018 -0.585509\n",
       "2 -0.317661  0.995189 -0.585848\n",
       "5  2.302870  1.623324 -0.606491\n",
       "7 -0.144784 -1.313503  0.212936\n",
       "8 -0.146556 -2.001325  0.409726"
      ]
     },
     "execution_count": 145,
     "metadata": {},
     "output_type": "execute_result"
    }
   ],
   "source": [
    "# Create a DataFrame with the principal components data\n",
    "pca_df = pd.DataFrame(data=cryptoC_pca,\n",
    "                            columns=['PC 1', 'PC 2', 'PC 3'],\n",
    "                            index=cryptoC_df.index\n",
    "                            )\n",
    "pca_df.head()"
   ]
  },
  {
   "cell_type": "markdown",
   "metadata": {},
   "source": [
    "### Clustering Crytocurrencies Using K-Means\n",
    "\n",
    "#### Find the Best Value for `k` Using the Elbow Curve"
   ]
  },
  {
   "cell_type": "code",
   "execution_count": 146,
   "metadata": {},
   "outputs": [
    {
     "data": {},
     "metadata": {},
     "output_type": "display_data"
    },
    {
     "data": {
      "application/vnd.holoviews_exec.v0+json": "",
      "text/html": [
       "<div id='1902'>\n",
       "\n",
       "\n",
       "\n",
       "\n",
       "\n",
       "  <div class=\"bk-root\" id=\"cf704cad-2f6a-4f2a-8322-51eaea5f819b\" data-root-id=\"1902\"></div>\n",
       "</div>\n",
       "<script type=\"application/javascript\">(function(root) {\n",
       "  function embed_document(root) {\n",
       "    var docs_json = {\"3630f6e4-011e-4631-881c-9f1e8449b7ab\":{\"roots\":{\"references\":[{\"attributes\":{\"line_alpha\":0.2,\"line_color\":\"#30a2da\",\"line_width\":2,\"x\":{\"field\":\"k\"},\"y\":{\"field\":\"inertia\"}},\"id\":\"1942\",\"type\":\"Line\"},{\"attributes\":{\"text\":\"Elbow Curve\",\"text_color\":{\"value\":\"black\"},\"text_font_size\":{\"value\":\"12pt\"}},\"id\":\"1908\",\"type\":\"Title\"},{\"attributes\":{\"data_source\":{\"id\":\"1937\"},\"glyph\":{\"id\":\"1940\"},\"hover_glyph\":null,\"muted_glyph\":{\"id\":\"1942\"},\"nonselection_glyph\":{\"id\":\"1941\"},\"selection_glyph\":null,\"view\":{\"id\":\"1944\"}},\"id\":\"1943\",\"type\":\"GlyphRenderer\"},{\"attributes\":{\"children\":[{\"id\":\"1903\"},{\"id\":\"1907\"},{\"id\":\"1966\"}],\"margin\":[0,0,0,0],\"name\":\"Row03131\",\"tags\":[\"embedded\"]},\"id\":\"1902\",\"type\":\"Row\"},{\"attributes\":{},\"id\":\"1924\",\"type\":\"SaveTool\"},{\"attributes\":{\"line_color\":\"#30a2da\",\"line_width\":2,\"x\":{\"field\":\"k\"},\"y\":{\"field\":\"inertia\"}},\"id\":\"1940\",\"type\":\"Line\"},{\"attributes\":{},\"id\":\"1925\",\"type\":\"PanTool\"},{\"attributes\":{\"below\":[{\"id\":\"1916\"}],\"center\":[{\"id\":\"1919\"},{\"id\":\"1923\"}],\"left\":[{\"id\":\"1920\"}],\"margin\":[5,5,5,5],\"min_border_bottom\":10,\"min_border_left\":10,\"min_border_right\":10,\"min_border_top\":10,\"plot_height\":300,\"plot_width\":700,\"renderers\":[{\"id\":\"1943\"}],\"sizing_mode\":\"fixed\",\"title\":{\"id\":\"1908\"},\"toolbar\":{\"id\":\"1930\"},\"x_range\":{\"id\":\"1904\"},\"x_scale\":{\"id\":\"1912\"},\"y_range\":{\"id\":\"1905\"},\"y_scale\":{\"id\":\"1914\"}},\"id\":\"1907\",\"subtype\":\"Figure\",\"type\":\"Plot\"},{\"attributes\":{},\"id\":\"1928\",\"type\":\"ResetTool\"},{\"attributes\":{\"margin\":[5,5,5,5],\"name\":\"HSpacer03136\",\"sizing_mode\":\"stretch_width\"},\"id\":\"1966\",\"type\":\"Spacer\"},{\"attributes\":{},\"id\":\"1926\",\"type\":\"WheelZoomTool\"},{\"attributes\":{\"overlay\":{\"id\":\"1929\"}},\"id\":\"1927\",\"type\":\"BoxZoomTool\"},{\"attributes\":{\"source\":{\"id\":\"1937\"}},\"id\":\"1944\",\"type\":\"CDSView\"},{\"attributes\":{\"margin\":[5,5,5,5],\"name\":\"HSpacer03135\",\"sizing_mode\":\"stretch_width\"},\"id\":\"1903\",\"type\":\"Spacer\"},{\"attributes\":{},\"id\":\"1912\",\"type\":\"LinearScale\"},{\"attributes\":{\"line_alpha\":0.1,\"line_color\":\"#30a2da\",\"line_width\":2,\"x\":{\"field\":\"k\"},\"y\":{\"field\":\"inertia\"}},\"id\":\"1941\",\"type\":\"Line\"},{\"attributes\":{\"end\":10.0,\"reset_end\":10.0,\"reset_start\":1.0,\"start\":1.0,\"tags\":[[[\"k\",\"k\",null]]]},\"id\":\"1904\",\"type\":\"Range1d\"},{\"attributes\":{\"callback\":null,\"renderers\":[{\"id\":\"1943\"}],\"tags\":[\"hv_created\"],\"tooltips\":[[\"k\",\"@{k}\"],[\"inertia\",\"@{inertia}\"]]},\"id\":\"1906\",\"type\":\"HoverTool\"},{\"attributes\":{\"axis_label\":\"k\",\"bounds\":\"auto\",\"formatter\":{\"id\":\"1946\"},\"major_label_orientation\":\"horizontal\",\"ticker\":{\"id\":\"1945\"}},\"id\":\"1916\",\"type\":\"LinearAxis\"},{\"attributes\":{},\"id\":\"1914\",\"type\":\"LinearScale\"},{\"attributes\":{\"axis_label\":\"inertia\",\"bounds\":\"auto\",\"formatter\":{\"id\":\"1950\"},\"major_label_orientation\":\"horizontal\",\"ticker\":{\"id\":\"1921\"}},\"id\":\"1920\",\"type\":\"LinearAxis\"},{\"attributes\":{},\"id\":\"1958\",\"type\":\"UnionRenderers\"},{\"attributes\":{\"axis\":{\"id\":\"1916\"},\"grid_line_color\":null,\"ticker\":null},\"id\":\"1919\",\"type\":\"Grid\"},{\"attributes\":{\"end\":4001.824819139634,\"reset_end\":4001.824819139634,\"reset_start\":-269.5299449480912,\"start\":-269.5299449480912,\"tags\":[[[\"inertia\",\"inertia\",null]]]},\"id\":\"1905\",\"type\":\"Range1d\"},{\"attributes\":{\"ticks\":[1,2,3,4,5,6,7,8,9,10]},\"id\":\"1945\",\"type\":\"FixedTicker\"},{\"attributes\":{},\"id\":\"1946\",\"type\":\"BasicTickFormatter\"},{\"attributes\":{},\"id\":\"1921\",\"type\":\"BasicTicker\"},{\"attributes\":{\"axis\":{\"id\":\"1920\"},\"dimension\":1,\"grid_line_color\":null,\"ticker\":null},\"id\":\"1923\",\"type\":\"Grid\"},{\"attributes\":{\"active_drag\":\"auto\",\"active_inspect\":\"auto\",\"active_multi\":null,\"active_scroll\":\"auto\",\"active_tap\":\"auto\",\"tools\":[{\"id\":\"1906\"},{\"id\":\"1924\"},{\"id\":\"1925\"},{\"id\":\"1926\"},{\"id\":\"1927\"},{\"id\":\"1928\"}]},\"id\":\"1930\",\"type\":\"Toolbar\"},{\"attributes\":{\"data\":{\"inertia\":{\"__ndarray__\":\"lxxk1sF7rECAXRdn412jQEGS/FEdRJdAQ/MJAbBjfkCm/8rUYEVyQIHQzfy9pmxAAwfIs74jZ0C8KgRobghiQBAzBoZt61tANbR8a6SaVUA=\",\"dtype\":\"float64\",\"order\":\"little\",\"shape\":[10]},\"k\":[1,2,3,4,5,6,7,8,9,10]},\"selected\":{\"id\":\"1938\"},\"selection_policy\":{\"id\":\"1958\"}},\"id\":\"1937\",\"type\":\"ColumnDataSource\"},{\"attributes\":{\"bottom_units\":\"screen\",\"fill_alpha\":0.5,\"fill_color\":\"lightgrey\",\"left_units\":\"screen\",\"level\":\"overlay\",\"line_alpha\":1.0,\"line_color\":\"black\",\"line_dash\":[4,4],\"line_width\":2,\"right_units\":\"screen\",\"top_units\":\"screen\"},\"id\":\"1929\",\"type\":\"BoxAnnotation\"},{\"attributes\":{},\"id\":\"1950\",\"type\":\"BasicTickFormatter\"},{\"attributes\":{},\"id\":\"1938\",\"type\":\"Selection\"}],\"root_ids\":[\"1902\"]},\"title\":\"Bokeh Application\",\"version\":\"2.2.3\"}};\n",
       "    var render_items = [{\"docid\":\"3630f6e4-011e-4631-881c-9f1e8449b7ab\",\"root_ids\":[\"1902\"],\"roots\":{\"1902\":\"cf704cad-2f6a-4f2a-8322-51eaea5f819b\"}}];\n",
       "    root.Bokeh.embed.embed_items_notebook(docs_json, render_items);\n",
       "  }\n",
       "  if (root.Bokeh !== undefined && root.Bokeh.Panel !== undefined) {\n",
       "    embed_document(root);\n",
       "  } else {\n",
       "    var attempts = 0;\n",
       "    var timer = setInterval(function(root) {\n",
       "      if (root.Bokeh !== undefined && root.Bokeh.Panel !== undefined) {\n",
       "        clearInterval(timer);\n",
       "        embed_document(root);\n",
       "      } else if (document.readyState == \"complete\") {\n",
       "        attempts++;\n",
       "        if (attempts > 100) {\n",
       "          clearInterval(timer);\n",
       "          console.log(\"Bokeh: ERROR: Unable to run BokehJS code because BokehJS library is missing\");\n",
       "        }\n",
       "      }\n",
       "    }, 10, root)\n",
       "  }\n",
       "})(window);</script>"
      ],
      "text/plain": [
       ":Curve   [k]   (inertia)"
      ]
     },
     "execution_count": 146,
     "metadata": {
      "application/vnd.holoviews_exec.v0+json": {
       "id": "1902"
      }
     },
     "output_type": "execute_result"
    }
   ],
   "source": [
    "inertia = []\n",
    "k = list(range(1, 11))\n",
    "\n",
    "# Calculate the inertia for the range of k values\n",
    "for i in k:\n",
    "    km = KMeans(n_clusters=i, random_state=0)\n",
    "    km.fit(pca_df)\n",
    "    inertia.append(km.inertia_)\n",
    "\n",
    "# Create the Elbow Curve using hvPlot\n",
    "elbow_data = {\"k\": k, \"inertia\": inertia}\n",
    "df_elbow = pd.DataFrame(elbow_data)\n",
    "df_elbow.hvplot.line(x=\"k\", y=\"inertia\", xticks=k, title=\"Elbow Curve\")"
   ]
  },
  {
   "cell_type": "markdown",
   "metadata": {},
   "source": [
    "Running K-Means with `k=<your best value for k here>`"
   ]
  },
  {
   "cell_type": "code",
   "execution_count": 147,
   "metadata": {},
   "outputs": [
    {
     "data": {
      "text/html": [
       "<div>\n",
       "<style scoped>\n",
       "    .dataframe tbody tr th:only-of-type {\n",
       "        vertical-align: middle;\n",
       "    }\n",
       "\n",
       "    .dataframe tbody tr th {\n",
       "        vertical-align: top;\n",
       "    }\n",
       "\n",
       "    .dataframe thead th {\n",
       "        text-align: right;\n",
       "    }\n",
       "</style>\n",
       "<table border=\"1\" class=\"dataframe\">\n",
       "  <thead>\n",
       "    <tr style=\"text-align: right;\">\n",
       "      <th></th>\n",
       "      <th>Algorithm</th>\n",
       "      <th>ProofType</th>\n",
       "      <th>TotalCoinsMined</th>\n",
       "      <th>TotalCoinSupply</th>\n",
       "      <th>PC 1</th>\n",
       "      <th>PC 2</th>\n",
       "      <th>PC 3</th>\n",
       "      <th>CoinName</th>\n",
       "      <th>Class</th>\n",
       "    </tr>\n",
       "  </thead>\n",
       "  <tbody>\n",
       "    <tr>\n",
       "      <th>0</th>\n",
       "      <td>Scrypt</td>\n",
       "      <td>PoW/PoS</td>\n",
       "      <td>4.199995e+01</td>\n",
       "      <td>42</td>\n",
       "      <td>-0.334330</td>\n",
       "      <td>0.995018</td>\n",
       "      <td>-0.585509</td>\n",
       "      <td>42 Coin</td>\n",
       "      <td>1</td>\n",
       "    </tr>\n",
       "    <tr>\n",
       "      <th>2</th>\n",
       "      <td>Scrypt</td>\n",
       "      <td>PoW/PoS</td>\n",
       "      <td>1.055185e+09</td>\n",
       "      <td>532000000</td>\n",
       "      <td>-0.317661</td>\n",
       "      <td>0.995189</td>\n",
       "      <td>-0.585848</td>\n",
       "      <td>404Coin</td>\n",
       "      <td>1</td>\n",
       "    </tr>\n",
       "    <tr>\n",
       "      <th>5</th>\n",
       "      <td>X13</td>\n",
       "      <td>PoW/PoS</td>\n",
       "      <td>2.927942e+10</td>\n",
       "      <td>314159265359</td>\n",
       "      <td>2.302870</td>\n",
       "      <td>1.623324</td>\n",
       "      <td>-0.606491</td>\n",
       "      <td>EliteCoin</td>\n",
       "      <td>1</td>\n",
       "    </tr>\n",
       "    <tr>\n",
       "      <th>7</th>\n",
       "      <td>SHA-256</td>\n",
       "      <td>PoW</td>\n",
       "      <td>1.792718e+07</td>\n",
       "      <td>21000000</td>\n",
       "      <td>-0.144784</td>\n",
       "      <td>-1.313503</td>\n",
       "      <td>0.212936</td>\n",
       "      <td>Bitcoin</td>\n",
       "      <td>0</td>\n",
       "    </tr>\n",
       "    <tr>\n",
       "      <th>8</th>\n",
       "      <td>Ethash</td>\n",
       "      <td>PoW</td>\n",
       "      <td>1.076842e+08</td>\n",
       "      <td>0</td>\n",
       "      <td>-0.146556</td>\n",
       "      <td>-2.001325</td>\n",
       "      <td>0.409726</td>\n",
       "      <td>Ethereum</td>\n",
       "      <td>0</td>\n",
       "    </tr>\n",
       "  </tbody>\n",
       "</table>\n",
       "</div>"
      ],
      "text/plain": [
       "  Algorithm ProofType  TotalCoinsMined TotalCoinSupply      PC 1      PC 2  \\\n",
       "0    Scrypt   PoW/PoS     4.199995e+01              42 -0.334330  0.995018   \n",
       "2    Scrypt   PoW/PoS     1.055185e+09       532000000 -0.317661  0.995189   \n",
       "5       X13   PoW/PoS     2.927942e+10    314159265359  2.302870  1.623324   \n",
       "7   SHA-256       PoW     1.792718e+07        21000000 -0.144784 -1.313503   \n",
       "8    Ethash       PoW     1.076842e+08               0 -0.146556 -2.001325   \n",
       "\n",
       "       PC 3   CoinName  Class  \n",
       "0 -0.585509    42 Coin      1  \n",
       "2 -0.585848    404Coin      1  \n",
       "5 -0.606491  EliteCoin      1  \n",
       "7  0.212936    Bitcoin      0  \n",
       "8  0.409726   Ethereum      0  "
      ]
     },
     "execution_count": 147,
     "metadata": {},
     "output_type": "execute_result"
    }
   ],
   "source": [
    "# Initialize the K-Means model\n",
    "model = KMeans(n_clusters=3, random_state=78)\n",
    "# Fit the model\n",
    "model.fit(pca_df)\n",
    "# Predict clusters\n",
    "predict_clus = model.predict(pca_df)\n",
    "# Create a new DataFrame including predicted clusters and cryptocurrencies features\n",
    "clustered_df = cryptoC_df.join(pca_df)\n",
    "clustered_df['CoinName'] = CoinName_df['CoinName']\n",
    "clustered_df['Class'] = predict_clus\n",
    "clustered_df.head()"
   ]
  },
  {
   "cell_type": "markdown",
   "metadata": {},
   "source": [
    "### Visualizing Results\n",
    "\n",
    "#### 3D-Scatter with Clusters"
   ]
  },
  {
   "cell_type": "code",
   "execution_count": 148,
   "metadata": {},
   "outputs": [
    {
     "data": {
      "application/vnd.plotly.v1+json": {
       "config": {
        "plotlyServerURL": "https://plot.ly"
       },
       "data": [
        {
         "customdata": [
          [
           "Scrypt"
          ],
          [
           "Scrypt"
          ],
          [
           "X13"
          ],
          [
           "X11"
          ],
          [
           "SHA-512"
          ],
          [
           "SHA-256"
          ],
          [
           "SHA-256"
          ],
          [
           "X15"
          ],
          [
           "Scrypt"
          ],
          [
           "Scrypt"
          ],
          [
           "Scrypt"
          ],
          [
           "Scrypt"
          ],
          [
           "Scrypt"
          ],
          [
           "Scrypt"
          ],
          [
           "Groestl"
          ],
          [
           "PoS"
          ],
          [
           "Scrypt"
          ],
          [
           "Scrypt"
          ],
          [
           "X11"
          ],
          [
           "X11"
          ],
          [
           "SHA3"
          ],
          [
           "Scrypt"
          ],
          [
           "SHA-256"
          ],
          [
           "Scrypt"
          ],
          [
           "X13"
          ],
          [
           "X13"
          ],
          [
           "NeoScrypt"
          ],
          [
           "Scrypt"
          ],
          [
           "Scrypt"
          ],
          [
           "Scrypt"
          ],
          [
           "X11"
          ],
          [
           "X11"
          ],
          [
           "Multiple"
          ],
          [
           "PHI1612"
          ],
          [
           "X11"
          ],
          [
           "Scrypt"
          ],
          [
           "Scrypt"
          ],
          [
           "Scrypt"
          ],
          [
           "X11"
          ],
          [
           "Multiple"
          ],
          [
           "X13"
          ],
          [
           "Scrypt"
          ],
          [
           "Shabal256"
          ],
          [
           "Counterparty"
          ],
          [
           "SHA-256"
          ],
          [
           "Groestl"
          ],
          [
           "Scrypt"
          ],
          [
           "X13"
          ],
          [
           "Scrypt"
          ],
          [
           "Scrypt"
          ],
          [
           "X13"
          ],
          [
           "X11"
          ],
          [
           "Scrypt"
          ],
          [
           "X11"
          ],
          [
           "SHA3"
          ],
          [
           "QUAIT"
          ],
          [
           "X11"
          ],
          [
           "Scrypt"
          ],
          [
           "X13"
          ],
          [
           "SHA-256"
          ],
          [
           "X15"
          ],
          [
           "BLAKE256"
          ],
          [
           "SHA-256"
          ],
          [
           "X11"
          ],
          [
           "SHA-256"
          ],
          [
           "NIST5"
          ],
          [
           "Scrypt"
          ],
          [
           "Scrypt"
          ],
          [
           "X11"
          ],
          [
           "Scrypt"
          ],
          [
           "SHA-256"
          ],
          [
           "Scrypt"
          ],
          [
           "PoS"
          ],
          [
           "X11"
          ],
          [
           "SHA-256"
          ],
          [
           "SHA-256"
          ],
          [
           "NIST5"
          ],
          [
           "X11"
          ],
          [
           "POS 3.0"
          ],
          [
           "Scrypt"
          ],
          [
           "Scrypt"
          ],
          [
           "Scrypt"
          ],
          [
           "X13"
          ],
          [
           "X11"
          ],
          [
           "X11"
          ],
          [
           "Scrypt"
          ],
          [
           "SHA-256"
          ],
          [
           "X11"
          ],
          [
           "Scrypt"
          ],
          [
           "Scrypt"
          ],
          [
           "Scrypt"
          ],
          [
           "Scrypt"
          ],
          [
           "SHA-256D"
          ],
          [
           "PoS"
          ],
          [
           "Scrypt"
          ],
          [
           "X11"
          ],
          [
           "PoS"
          ],
          [
           "X13"
          ],
          [
           "X14"
          ],
          [
           "PoS"
          ],
          [
           "SHA-256D"
          ],
          [
           "DPoS"
          ],
          [
           "X11"
          ],
          [
           "X13"
          ],
          [
           "X11"
          ],
          [
           "PoS"
          ],
          [
           "Scrypt"
          ],
          [
           "Scrypt"
          ],
          [
           "PoS"
          ],
          [
           "X11"
          ],
          [
           "SHA-256"
          ],
          [
           "Scrypt"
          ],
          [
           "X11"
          ],
          [
           "Scrypt"
          ],
          [
           "Scrypt"
          ],
          [
           "X11"
          ],
          [
           "Scrypt"
          ],
          [
           "Scrypt"
          ],
          [
           "Scrypt"
          ],
          [
           "Scrypt"
          ],
          [
           "Quark"
          ],
          [
           "QuBit"
          ],
          [
           "Scrypt"
          ],
          [
           "SHA-256"
          ],
          [
           "X11"
          ],
          [
           "Scrypt"
          ],
          [
           "Scrypt"
          ],
          [
           "Scrypt"
          ],
          [
           "Scrypt"
          ],
          [
           "X13"
          ],
          [
           "Scrypt"
          ],
          [
           "Scrypt"
          ],
          [
           "X11"
          ],
          [
           "Blake2S"
          ],
          [
           "X11"
          ],
          [
           "PoS"
          ],
          [
           "X11"
          ],
          [
           "PoS"
          ],
          [
           "X11"
          ],
          [
           "Scrypt"
          ],
          [
           "Scrypt"
          ],
          [
           "Scrypt"
          ],
          [
           "SHA-256"
          ],
          [
           "X11"
          ],
          [
           "Scrypt"
          ],
          [
           "PoS"
          ],
          [
           "Scrypt"
          ],
          [
           "X15"
          ],
          [
           "SHA-256"
          ],
          [
           "POS 3.0"
          ],
          [
           "536"
          ],
          [
           "NIST5"
          ],
          [
           "NIST5"
          ],
          [
           "Skein"
          ],
          [
           "X13"
          ],
          [
           "Scrypt"
          ],
          [
           "X13"
          ],
          [
           "SkunkHash v2 Raptor"
          ],
          [
           "Skein"
          ],
          [
           "X11"
          ],
          [
           "Scrypt"
          ],
          [
           "VeChainThor Authority"
          ],
          [
           "PoS"
          ],
          [
           "Scrypt"
          ],
          [
           "Scrypt"
          ],
          [
           "SHA-512"
          ],
          [
           "Ouroboros"
          ],
          [
           "X11"
          ],
          [
           "NeoScrypt"
          ],
          [
           "Scrypt"
          ],
          [
           "Lyra2REv2"
          ],
          [
           "Scrypt"
          ],
          [
           "SHA-256"
          ],
          [
           "NIST5"
          ],
          [
           "PHI1612"
          ],
          [
           "Scrypt"
          ],
          [
           "Quark"
          ],
          [
           "POS 2.0"
          ],
          [
           "Scrypt"
          ],
          [
           "SHA-256"
          ],
          [
           "X11"
          ],
          [
           "DPoS"
          ],
          [
           "NIST5"
          ],
          [
           "X13"
          ],
          [
           "Scrypt"
          ],
          [
           "NIST5"
          ],
          [
           "Quark"
          ],
          [
           "Scrypt"
          ],
          [
           "Scrypt"
          ],
          [
           "X11"
          ],
          [
           "Quark"
          ],
          [
           "Scrypt"
          ],
          [
           "Scrypt"
          ],
          [
           "X11"
          ],
          [
           "POS 3.0"
          ],
          [
           "Ethash"
          ],
          [
           "Scrypt"
          ],
          [
           "Scrypt"
          ],
          [
           "X13"
          ],
          [
           "Proof-of-BibleHash"
          ],
          [
           "SHA-256 + Hive"
          ],
          [
           "C11"
          ],
          [
           "Proof-of-Authority"
          ],
          [
           "X11"
          ],
          [
           "XEVAN"
          ],
          [
           "Scrypt"
          ],
          [
           "VBFT"
          ],
          [
           "NIST5"
          ],
          [
           "Scrypt"
          ],
          [
           "Scrypt"
          ],
          [
           "Scrypt"
          ],
          [
           "Green Protocol"
          ],
          [
           "PoS"
          ],
          [
           "Scrypt"
          ],
          [
           "Semux BFT consensus"
          ],
          [
           "Quark"
          ],
          [
           "PoS"
          ],
          [
           "X16R"
          ],
          [
           "Scrypt"
          ],
          [
           "XEVAN"
          ],
          [
           "Scrypt"
          ],
          [
           "Scrypt"
          ],
          [
           "Scrypt"
          ],
          [
           "SHA-256D"
          ],
          [
           "Scrypt"
          ],
          [
           "X15"
          ],
          [
           "Scrypt"
          ],
          [
           "Quark"
          ],
          [
           "SHA-256"
          ],
          [
           "DPoS"
          ],
          [
           "X16R"
          ],
          [
           "Quark"
          ],
          [
           "Quark"
          ],
          [
           "Scrypt"
          ],
          [
           "Lyra2REv2"
          ],
          [
           "Quark"
          ],
          [
           "Scrypt"
          ],
          [
           "X11"
          ],
          [
           "X11"
          ],
          [
           "Scrypt"
          ],
          [
           "PoS"
          ],
          [
           "Keccak"
          ],
          [
           "X11"
          ],
          [
           "Scrypt"
          ],
          [
           "SHA-512"
          ],
          [
           "ECC 256K1"
          ],
          [
           "XEVAN"
          ],
          [
           "XEVAN"
          ],
          [
           "X11"
          ],
          [
           "Quark"
          ],
          [
           "Scrypt"
          ],
          [
           "Quark"
          ],
          [
           "Quark"
          ],
          [
           "Scrypt"
          ],
          [
           "X11"
          ],
          [
           "Scrypt"
          ],
          [
           "XEVAN"
          ],
          [
           "SHA-256D"
          ],
          [
           "X11"
          ],
          [
           "X11"
          ],
          [
           "DPoS"
          ],
          [
           "Scrypt"
          ],
          [
           "X11"
          ],
          [
           "Scrypt"
          ],
          [
           "Scrypt"
          ],
          [
           "SHA-256"
          ],
          [
           "Scrypt"
          ],
          [
           "X11"
          ],
          [
           "Scrypt"
          ],
          [
           "SHA-256"
          ],
          [
           "X11"
          ],
          [
           "Scrypt"
          ],
          [
           "Scrypt"
          ],
          [
           "X11"
          ],
          [
           "Scrypt"
          ],
          [
           "PoS"
          ],
          [
           "X11"
          ],
          [
           "SHA-256"
          ],
          [
           "DPoS"
          ],
          [
           "Scrypt"
          ],
          [
           "Scrypt"
          ],
          [
           "NeoScrypt"
          ],
          [
           "SHA3-256"
          ],
          [
           "X13"
          ],
          [
           "DPoS"
          ],
          [
           "DPoS"
          ],
          [
           "SHA-256"
          ],
          [
           "Leased POS"
          ],
          [
           "PoS"
          ],
          [
           "PoS"
          ],
          [
           "SHA-256"
          ],
          [
           "Scrypt"
          ],
          [
           "Scrypt"
          ]
         ],
         "hovertemplate": "<b>%{hovertext}</b><br><br>Class=%{marker.color}<br>PC 1=%{x}<br>PC 2=%{y}<br>PC 3=%{z}<br>Algorithm=%{customdata[0]}<extra></extra>",
         "hovertext": [
          "42 Coin",
          "404Coin",
          "EliteCoin",
          "Dash",
          "Bitshares",
          "BitcoinDark",
          "PayCoin",
          "KoboCoin",
          "Aurora Coin",
          "BlueCoin",
          "EnergyCoin",
          "BitBar",
          "CryptoBullion",
          "CasinoCoin",
          "Diamond",
          "Exclusive Coin",
          "FlutterCoin",
          "HoboNickels",
          "HyperStake",
          "IOCoin",
          "MaxCoin",
          "MintCoin",
          "MazaCoin",
          "Nautilus Coin",
          "NavCoin",
          "OpalCoin",
          "Orbitcoin",
          "PotCoin",
          "PhoenixCoin",
          "Reddcoin",
          "SuperCoin",
          "SyncCoin",
          "TeslaCoin",
          "TittieCoin",
          "TorCoin",
          "UnitaryStatus Dollar",
          "UltraCoin",
          "VeriCoin",
          "X11 Coin",
          "Crypti",
          "StealthCoin",
          "ZCC Coin",
          "BurstCoin",
          "StorjCoin",
          "Neutron",
          "FairCoin",
          "RubyCoin",
          "Kore",
          "Dnotes",
          "8BIT Coin",
          "Sativa Coin",
          "Ucoin",
          "Vtorrent",
          "IslaCoin",
          "Nexus",
          "Droidz",
          "Squall Coin",
          "Diggits",
          "Paycon",
          "Emercoin",
          "EverGreenCoin",
          "Decred",
          "EDRCoin",
          "Hitcoin",
          "DubaiCoin",
          "PWR Coin",
          "BillaryCoin",
          "GPU Coin",
          "EuropeCoin",
          "ZeitCoin",
          "SwingCoin",
          "SafeExchangeCoin",
          "Nebuchadnezzar",
          "Ratecoin",
          "Revenu",
          "Clockcoin",
          "VIP Tokens",
          "BitSend",
          "Let it Ride",
          "PutinCoin",
          "iBankCoin",
          "Frankywillcoin",
          "MudraCoin",
          "Lutetium Coin",
          "GoldBlocks",
          "CarterCoin",
          "BitTokens",
          "MustangCoin",
          "ZoneCoin",
          "RootCoin",
          "BitCurrency",
          "Swiscoin",
          "BuzzCoin",
          "Opair",
          "PesoBit",
          "Halloween Coin",
          "CoffeeCoin",
          "RoyalCoin",
          "GanjaCoin V2",
          "TeamUP",
          "LanaCoin",
          "ARK",
          "InsaneCoin",
          "EmberCoin",
          "XenixCoin",
          "FreeCoin",
          "PLNCoin",
          "AquariusCoin",
          "Creatio",
          "Eternity",
          "Eurocoin",
          "BitcoinFast",
          "Stakenet",
          "BitConnect Coin",
          "MoneyCoin",
          "Enigma",
          "Russiacoin",
          "PandaCoin",
          "GameUnits",
          "GAKHcoin",
          "Allsafe",
          "LiteCreed",
          "Klingon Empire Darsek",
          "Internet of People",
          "KushCoin",
          "Printerium",
          "Impeach",
          "Zilbercoin",
          "FirstCoin",
          "FindCoin",
          "OpenChat",
          "RenosCoin",
          "VirtacoinPlus",
          "TajCoin",
          "Impact",
          "Atmos",
          "HappyCoin",
          "MacronCoin",
          "Condensate",
          "Independent Money System",
          "ArgusCoin",
          "LomoCoin",
          "ProCurrency",
          "GoldReserve",
          "GrowthCoin",
          "Phreak",
          "Degas Coin",
          "HTML5 Coin",
          "Ultimate Secure Cash",
          "QTUM",
          "Espers",
          "Denarius",
          "Virta Unique Coin",
          "Bitcoin Planet",
          "BritCoin",
          "Linda",
          "DeepOnion",
          "Signatum",
          "Cream",
          "Monoeci",
          "Draftcoin",
          "Vechain",
          "Stakecoin",
          "CoinonatX",
          "Ethereum Dark",
          "Obsidian",
          "Cardano",
          "Regalcoin",
          "TrezarCoin",
          "TerraNovaCoin",
          "Rupee",
          "WomenCoin",
          "Theresa May Coin",
          "NamoCoin",
          "LUXCoin",
          "Xios",
          "Bitcloud 2.0",
          "KekCoin",
          "BlackholeCoin",
          "Infinity Economics",
          "Magnet",
          "Lamden Tau",
          "Electra",
          "Bitcoin Diamond",
          "Cash & Back Coin",
          "Bulwark",
          "Kalkulus",
          "GermanCoin",
          "LiteCoin Ultra",
          "PhantomX",
          "Digiwage",
          "Trollcoin",
          "Litecoin Plus",
          "Monkey Project",
          "TokenPay",
          "1717 Masonic Commemorative Token",
          "My Big Coin",
          "Unified Society USDEX",
          "Tokyo Coin",
          "BiblePay",
          "LitecoinCash",
          "Stipend",
          "Poa Network",
          "Pushi",
          "Ellerium",
          "Velox",
          "Ontology",
          "Bitspace",
          "Briacoin",
          "Ignition",
          "MedicCoin",
          "Bitcoin Green",
          "Deviant Coin",
          "Abjcoin",
          "Semux",
          "Carebit",
          "Zealium",
          "Proton",
          "iDealCash",
          "Bitcoin Incognito",
          "HollyWoodCoin",
          "Swisscoin",
          "Xt3ch",
          "TheVig",
          "EmaratCoin",
          "Dekado",
          "Lynx",
          "Poseidon Quark",
          "BitcoinWSpectrum",
          "Muse",
          "Trivechain",
          "Dystem",
          "Giant",
          "Peony Coin",
          "Absolute Coin",
          "Vitae",
          "TPCash",
          "ARENON",
          "EUNO",
          "MMOCoin",
          "Ketan",
          "XDNA",
          "PAXEX",
          "ThunderStake",
          "Kcash",
          "Acute Angle Cloud",
          "Bettex coin",
          "BitMoney",
          "Junson Ming Chan Coin",
          "HerbCoin",
          "Oduwa",
          "Galilel",
          "Crypto Sports",
          "Credit",
          "Dash Platinum",
          "Nasdacoin",
          "Beetle Coin",
          "Titan Coin",
          "Award",
          "Insane Coin",
          "ALAX",
          "LiteDoge",
          "TruckCoin",
          "OrangeCoin",
          "BitstarCoin",
          "NeosCoin",
          "HyperCoin",
          "PinkCoin",
          "AudioCoin",
          "IncaKoin",
          "Piggy Coin",
          "Genstake",
          "XiaoMiCoin",
          "CapriCoin",
          " ClubCoin",
          "Radium",
          "Creditbit ",
          "OKCash",
          "Lisk",
          "HiCoin",
          "WhiteCoin",
          "FriendshipCoin",
          "Fiii",
          "Triangles Coin",
          "EOS",
          "Oxycoin",
          "TigerCash",
          "Waves",
          "Particl",
          "Nxt",
          "ZEPHYR",
          "Gapcoin",
          "BitcoinPlus"
         ],
         "legendgroup": "1",
         "marker": {
          "color": [
           1,
           1,
           1,
           1,
           1,
           1,
           1,
           1,
           1,
           1,
           1,
           1,
           1,
           1,
           1,
           1,
           1,
           1,
           1,
           1,
           1,
           1,
           1,
           1,
           1,
           1,
           1,
           1,
           1,
           1,
           1,
           1,
           1,
           1,
           1,
           1,
           1,
           1,
           1,
           1,
           1,
           1,
           1,
           1,
           1,
           1,
           1,
           1,
           1,
           1,
           1,
           1,
           1,
           1,
           1,
           1,
           1,
           1,
           1,
           1,
           1,
           1,
           1,
           1,
           1,
           1,
           1,
           1,
           1,
           1,
           1,
           1,
           1,
           1,
           1,
           1,
           1,
           1,
           1,
           1,
           1,
           1,
           1,
           1,
           1,
           1,
           1,
           1,
           1,
           1,
           1,
           1,
           1,
           1,
           1,
           1,
           1,
           1,
           1,
           1,
           1,
           1,
           1,
           1,
           1,
           1,
           1,
           1,
           1,
           1,
           1,
           1,
           1,
           1,
           1,
           1,
           1,
           1,
           1,
           1,
           1,
           1,
           1,
           1,
           1,
           1,
           1,
           1,
           1,
           1,
           1,
           1,
           1,
           1,
           1,
           1,
           1,
           1,
           1,
           1,
           1,
           1,
           1,
           1,
           1,
           1,
           1,
           1,
           1,
           1,
           1,
           1,
           1,
           1,
           1,
           1,
           1,
           1,
           1,
           1,
           1,
           1,
           1,
           1,
           1,
           1,
           1,
           1,
           1,
           1,
           1,
           1,
           1,
           1,
           1,
           1,
           1,
           1,
           1,
           1,
           1,
           1,
           1,
           1,
           1,
           1,
           1,
           1,
           1,
           1,
           1,
           1,
           1,
           1,
           1,
           1,
           1,
           1,
           1,
           1,
           1,
           1,
           1,
           1,
           1,
           1,
           1,
           1,
           1,
           1,
           1,
           1,
           1,
           1,
           1,
           1,
           1,
           1,
           1,
           1,
           1,
           1,
           1,
           1,
           1,
           1,
           1,
           1,
           1,
           1,
           1,
           1,
           1,
           1,
           1,
           1,
           1,
           1,
           1,
           1,
           1,
           1,
           1,
           1,
           1,
           1,
           1,
           1,
           1,
           1,
           1,
           1,
           1,
           1,
           1,
           1,
           1,
           1,
           1,
           1,
           1,
           1,
           1,
           1,
           1,
           1,
           1,
           1,
           1,
           1,
           1,
           1,
           1,
           1,
           1,
           1,
           1,
           1,
           1,
           1,
           1,
           1,
           1,
           1,
           1,
           1,
           1,
           1,
           1,
           1,
           1,
           1,
           1
          ],
          "coloraxis": "coloraxis",
          "symbol": "circle"
         },
         "mode": "markers",
         "name": "1",
         "scene": "scene",
         "showlegend": true,
         "type": "scatter3d",
         "x": [
          -0.3343297749271619,
          -0.3176613182221487,
          2.3028700342278814,
          -0.39428057177667947,
          -0.27832593991858007,
          -0.31253120655716266,
          -0.27352852997762256,
          -0.2394119373640407,
          -0.3339892148376413,
          -0.32656450943506193,
          -0.33282587350426573,
          -0.3343257089094661,
          -0.33430998413766305,
          0.7104244343024457,
          -0.3716911680444575,
          -0.37124131500897967,
          -0.2872328595084309,
          -0.33238772392010024,
          -0.3350952289500532,
          -0.3941752347857088,
          -0.3768746098437036,
          -0.03516584305930627,
          -0.27582164686664307,
          -0.29507806202609693,
          -0.28245492929700733,
          -0.2830773337990193,
          -0.3447354674445941,
          -0.32862947998553266,
          -0.33273083801697784,
          0.023924274667234582,
          -0.3549880863058049,
          -0.39454696340538226,
          -0.25844784812799226,
          -0.3225289333857193,
          -0.3944585571568154,
          -0.30955116535612925,
          -0.3330065745663978,
          -0.2881172930861506,
          -0.39442303020131647,
          -0.25891591535213043,
          -0.2828581283432954,
          -0.32542828151285913,
          0.12883647162248782,
          -0.35983341670079905,
          -0.3117425900294665,
          -0.37111255712484514,
          -0.29505834461479435,
          -0.2831527224709907,
          -0.2897097921594649,
          -0.33431183782908275,
          -0.2831048965230732,
          -0.3554330343463909,
          -0.33404609971029703,
          -0.3945284864990095,
          -0.32444060758954313,
          -0.42405723001927037,
          -0.33528310838552006,
          -0.2934591984700626,
          -0.28262631097853125,
          -0.3050838220051271,
          -0.24185473754160952,
          -0.0753583690280849,
          -0.31250211136925926,
          -0.07184711101023995,
          -0.3125658466464189,
          -0.23144113063706806,
          -0.3339219011564468,
          -0.2933279832903992,
          -0.39169610371171726,
          0.8586238145366586,
          -0.31236579329225056,
          -0.02064281053440623,
          -0.3709244530282068,
          -0.3923706694442441,
          -0.31110861208128626,
          -0.30877556677416523,
          -0.35283773719622064,
          -0.39326303012945174,
          -0.3552351592113016,
          -0.31020736599740684,
          -0.33396000659221003,
          -0.33239841859680175,
          -0.24284363790582242,
          -0.34291874833537955,
          -0.3940021367153286,
          -0.3331639003695166,
          -0.31254677369348993,
          -0.39451766927542953,
          -0.33414927026069646,
          -0.3343060691155862,
          -0.29331795743279604,
          -0.2450470525365281,
          0.03954752665165596,
          -0.3698811070321941,
          -0.33392010482671625,
          -0.3806730078944475,
          -0.36920959674785675,
          -0.2442750473338438,
          -0.40748373442879876,
          -0.36895798729747065,
          -0.27509973562491596,
          3.7357143472960983,
          -0.39411003565055447,
          0.8494187987395678,
          -0.39447256338010556,
          -0.3703450458857465,
          -0.333847567622711,
          -0.33400193594377864,
          -0.3709244530282068,
          -0.39404723430800465,
          -0.3124094053240267,
          -0.33384831366651785,
          -0.37634509331213134,
          -0.33399575959571925,
          -0.3295812884300203,
          -0.39450156428937566,
          -0.33320600628498626,
          0.3484537361043077,
          -0.33419512524871703,
          -0.33426573601068665,
          -0.3583720066328957,
          -0.3485881861489711,
          -0.3304904225446119,
          -0.31252317998334844,
          -0.39441147969612766,
          -0.3340434477650689,
          -0.33417043727189144,
          -0.29496472649658334,
          -0.27894341559853136,
          -0.24404280690085656,
          -0.3150162043229899,
          -0.29470581287405134,
          -0.39367683173105145,
          -0.4135111786756992,
          -0.39241478830359633,
          -0.369170293811397,
          -0.3935746848891228,
          -0.3635679255061503,
          -0.3895136773275961,
          -0.33411370730002454,
          -0.33411288376320214,
          -0.32723070187355846,
          0.2594372148790414,
          -0.39405342161382556,
          -0.2775978936915337,
          -0.37095874006468244,
          -0.33332399748534636,
          0.8930380397232991,
          -0.2722181932381731,
          -0.35401300726794027,
          0.5832953127902344,
          -0.3543740121078181,
          -0.3528755725236346,
          -0.4181175154176327,
          -0.2827898558650333,
          0.1308529564325596,
          -0.28286067034491735,
          -0.34995631736851446,
          -0.41762224546021176,
          -0.39432594612676325,
          -0.2950390194214186,
          4.439606739454662,
          -0.37082491571800114,
          -0.33374874041801195,
          -0.3342486587383921,
          -0.33641457350298537,
          0.6437542933164344,
          -0.39426672389841344,
          -0.339732428115904,
          -0.3342042393065926,
          -0.3246774814205635,
          0.4351985229790147,
          -0.31086878934700424,
          -0.3391339390047655,
          -0.3970807061175911,
          -0.33415455300950103,
          -0.3957522482614023,
          -0.35023153530399853,
          -0.33402492278975565,
          -0.09994163968992911,
          -0.39305878808117717,
          3.7405725552457345,
          0.20534786635135627,
          -0.27953013409008987,
          -0.331484047270178,
          -0.31519822042573997,
          -0.3582578656374984,
          0.08033992107390872,
          -0.3331629409900746,
          -0.3936402803482117,
          -0.35742216035132124,
          -0.3207234512971762,
          -0.33427079754002703,
          -0.35540495322207644,
          -0.35551717946439426,
          -0.2764519435401637,
          -0.2959512246980813,
          -0.32981424407200266,
          -0.23583456995684757,
          -0.21813573474725748,
          -0.3065627099463382,
          -0.3743137677512783,
          -0.4134010941938609,
          -0.3943431686280947,
          -0.28470159079131035,
          -0.29419854702669707,
          -0.3204657505883458,
          -0.3539727744244565,
          -0.3342981626395486,
          -0.3342798642861848,
          -0.28857753374853895,
          -0.3497231480424307,
          -0.3704191984740332,
          -0.33399624108661996,
          3.9293052321356994,
          -0.39441985926637163,
          -0.37060794103448624,
          -0.32073579410904435,
          -0.28084030384095016,
          -0.22559022142039112,
          -0.2947331178192259,
          -0.1373313473018006,
          -0.2949852219768018,
          -0.34044871815119,
          -0.33347000973916757,
          -0.20225894178613973,
          2.2558560998703983,
          -0.35396331393908376,
          -0.27234614056633955,
          1.0203615502689967,
          -0.3590112919604974,
          -0.35837143128935095,
          -0.3974372791707386,
          -0.1756485966788791,
          -0.3635449139787911,
          -0.35709041977064016,
          -0.3271707744262602,
          -0.3549821666348902,
          -0.3938162948401636,
          -0.2922294451150705,
          -0.36970721889107994,
          -0.3350024450863092,
          -0.35484341897243205,
          -0.19370314848226267,
          -0.3175168132824662,
          -0.1404252641500653,
          -0.24575547788312582,
          0.6151960748846659,
          -0.1452920356655975,
          -0.39673159838245065,
          -0.33400023286736297,
          -0.39718792360201716,
          -0.35848845850915917,
          0.5729328123600714,
          -0.3554592875797108,
          -0.3334828757352482,
          -0.27915466557497204,
          -0.29514530918196513,
          -0.39137949554711926,
          -0.39404363928773195,
          3.752819003028736,
          0.10113006067582136,
          -0.3915825818664055,
          -0.33286795690309384,
          -0.3336934813347389,
          -0.27356115400543907,
          -0.33421207662005253,
          -0.38566799657079176,
          -0.24786851070259489,
          -0.09212099455951354,
          -0.38141409995587044,
          -0.3334901448136539,
          -0.32655159721724303,
          -0.3906108539799686,
          -0.33192857925481567,
          -0.3712001898387438,
          -0.38429227183865583,
          -0.3110456543528357,
          3.7361063482980175,
          -0.10218918051081397,
          -0.3291222254929328,
          -0.34436110356001537,
          -0.5257303693837422,
          -0.28325998223865834,
          3.745977106027908,
          3.747221625361289,
          -0.2544502108904963,
          -0.43288040663984895,
          -0.3711360372323848,
          -0.4049894578117657,
          2.47835784858074,
          -0.33237406838821026,
          -0.295381894414137
         ],
         "y": [
          0.9950183067277817,
          0.9951886779580584,
          1.6233238693347039,
          1.2535858115554894,
          1.451697345156624,
          0.8283935717085156,
          0.6600207534027921,
          1.8885418507488865,
          0.9950175772828562,
          0.9952745704397868,
          0.9950679374260787,
          0.9950180840720232,
          0.9950182461400647,
          0.18031761133544552,
          0.9024367991553713,
          1.6632847051306994,
          0.2596176522431558,
          0.9949967482379907,
          1.0858879687589214,
          1.253589287810769,
          1.8950883003334964,
          0.8352243617338211,
          0.827894058864411,
          0.8266353781504074,
          1.762232573298673,
          1.7622120331549314,
          0.5311365549772177,
          0.994906653378962,
          0.9950011272931957,
          1.0068411480943473,
          1.0852314790513669,
          1.253592721836425,
          0.17937703032705513,
          1.6810519276170515,
          1.2535885026789682,
          0.9946940500752044,
          0.9949906001567191,
          0.21558764156374072,
          1.2535928869395436,
          0.17943295741411133,
          1.7622192672150248,
          0.9945983283783605,
          0.19254830972962508,
          1.617268178731601,
          0.8283867650658678,
          0.9024590202319145,
          0.8266475771477491,
          1.7622009803640277,
          0.8264672166947618,
          0.9950188987049143,
          1.7622039861594796,
          1.0852025204168794,
          0.9950133936216474,
          1.25359333231168,
          1.95127481986878,
          2.1046283271851203,
          0.9049358906149667,
          0.8266289771101217,
          1.762191230532503,
          0.8279413081376711,
          1.8886922739750833,
          0.9822334502220111,
          0.828394531886888,
          1.2452924585900398,
          0.8284006365402113,
          1.5215519247168494,
          0.9950017900738397,
          0.8265469073900036,
          1.2534127287730272,
          0.7940603979124665,
          0.8283861832549664,
          0.18320827673003337,
          1.6632808872001925,
          1.2536110126036952,
          0.8282972538760079,
          0.8281585018851569,
          1.5174814450928191,
          1.25353588426281,
          1.5918796142592542,
          0.9943868990018955,
          0.994998867154934,
          0.9950106700806868,
          1.5937303117315653,
          1.085160856078337,
          1.253575015575273,
          0.9949925455945636,
          0.8283937717121636,
          1.253591548076774,
          0.9950092751226409,
          0.99501908907983,
          0.8267050121482479,
          0.38836940148991816,
          1.9473819679627873,
          1.663276777043162,
          0.9950318263944643,
          1.2529799722554509,
          1.6633232049404303,
          1.5938240367625012,
          1.868045882303554,
          1.6631452224129433,
          1.945915661815943,
          1.8956173841332857,
          1.2535857295532506,
          1.7989791742093724,
          1.2535924275763166,
          1.6632785962051013,
          0.99500671271248,
          0.9949991488236067,
          1.6632808872001925,
          1.253566389906754,
          0.8283990187828898,
          0.9950106422063327,
          0.8952149500594644,
          0.9950093449974663,
          0.9947106115577772,
          1.253590652083821,
          0.9949526141376971,
          0.8246771325596076,
          0.9950134717617283,
          0.9950180535157805,
          1.5642742769010185,
          0.5925372911117627,
          0.9947881407742412,
          0.8283945503347411,
          1.2535905173707322,
          0.9950134811392282,
          0.9950079104280342,
          0.8266114110183588,
          0.2583848180344194,
          1.5938231184761134,
          0.9949419402279392,
          0.8266346396636706,
          1.253550064103635,
          1.878463769932156,
          1.2535845757587643,
          1.6632743331765987,
          1.25355343507992,
          1.6632524411739043,
          1.2534019579039377,
          0.9950102973467402,
          0.9950050515068825,
          0.9945388462037122,
          0.624087798043469,
          1.2535804604984473,
          0.825796316266452,
          1.6632726182938398,
          0.9949765560996865,
          1.8619274423520258,
          0.6599301100234674,
          1.591872483188995,
          1.798975547319474,
          1.5174878451807743,
          1.5174587843076426,
          1.8759484062285112,
          1.7622001081229959,
          0.9746829794787262,
          1.7622056949515366,
          1.6021316898119438,
          1.8759647507698543,
          1.2535932306923026,
          0.8266357916398429,
          2.0598279404271786,
          1.6632544805397431,
          0.9950030423029926,
          0.9950179859916788,
          1.4522849858907954,
          1.5178062864349373,
          1.2535826998579926,
          0.5310188568492373,
          0.9950112200997183,
          0.7426953181177245,
          1.0025702478642406,
          0.8283927619556406,
          1.5171414376126229,
          1.8498571362908376,
          0.995009100785181,
          1.732575376432372,
          1.5599471793051334,
          0.9950178122979428,
          0.6593346129818274,
          1.2535390558161668,
          1.8955100590644642,
          1.5145543486178943,
          1.762179210079933,
          0.9949623342088587,
          1.3491013146866786,
          1.564274475004518,
          0.9730159847771986,
          0.9949497529132417,
          1.2535869572976908,
          1.5642306804431985,
          0.9948249676897465,
          0.9950173981307476,
          1.0852027333908227,
          1.5918763740123902,
          -0.027846829317160694,
          0.27280886891636597,
          0.995001737588955,
          1.5935333765078687,
          3.222451593338803,
          3.4065855590193186,
          0.9539885448529783,
          3.6777865194689503,
          1.2535816045623176,
          1.4384637582143691,
          0.8265874479263445,
          1.5827715903220334,
          1.5174725369755606,
          0.9950172087865367,
          0.9950163851775061,
          0.8265045826688782,
          1.4959774199279197,
          1.663249026991641,
          0.9950079016295832,
          1.889823869015601,
          1.7326193469714484,
          1.663248508158287,
          0.7719289845294349,
          0.9931277911224958,
          1.0898297298802888,
          0.8266397528326113,
          0.9942393683998519,
          0.8266185857707058,
          1.949045013193112,
          0.9949867260284915,
          1.7202867822351229,
          0.16187450179374896,
          1.5639665451054943,
          0.6599971344525061,
          1.7241330784441518,
          0.9403057827347086,
          1.5642700134538836,
          1.7326588395967242,
          0.8185403364835879,
          0.9110590386072819,
          1.564255903086877,
          0.9945408238860355,
          1.085192418761173,
          1.253581148594583,
          0.8265553622964331,
          1.663185447065285,
          0.7849604784751979,
          1.0851648793547446,
          0.9868118624721355,
          1.3100359667910442,
          0.3010287727469934,
          1.2700894301047434,
          1.0187321952428172,
          1.092151716627006,
          1.73264726252621,
          0.9950141935470288,
          1.7326571583832853,
          1.5642715972349506,
          0.9715714514636153,
          1.085201868148349,
          0.9949863014341835,
          1.4383327686580023,
          1.9470427622990623,
          1.253397482641711,
          1.2535879207180505,
          1.8955573379699362,
          0.9844081714625352,
          1.2536905509281993,
          0.9949238008132553,
          0.9950005805492405,
          0.6600136099864009,
          0.9950221909522654,
          1.2535288702820957,
          0.9903773790766669,
          0.8355474821394074,
          1.2533123847878591,
          0.9950353095386886,
          0.9949895009456763,
          1.2535741614707432,
          0.9949833510371624,
          1.663279638662548,
          0.7095447860324376,
          0.8283833564893156,
          1.8956053980420622,
          0.8258688092874527,
          0.9949760408318318,
          0.5311086559061312,
          2.130477681419209,
          1.76220591987439,
          1.8960452856622925,
          1.896086356390273,
          0.6599455450102842,
          3.4886805422168305,
          1.6632820169090805,
          1.875651516706391,
          0.8313684693147231,
          0.994904412813506,
          0.8266361858519741
         ],
         "z": [
          -0.585508545694486,
          -0.5858479170627624,
          -0.6064910774527429,
          -0.5523627096376174,
          -0.1409363394306791,
          -0.3598622953559605,
          -0.03373347249676603,
          -0.6175447617661776,
          -0.5855146314700634,
          -0.5857022774657741,
          -0.5855460657927497,
          -0.585508575260277,
          -0.5855088956885157,
          -0.4640560759428097,
          -0.42268507897232266,
          -0.03453716186098333,
          -0.45410695303190945,
          -0.5855397454554576,
          -0.22673921116171503,
          -0.5523653376380663,
          -0.698007557912987,
          -0.26586899148466314,
          -0.3604335162381765,
          -0.25938224410117,
          -0.5871554436606148,
          -0.5871399155987609,
          -0.304187666928207,
          -0.5855903792371934,
          -0.585534348049323,
          -0.5944464486616735,
          -0.22624291410975708,
          -0.5523592261986029,
          0.1061108266212522,
          -0.173844614159875,
          -0.5523599943199032,
          -0.5858967147742402,
          -0.5855271813093907,
          -0.3186898236670136,
          -0.5523615275961212,
          0.10610812793675171,
          -0.5871453844471773,
          -0.5855868620338166,
          -0.5414436400808821,
          -0.0390467498621505,
          -0.35987535707885465,
          -0.4227001441300411,
          -0.25938506210029666,
          -0.5871363096126585,
          -0.2594466191781742,
          -0.5855089932043059,
          -0.5871377903238009,
          -0.226228938068925,
          -0.5855127477207012,
          -0.5523596873135571,
          -0.6124813118574395,
          -0.7724589208896433,
          -0.37798393230443317,
          -0.25941058214394497,
          -0.5871439798128703,
          -0.3599074966246171,
          -0.6175303538012599,
          -0.47080737481851637,
          -0.35986302123740244,
          -0.5565932076745992,
          -0.3598630844076491,
          -0.55916451619593,
          -0.5855126835113074,
          -0.25939645292298164,
          -0.5523751461837159,
          -0.2739352078801119,
          -0.35986383444247355,
          -0.4512588180264236,
          -0.034542191841306844,
          -0.5524027394267187,
          -0.35986893020950944,
          -0.35988368035614743,
          -0.5561229137098065,
          -0.5523712755539886,
          -0.09417043135385662,
          -0.5858228385012362,
          -0.5855113973915859,
          -0.5855423538916621,
          -0.2610116865622249,
          -0.2264495740075771,
          -0.5523656308227873,
          -0.585524693891999,
          -0.35986205074180133,
          -0.5523595258992544,
          -0.5855100300070847,
          -0.5855091371250837,
          -0.2594284821586747,
          -0.40616903070538946,
          -0.7168703829909857,
          -0.0345604585826647,
          -0.5855187663570888,
          -0.5524897168613273,
          -0.03458209970412024,
          -0.26100436813652184,
          -0.7348853642311985,
          -0.03455085492527754,
          -0.710816574357188,
          0.08137784985509648,
          -0.5523658141580581,
          -0.6152718028397892,
          -0.5523605285474178,
          -0.03455233430471949,
          -0.5855150354405136,
          -0.5855106867630124,
          -0.034542191841306844,
          -0.552363068079069,
          -0.3598656216398792,
          -0.5855158132727507,
          -0.3643245734187537,
          -0.585512853530343,
          -0.5855334727775001,
          -0.5523596401693402,
          -0.5855158802308749,
          -0.2707652968457542,
          -0.5855100360946451,
          -0.5855096666892402,
          -0.16020722001443718,
          -0.34115934807068093,
          -0.5855324504927826,
          -0.3598626393695977,
          -0.5523612617028211,
          -0.58551281388277,
          -0.5855093677434018,
          -0.2593794907882905,
          -0.415857239900028,
          -0.2610084334818068,
          -0.585846627794043,
          -0.25938890800743897,
          -0.5523665585648261,
          -0.71966571216332,
          -0.5523966070354341,
          -0.0345729751600923,
          -0.5523691069758268,
          -0.03467109640965258,
          -0.552412917995435,
          -0.5855108867547172,
          -0.5855098451998886,
          -0.5855418943403671,
          -0.036249771600172766,
          -0.5523657889674386,
          -0.2595331490081214,
          -0.03453989880480468,
          -0.5855185432689981,
          -0.6329093768417909,
          -0.03373919584344907,
          -0.09419136200354249,
          -0.6199909466259595,
          -0.556096086957035,
          -0.5561176568963498,
          -0.694860356548154,
          -0.5871427748648453,
          -0.5899260284174428,
          -0.5871426041750714,
          -0.1181661702785373,
          -0.6948727127931819,
          -0.5523633736028668,
          -0.2593830419184589,
          2.2266017272783767,
          -0.034538694628431746,
          -0.5855161048089623,
          -0.5855099656251641,
          -0.1399916039975968,
          -0.10760368803100166,
          -0.5523623363083766,
          -0.30425552221718144,
          -0.5855094157614128,
          -0.013710344236847647,
          -0.6011130608176596,
          -0.3598925566957431,
          -0.5563052264798257,
          -0.49940993422830804,
          -0.5855098982103994,
          -0.4863512898603719,
          -0.033251930995125224,
          -0.5855140253043079,
          -0.036772139356379394,
          -0.5523756522746588,
          0.08131055581208856,
          -0.5657488700878209,
          -0.5871982227783697,
          -0.5855493522011109,
          -0.22996767039998717,
          -0.16020934884853563,
          -0.5886658037003184,
          -0.585516092069882,
          -0.5523746585981851,
          -0.16021582218407837,
          -0.5857186167761549,
          -0.585509442047684,
          -0.22622949488837635,
          -0.09416461735242147,
          0.1630870618111982,
          -0.45061617333744214,
          -0.5855878485169727,
          -0.26110029475726154,
          16.379589810347774,
          9.78302952424224,
          -0.43136247427678687,
          12.446388977371443,
          -0.5523607166518935,
          -0.5023993938374494,
          -0.25938868619987504,
          -0.09211818172540528,
          -0.5561003467325998,
          -0.5855089030919808,
          -0.5855090720833019,
          -0.2594748673328438,
          -0.047605595097413266,
          -0.034545021328937255,
          -0.585512553992625,
          0.08735575030660073,
          -0.4863845309739267,
          -0.034541462585176895,
          -0.055246318310955576,
          -0.5861066829124985,
          -0.3280259022527168,
          -0.25938943819452426,
          -0.5889569832406019,
          -0.2593805608455189,
          -0.7102509209011223,
          -0.5855179194965682,
          -0.29140580466750504,
          -0.3832752232280832,
          -0.16022592104261996,
          -0.03375035442042238,
          0.0003327697920885044,
          -0.38138925114478833,
          -0.16020637179267838,
          -0.48633726286098516,
          -0.2599374437726664,
          -0.33983980974240924,
          -0.16022697386802662,
          -0.5855433894405878,
          -0.22623515485259696,
          -0.552370267299746,
          -0.25941826063251755,
          -0.03454524511550982,
          -0.430177393366445,
          -0.2262321470814528,
          -0.5864292426388644,
          -0.20452449351960214,
          0.027437148676441776,
          -0.1762692316805249,
          -0.1594925252923294,
          -0.23147451708557945,
          -0.4863478458814627,
          -0.5855137482672431,
          -0.486341487765813,
          -0.16020454904728607,
          -0.5973899469542251,
          -0.22622832621878727,
          -0.5855175985092,
          -0.5024745257763549,
          -0.7106767363900299,
          -0.5523778696297852,
          -0.5523674706480503,
          0.08107690655787855,
          -0.5913409259028993,
          -0.5524331832301247,
          -0.5855162633508622,
          -0.5855166202726015,
          -0.033731436593773534,
          -0.5855114820973318,
          -0.5525088619811699,
          -0.5861561174766238,
          -0.36533704852022586,
          -0.5525431090322986,
          -0.5855273367773407,
          -0.5856450945583058,
          -0.5524275237632352,
          -0.5855454499236528,
          -0.03453689400891996,
          -0.5573415936346987,
          -0.3598874253651543,
          0.08137308997679558,
          -0.2627579629785715,
          -0.5855953374878193,
          -0.3041888988023791,
          12.338007785259641,
          -0.5871353415417302,
          0.0811038390396738,
          0.08107279014281475,
          -0.03406748244937659,
          17.808097238289,
          -0.03453854711753529,
          0.18119684851957008,
          0.04667050669091091,
          -0.5855213969999638,
          -0.25937684625387764
         ]
        },
        {
         "customdata": [
          [
           "SHA-256"
          ],
          [
           "Ethash"
          ],
          [
           "Scrypt"
          ],
          [
           "CryptoNight-V7"
          ],
          [
           "Ethash"
          ],
          [
           "Equihash"
          ],
          [
           "Multiple"
          ],
          [
           "Scrypt"
          ],
          [
           "X11"
          ],
          [
           "Scrypt"
          ],
          [
           "Multiple"
          ],
          [
           "Scrypt"
          ],
          [
           "SHA-256"
          ],
          [
           "Scrypt"
          ],
          [
           "Scrypt"
          ],
          [
           "Quark"
          ],
          [
           "Groestl"
          ],
          [
           "Scrypt"
          ],
          [
           "Scrypt"
          ],
          [
           "Scrypt"
          ],
          [
           "X11"
          ],
          [
           "Multiple"
          ],
          [
           "SHA-256"
          ],
          [
           "Scrypt"
          ],
          [
           "Scrypt"
          ],
          [
           "Scrypt"
          ],
          [
           "Scrypt"
          ],
          [
           "Scrypt"
          ],
          [
           "NeoScrypt"
          ],
          [
           "Scrypt"
          ],
          [
           "Scrypt"
          ],
          [
           "Scrypt"
          ],
          [
           "Scrypt"
          ],
          [
           "SHA-256"
          ],
          [
           "Scrypt"
          ],
          [
           "Scrypt"
          ],
          [
           "Scrypt"
          ],
          [
           "Scrypt"
          ],
          [
           "HybridScryptHash256"
          ],
          [
           "Scrypt"
          ],
          [
           "Scrypt"
          ],
          [
           "SHA-256"
          ],
          [
           "Scrypt"
          ],
          [
           "Scrypt"
          ],
          [
           "Scrypt"
          ],
          [
           "Scrypt"
          ],
          [
           "SHA-256"
          ],
          [
           "SHA-256"
          ],
          [
           "SHA-256"
          ],
          [
           "SHA-256"
          ],
          [
           "SHA-256"
          ],
          [
           "X11"
          ],
          [
           "Scrypt"
          ],
          [
           "Lyra2REv2"
          ],
          [
           "Scrypt"
          ],
          [
           "SHA-256"
          ],
          [
           "CryptoNight"
          ],
          [
           "CryptoNight"
          ],
          [
           "Scrypt"
          ],
          [
           "Scrypt"
          ],
          [
           "Scrypt"
          ],
          [
           "Scrypt"
          ],
          [
           "Scrypt"
          ],
          [
           "Scrypt"
          ],
          [
           "Stanford Folding"
          ],
          [
           "Multiple"
          ],
          [
           "QuBit"
          ],
          [
           "Scrypt"
          ],
          [
           "Scrypt"
          ],
          [
           "M7 POW"
          ],
          [
           "Scrypt"
          ],
          [
           "SHA-256"
          ],
          [
           "Scrypt"
          ],
          [
           "X11"
          ],
          [
           "Lyra2RE"
          ],
          [
           "SHA-256"
          ],
          [
           "X11"
          ],
          [
           "Scrypt"
          ],
          [
           "Scrypt"
          ],
          [
           "Ethash"
          ],
          [
           "Blake2b"
          ],
          [
           "X11"
          ],
          [
           "SHA-256"
          ],
          [
           "Scrypt"
          ],
          [
           "1GB AES Pattern Search"
          ],
          [
           "Scrypt"
          ],
          [
           "SHA-256"
          ],
          [
           "X11"
          ],
          [
           "Dagger"
          ],
          [
           "Scrypt"
          ],
          [
           "X11GOST"
          ],
          [
           "Scrypt"
          ],
          [
           "X11"
          ],
          [
           "Scrypt"
          ],
          [
           "X11"
          ],
          [
           "Equihash"
          ],
          [
           "CryptoNight"
          ],
          [
           "SHA-256"
          ],
          [
           "Multiple"
          ],
          [
           "Scrypt"
          ],
          [
           "SHA-256"
          ],
          [
           "Scrypt"
          ],
          [
           "Lyra2Z"
          ],
          [
           "Ethash"
          ],
          [
           "Equihash"
          ],
          [
           "Scrypt"
          ],
          [
           "X11"
          ],
          [
           "X11"
          ],
          [
           "CryptoNight"
          ],
          [
           "Scrypt"
          ],
          [
           "CryptoNight"
          ],
          [
           "Lyra2RE"
          ],
          [
           "X11"
          ],
          [
           "CryptoNight-V7"
          ],
          [
           "Scrypt"
          ],
          [
           "X11"
          ],
          [
           "Equihash"
          ],
          [
           "Scrypt"
          ],
          [
           "Lyra2RE"
          ],
          [
           "Dagger-Hashimoto"
          ],
          [
           "Scrypt"
          ],
          [
           "NIST5"
          ],
          [
           "Scrypt"
          ],
          [
           "SHA-256"
          ],
          [
           "Scrypt"
          ],
          [
           "CryptoNight-V7"
          ],
          [
           "Argon2d"
          ],
          [
           "Blake2b"
          ],
          [
           "Cloverhash"
          ],
          [
           "CryptoNight"
          ],
          [
           "X11"
          ],
          [
           "Scrypt"
          ],
          [
           "Scrypt"
          ],
          [
           "X11"
          ],
          [
           "X11"
          ],
          [
           "CryptoNight"
          ],
          [
           "Time Travel"
          ],
          [
           "Scrypt"
          ],
          [
           "Keccak"
          ],
          [
           "X11"
          ],
          [
           "SHA-256"
          ],
          [
           "Scrypt"
          ],
          [
           "Scrypt"
          ],
          [
           "Scrypt"
          ],
          [
           "Scrypt"
          ],
          [
           "Scrypt"
          ],
          [
           "Scrypt"
          ],
          [
           "CryptoNight"
          ],
          [
           "Equihash"
          ],
          [
           "X11"
          ],
          [
           "NeoScrypt"
          ],
          [
           "Equihash"
          ],
          [
           "Dagger"
          ],
          [
           "Scrypt"
          ],
          [
           "X11"
          ],
          [
           "NeoScrypt"
          ],
          [
           "Ethash"
          ],
          [
           "NeoScrypt"
          ],
          [
           "Multiple"
          ],
          [
           "CryptoNight"
          ],
          [
           "CryptoNight"
          ],
          [
           "Ethash"
          ],
          [
           "X11"
          ],
          [
           "CryptoNight-V7"
          ],
          [
           "Scrypt"
          ],
          [
           "BLAKE256"
          ],
          [
           "X11"
          ],
          [
           "NeoScrypt"
          ],
          [
           "NeoScrypt"
          ],
          [
           "Scrypt"
          ],
          [
           "X11"
          ],
          [
           "SHA-256"
          ],
          [
           "C11"
          ],
          [
           "CryptoNight"
          ],
          [
           "SkunkHash"
          ],
          [
           "CryptoNight"
          ],
          [
           "Scrypt"
          ],
          [
           "Dagger"
          ],
          [
           "Lyra2REv2"
          ],
          [
           "Scrypt"
          ],
          [
           "Scrypt"
          ],
          [
           "X11"
          ],
          [
           "Ethash"
          ],
          [
           "CryptoNight"
          ],
          [
           "Scrypt"
          ],
          [
           "IMesh"
          ],
          [
           "Equihash"
          ],
          [
           "Lyra2Z"
          ],
          [
           "X11"
          ],
          [
           "CryptoNight"
          ],
          [
           "NIST5"
          ],
          [
           "Lyra2RE"
          ],
          [
           "Tribus"
          ],
          [
           "Lyra2Z"
          ],
          [
           "CryptoNight"
          ],
          [
           "CryptoNight Heavy"
          ],
          [
           "CryptoNight"
          ],
          [
           "Jump Consistent Hash"
          ],
          [
           "CryptoNight"
          ],
          [
           "X16R"
          ],
          [
           "HMQ1725"
          ],
          [
           "X11"
          ],
          [
           "Scrypt"
          ],
          [
           "CryptoNight-V7"
          ],
          [
           "Cryptonight-GPU"
          ],
          [
           "XEVAN"
          ],
          [
           "CryptoNight Heavy"
          ],
          [
           "SHA-256"
          ],
          [
           "X11"
          ],
          [
           "X16R"
          ],
          [
           "Equihash"
          ],
          [
           "Lyra2Z"
          ],
          [
           "SHA-256"
          ],
          [
           "CryptoNight"
          ],
          [
           "Blake"
          ],
          [
           "Blake"
          ],
          [
           "Equihash"
          ],
          [
           "Exosis"
          ],
          [
           "Scrypt"
          ],
          [
           "Equihash"
          ],
          [
           "Equihash"
          ],
          [
           "QuBit"
          ],
          [
           "SHA-256"
          ],
          [
           "X13"
          ],
          [
           "SHA-256"
          ],
          [
           "Scrypt"
          ],
          [
           "NeoScrypt"
          ],
          [
           "Blake"
          ],
          [
           "Scrypt"
          ],
          [
           "SHA-256"
          ],
          [
           "Scrypt"
          ],
          [
           "Groestl"
          ],
          [
           "Scrypt"
          ],
          [
           "Scrypt"
          ],
          [
           "Multiple"
          ],
          [
           "Equihash+Scrypt"
          ],
          [
           "Ethash"
          ],
          [
           "CryptoNight"
          ],
          [
           "Equihash"
          ]
         ],
         "hovertemplate": "<b>%{hovertext}</b><br><br>Class=%{marker.color}<br>PC 1=%{x}<br>PC 2=%{y}<br>PC 3=%{z}<br>Algorithm=%{customdata[0]}<extra></extra>",
         "hovertext": [
          "Bitcoin",
          "Ethereum",
          "Litecoin",
          "Monero",
          "Ethereum Classic",
          "ZCash",
          "DigiByte",
          "ProsperCoin",
          "Spreadcoin",
          "Argentum",
          "MyriadCoin",
          "MoonCoin",
          "ZetaCoin",
          "SexCoin",
          "Quatloo",
          "QuarkCoin",
          "Riecoin",
          "Digitalcoin ",
          "Catcoin",
          "CannaCoin",
          "CryptCoin",
          "Verge",
          "DevCoin",
          "EarthCoin",
          "E-Gulden",
          "Einsteinium",
          "Emerald",
          "Franko",
          "FeatherCoin",
          "GrandCoin",
          "GlobalCoin",
          "GoldCoin",
          "Infinite Coin",
          "IXcoin",
          "KrugerCoin",
          "LuckyCoin",
          "Litebar ",
          "MegaCoin",
          "MediterraneanCoin",
          "MinCoin",
          "NobleCoin",
          "Namecoin",
          "NyanCoin",
          "RonPaulCoin",
          "StableCoin",
          "SmartCoin",
          "SysCoin",
          "TigerCoin",
          "TerraCoin",
          "UnbreakableCoin",
          "Unobtanium",
          "UroCoin",
          "ViaCoin",
          "Vertcoin",
          "WorldCoin",
          "JouleCoin",
          "ByteCoin",
          "DigitalNote ",
          "MonaCoin",
          "Gulden",
          "PesetaCoin",
          "Wild Beast Coin",
          "Flo",
          "ArtByte",
          "Folding Coin",
          "Unitus",
          "CypherPunkCoin",
          "OmniCron",
          "GreenCoin",
          "Cryptonite",
          "MasterCoin",
          "SoonCoin",
          "1Credit",
          "MarsCoin ",
          "Crypto",
          "Anarchists Prime",
          "BowsCoin",
          "Song Coin",
          "BitZeny",
          "Expanse",
          "Siacoin",
          "MindCoin",
          "I0coin",
          "Revolution VR",
          "HOdlcoin",
          "Gamecredits",
          "CarpeDiemCoin",
          "Adzcoin",
          "SoilCoin",
          "YoCoin",
          "SibCoin",
          "Francs",
          "BolivarCoin",
          "Omni",
          "PizzaCoin",
          "Komodo",
          "Karbo",
          "ZayedCoin",
          "Circuits of Value",
          "DopeCoin",
          "DollarCoin",
          "Shilling",
          "ZCoin",
          "Elementrem",
          "ZClassic",
          "KiloCoin",
          "ArtexCoin",
          "Kurrent",
          "Cannabis Industry Coin",
          "OsmiumCoin",
          "Bikercoins",
          "HexxCoin",
          "PacCoin",
          "Citadel",
          "BeaverCoin",
          "VaultCoin",
          "Zero",
          "Canada eCoin",
          "Zoin",
          "DubaiCoin",
          "EB3coin",
          "Coinonat",
          "BenjiRolls",
          "ILCoin",
          "EquiTrader",
          "Quantum Resistant Ledger",
          "Dynamic",
          "Nano",
          "ChanCoin",
          "Dinastycoin",
          "DigitalPrice",
          "Unify",
          "SocialCoin",
          "ArcticCoin",
          "DAS",
          "LeviarCoin",
          "Bitcore",
          "gCn Coin",
          "SmartCash",
          "Onix",
          "Bitcoin Cash",
          "Sojourn Coin",
          "NewYorkCoin",
          "FrazCoin",
          "Kronecoin",
          "AdCoin",
          "Linx",
          "Sumokoin",
          "BitcoinZ",
          "Elements",
          "VIVO Coin",
          "Bitcoin Gold",
          "Pirl",
          "eBoost",
          "Pura",
          "Innova",
          "Ellaism",
          "GoByte",
          "SHIELD",
          "UltraNote",
          "BitCoal",
          "DaxxCoin",
          "AC3",
          "Lethean",
          "PopularCoin",
          "Photon",
          "Sucre",
          "SparksPay",
          "GunCoin",
          "IrishCoin",
          "Pioneer Coin",
          "UnitedBitcoin",
          "Interzone",
          "TurtleCoin",
          "MUNcoin",
          "Niobio Cash",
          "ShareChain",
          "Travelflex",
          "KREDS",
          "BitFlip",
          "LottoCoin",
          "Crypto Improvement Fund",
          "Callisto Network",
          "BitTube",
          "Poseidon",
          "Aidos Kuneen",
          "Bitrolium",
          "Alpenschillling",
          "FuturoCoin",
          "Monero Classic",
          "Jumpcoin",
          "Infinex",
          "KEYCO",
          "GINcoin",
          "PlatinCoin",
          "Loki",
          "Newton Coin",
          "MassGrid",
          "PluraCoin",
          "Motion",
          "PlusOneCoin",
          "Axe",
          "HexCoin",
          "Webchain",
          "Ryo",
          "Urals Coin",
          "Qwertycoin",
          "Project Pai",
          "Azart",
          "Xchange",
          "CrypticCoin",
          "Actinium",
          "Bitcoin SV",
          "FREDEnergy",
          "Universal Molecule",
          "Lithium",
          "PirateCash",
          "Exosis",
          "Block-Logic",
          "Beam",
          "Bithereum",
          "SLICE",
          "BLAST",
          "Bitcoin Rhodium",
          "GlobalToken",
          "SolarCoin",
          "UFO Coin",
          "BlakeCoin",
          "Crypto Escudo",
          "Crown Coin",
          "SmileyCoin",
          "Groestlcoin",
          "Bata",
          "Pakcoin",
          "JoinCoin",
          "Vollar",
          "Reality Clash",
          "Beldex",
          "Horizen"
         ],
         "legendgroup": "0",
         "marker": {
          "color": [
           0,
           0,
           0,
           0,
           0,
           0,
           0,
           0,
           0,
           0,
           0,
           0,
           0,
           0,
           0,
           0,
           0,
           0,
           0,
           0,
           0,
           0,
           0,
           0,
           0,
           0,
           0,
           0,
           0,
           0,
           0,
           0,
           0,
           0,
           0,
           0,
           0,
           0,
           0,
           0,
           0,
           0,
           0,
           0,
           0,
           0,
           0,
           0,
           0,
           0,
           0,
           0,
           0,
           0,
           0,
           0,
           0,
           0,
           0,
           0,
           0,
           0,
           0,
           0,
           0,
           0,
           0,
           0,
           0,
           0,
           0,
           0,
           0,
           0,
           0,
           0,
           0,
           0,
           0,
           0,
           0,
           0,
           0,
           0,
           0,
           0,
           0,
           0,
           0,
           0,
           0,
           0,
           0,
           0,
           0,
           0,
           0,
           0,
           0,
           0,
           0,
           0,
           0,
           0,
           0,
           0,
           0,
           0,
           0,
           0,
           0,
           0,
           0,
           0,
           0,
           0,
           0,
           0,
           0,
           0,
           0,
           0,
           0,
           0,
           0,
           0,
           0,
           0,
           0,
           0,
           0,
           0,
           0,
           0,
           0,
           0,
           0,
           0,
           0,
           0,
           0,
           0,
           0,
           0,
           0,
           0,
           0,
           0,
           0,
           0,
           0,
           0,
           0,
           0,
           0,
           0,
           0,
           0,
           0,
           0,
           0,
           0,
           0,
           0,
           0,
           0,
           0,
           0,
           0,
           0,
           0,
           0,
           0,
           0,
           0,
           0,
           0,
           0,
           0,
           0,
           0,
           0,
           0,
           0,
           0,
           0,
           0,
           0,
           0,
           0,
           0,
           0,
           0,
           0,
           0,
           0,
           0,
           0,
           0,
           0,
           0,
           0,
           0,
           0,
           0,
           0,
           0,
           0,
           0,
           0,
           0,
           0,
           0,
           0,
           0,
           0,
           0,
           0,
           0,
           0,
           0,
           0,
           0,
           0,
           0,
           0,
           0,
           0,
           0,
           0,
           0,
           0,
           0,
           0,
           0,
           0,
           0,
           0,
           0
          ],
          "coloraxis": "coloraxis",
          "symbol": "diamond"
         },
         "mode": "markers",
         "name": "0",
         "scene": "scene",
         "showlegend": true,
         "type": "scatter3d",
         "x": [
          -0.14478431449190385,
          -0.14655579227494547,
          -0.16541293419712516,
          -0.1489788138715862,
          -0.14499691210787005,
          -0.15498268820817726,
          0.15681662446843891,
          -0.16655967651877837,
          -0.22671821435363038,
          -0.16617600910047003,
          -0.09670912126439471,
          2.5569188874340245,
          -0.14186799268150993,
          -0.16343014331704303,
          -0.16597990792713124,
          -0.22507159173113042,
          -0.20301064057561913,
          -0.16602878767914256,
          -0.16654193651437113,
          -0.16662843519987258,
          -0.22680759059874414,
          0.18056601782934045,
          0.2332278374992576,
          0.08221027454315596,
          -0.1663746300117306,
          -0.16197795641014132,
          -0.16631388359418167,
          -0.16668546091438663,
          -0.17231761216208305,
          -0.1458982340614696,
          -0.16548005299517737,
          -0.1657575908895651,
          1.5829785485284869,
          -0.14474567080349376,
          -0.16304571860666678,
          -0.16640108236930579,
          -0.16675604974947864,
          -0.16601497590771327,
          -0.14849808543931373,
          -0.1666372604605981,
          -0.0314698991148015,
          -0.14482330770193014,
          -0.16029844212257244,
          -0.16661667529841137,
          -0.16470995587785012,
          -0.16610319024866982,
          -0.13196948109892467,
          -0.1442868473663075,
          -0.14457415875223562,
          -0.14455707023964323,
          -0.14514811919718726,
          -0.22698157608964545,
          -0.16633306487148328,
          -0.19530838958065516,
          -0.16343483142272072,
          -0.14435416858174555,
          3.8638985568957387,
          0.46140152205018325,
          -0.16520012829916733,
          -0.1497909937740979,
          -0.16391840184535045,
          -0.16675825753607426,
          -0.16378340675530786,
          -0.15000087050486818,
          -0.1243634042973507,
          -0.13073081740417886,
          -0.18188832044680317,
          -0.1666312907307916,
          -0.039508320351580396,
          -0.11379265934638902,
          -0.16676715667545614,
          -0.14485109467565746,
          0.4857746046066939,
          -0.22636849512386453,
          -0.15524413847173313,
          -0.14459081023310932,
          -0.2266535121797814,
          -0.1648899285880521,
          -0.16408182496522286,
          -0.14762358379788554,
          0.37515392099308,
          -0.22668892985659087,
          -0.1447467935368158,
          -0.16272327101082654,
          -0.09548027843117166,
          -0.16532987247675054,
          0.27391774000651825,
          -0.22584924563280953,
          -0.1537184721879797,
          -0.16557723341236974,
          -0.15929637308207242,
          -0.16655696247317156,
          -0.2266521448748622,
          -0.16676721519557755,
          -0.22680216707937992,
          -0.2820471878705361,
          0.3062357121608681,
          -0.14500698708892026,
          -0.11079437740651542,
          -0.16393260858482203,
          -0.14496560106159445,
          -0.1664304487183682,
          -0.14793078119431888,
          -0.14736563638355954,
          -0.15500431265015474,
          -0.09345060487331852,
          -0.21338006749918423,
          -0.22462921914410283,
          0.3062300934037142,
          -0.16674894313519995,
          0.30636086103459587,
          -0.155784865494199,
          0.48886227328460186,
          -0.14774277229775165,
          -0.16671721830410138,
          -0.21953203682207653,
          -0.15501669867960563,
          -0.16484967751207996,
          -0.15550313010812944,
          -0.15802059034769778,
          -0.13762397404813342,
          -0.18647930250160205,
          -0.16627938984869403,
          -0.11131626335142597,
          -0.16610133029362104,
          -0.14760059903315495,
          -0.14695636503906884,
          -0.025285395937427756,
          -0.15181037065138664,
          0.3423679031443661,
          -0.2258576141617453,
          -0.16642079270283547,
          -0.16618399538923032,
          -0.22625249881545006,
          -0.2268302198791611,
          0.30662527351572805,
          -0.15290146482563483,
          3.244445996386192,
          -0.10725360416343975,
          -0.21769734348628844,
          -0.14478347842333184,
          -0.09229707400909795,
          1.5808493104825228,
          -0.1665186724449468,
          -0.16597001664187788,
          -0.1656708617539118,
          -0.16565778820950247,
          0.3068090068239383,
          0.05741871757873393,
          -0.18119845652583066,
          -0.17700849040331817,
          -0.1548626903343364,
          -0.15247692407321445,
          -0.1648478860543422,
          -0.22237254860268887,
          -0.1768538181745928,
          -0.14572983857672053,
          -0.17695408049908823,
          -0.12095814523834128,
          1.1446066685294884,
          0.30621284242232233,
          -0.07057650914599661,
          -0.22211368732313894,
          -0.13670739025607226,
          -0.08286935429213041,
          1.097997463015194,
          -0.22680420802761017,
          -0.17700605863084787,
          -0.17004071607591076,
          -0.16576934083014633,
          -0.22672958440132968,
          -0.14476287022113313,
          -0.20672902727822495,
          8.048433836093176,
          -0.14948582691082363,
          0.3100891595665647,
          0.026356593145417096,
          -0.1519800672422907,
          -0.18085973524078902,
          -0.1663433035581636,
          0.14086992091527076,
          -0.22086766279059347,
          -0.09874152109898146,
          0.31414039965462004,
          -0.16658042830671035,
          -0.15516972955785968,
          -0.15385335112620718,
          -0.14571305299432138,
          -0.22589840060926555,
          0.30639543398598895,
          -0.18653883138369554,
          -0.15563002282338087,
          -0.14077012394090227,
          -0.14801520544331453,
          0.3103259996503742,
          0.576103980819215,
          2.115818618506383,
          -0.15661305498397915,
          0.32000674199246626,
          -0.19224147483302426,
          -0.15196902210784644,
          -0.22678636004677846,
          -0.1666050166992959,
          -0.13658593655907336,
          -0.15005092941611575,
          -0.11591190837254589,
          3.0998444797973366,
          -0.10459384773006714,
          -0.22675770894338704,
          -0.19166886682447914,
          -0.0495597059052406,
          -0.14741262451768813,
          -0.14478351600170078,
          0.386196878663369,
          -0.1400580687470834,
          -0.14045036511859052,
          -0.28292385537401415,
          -0.15363123636901327,
          -0.1654967646889077,
          -0.15292171186714315,
          -0.15469543469434452,
          -0.18109885072662002,
          -0.14405933556376518,
          -0.11568270214452182,
          -0.14292670630961885,
          0.5297196433203252,
          -0.10213908113350682,
          -0.09088678954471861,
          -0.150151508438617,
          -0.14457352898660714,
          0.549403389321502,
          -0.20257145356345171,
          -0.16668191088568615,
          -0.16463661523650414,
          -0.13146595089717988,
          -0.1239761460708122,
          -0.14739880927608373,
          0.3279798315358873,
          -0.15498374551989327
         ],
         "y": [
          -1.313502746943978,
          -2.001325092676406,
          -1.146900069912021,
          -2.2864855684734873,
          -2.0014235328365353,
          -2.1359095592944,
          -1.7996020145200873,
          -1.1468929483145198,
          -0.8883158832369213,
          -1.1469109775780308,
          -1.7944076463746879,
          -1.3310754769522046,
          -1.3135127058177014,
          -1.146953115959516,
          -1.1469302005940165,
          -0.409258383718299,
          -1.2394862499769668,
          -1.1468948177391678,
          -1.1468923628717107,
          -1.14688960745003,
          -0.8883174052891266,
          -1.7956456841890165,
          -1.316001394190147,
          -1.1483037105505882,
          -1.1468868415433748,
          -1.146940730757194,
          -1.1468926879633667,
          -1.1468901302788737,
          -1.6108434551800173,
          -1.1472100503312368,
          -1.1468922925716207,
          -1.1469030545204635,
          -1.153805719709102,
          -1.31350147165289,
          -1.146951435879841,
          -1.1468870007659357,
          -1.1468854039099892,
          -1.1468899610181782,
          -2.1793978573134085,
          -1.146887657554341,
          -1.1531259100691065,
          -1.3135040337697266,
          -1.146911861115085,
          -1.146894829347069,
          -1.1469953514090918,
          -1.146899438603248,
          -1.313698652812873,
          -1.313504895650203,
          -1.3135108000558022,
          -1.3135373581963652,
          -1.3134999428790786,
          -0.8883102997299869,
          -1.1468868973187132,
          -1.2308443180713013,
          -1.1469642770998958,
          -1.3135056813162231,
          -2.3022954189779976,
          -2.290057945407193,
          -1.1469081212139163,
          -1.1475236534187434,
          -1.1469095505391125,
          -1.146886388928254,
          -1.146900537591199,
          -1.1470452370755426,
          -2.208111542634748,
          -1.7941029277439333,
          -1.5493380267278818,
          -1.146882729410101,
          -1.1498224930672514,
          -2.225236284887782,
          -1.1468852490506698,
          -1.31350495077536,
          -1.1910140862780163,
          -0.8883136206629914,
          -2.244839803184137,
          -1.3135197431469905,
          -0.8883144617215563,
          -1.1469729124744474,
          -1.1469746222864845,
          -2.0013723979163305,
          -2.1967218653583553,
          -0.8883120618549676,
          -1.3135015087045245,
          -1.1469012387089417,
          -1.1486424400655364,
          -1.146897328769127,
          -1.3151055759051204,
          -0.8883328854571597,
          -2.230383634514379,
          -1.1469656968114468,
          -2.1423072556958993,
          -1.1468921450085134,
          -0.8883172715548847,
          -1.1468852488192787,
          -0.8883222224793,
          -1.8595606947566223,
          -2.288048362416514,
          -1.3135020558676789,
          -1.7943014865948994,
          -1.1469340110035704,
          -1.3135013340812065,
          -1.1468951072833173,
          -2.1392116371325094,
          -2.0013705224827407,
          -2.1359102729286126,
          -1.1516026573723182,
          -0.8882183020866631,
          -0.8883954014453115,
          -2.2880563989720586,
          -1.1468861431268107,
          -2.2880549384293096,
          -2.2448178290076206,
          -0.9360604415980263,
          -2.2865768192437823,
          -1.1468855570381407,
          -0.888778194451225,
          -2.135907826727271,
          -1.146892901546355,
          -2.244816382510033,
          -2.1936474407210524,
          -1.1487780007833954,
          -0.6244316109886007,
          -1.1468940622725936,
          -1.3141676175645582,
          -1.1469142229942728,
          -2.286515028221654,
          -2.151382850606073,
          -2.2101797472203706,
          -2.2626800192905656,
          -2.2882762946307467,
          -0.8883445814538583,
          -1.146887135056054,
          -1.146919092265143,
          -0.8883290635905496,
          -0.8883187944494223,
          -2.288066910911624,
          -2.09716958437131,
          -1.1770582216369152,
          -1.358263879632257,
          -0.8887890211306159,
          -1.3135027193526476,
          -1.1519214588973086,
          -1.0892112307603818,
          -1.1468908813886631,
          -1.146918454344415,
          -1.146920001675468,
          -1.1469195702317998,
          -2.2880857490389532,
          -2.1438735727471014,
          -0.8880841285546346,
          -1.6107777147933167,
          -2.135905599211256,
          -2.2304328118858625,
          -1.1468928424259603,
          -0.8884080045965638,
          -1.6107854577147829,
          -2.0014976820787966,
          -1.6107793451443293,
          -1.7942514848398028,
          -2.3210417303073063,
          -2.288050901494691,
          -2.005955069608036,
          -0.8885422096505188,
          -2.2867939647886066,
          -1.1476847674115438,
          -1.1906987269835287,
          -0.8883185783902201,
          -1.6107733521075116,
          -1.610885367901901,
          -1.146897557005557,
          -0.8883183996801248,
          -1.3135014439972912,
          -1.1879164506091608,
          -2.7462778301077977,
          -2.260728957975546,
          -2.288153872654264,
          -1.1476488667738298,
          -2.2303762266626257,
          -1.2310926528777415,
          -1.1468993687720404,
          -1.1498701703308776,
          -0.8884654022973183,
          -2.0043864643649743,
          -2.288494099274454,
          -1.146893633150034,
          -2.2394025230118815,
          -2.135907262940561,
          -2.1393372969635815,
          -0.8883459274587345,
          -2.2880490868001173,
          -0.6244141247015951,
          -2.2448243386738542,
          -2.0694241584080855,
          -2.1392066434851102,
          -2.2883344841037343,
          -2.3043271611150344,
          -2.359650659566536,
          -2.089888831954932,
          -2.288300502482553,
          -1.2015803339619775,
          -2.246099585123892,
          -0.8883188458708912,
          -1.14689523346775,
          -2.287325630999573,
          -2.1098062275125797,
          -0.7035059216184131,
          -2.3525968791925904,
          -1.3136602736468026,
          -0.8883207553040134,
          -1.2016170547807852,
          -2.1378398943339674,
          -2.13923921736375,
          -1.3135027205927816,
          -2.2911694157730613,
          -2.2113505380769696,
          -2.211306462889442,
          -0.16242557818780073,
          -2.135964028992755,
          -1.146928531030589,
          -2.136014126540613,
          -2.1359071355855477,
          -1.54938334712195,
          -1.3135095124916112,
          -0.379698123132167,
          -1.3135463631387805,
          -1.1939176519673176,
          -1.6111426138194018,
          -2.214648968035882,
          -1.1470502083198093,
          -1.3135107792727314,
          -1.1589372156427993,
          -1.2394867447641906,
          -1.1468855623802412,
          -1.1469443968198838,
          -1.7941291865576934,
          -2.270311010642002,
          -2.0013703913159784,
          -2.288323034840562,
          -2.135909594187037
         ],
         "z": [
          0.2129357724291053,
          0.4097261130665428,
          -0.01272744656291398,
          0.4699705527768912,
          0.4097174114870384,
          0.3698207842080791,
          0.34863523624485043,
          -0.012707894101383824,
          0.020439818248283042,
          -0.01271128423724242,
          0.3522288348095203,
          -0.025452785710162275,
          0.21288440580330453,
          -0.012753049636253825,
          -0.012711001214033431,
          0.08638048549292125,
          0.15010128614760054,
          -0.012717233528939177,
          -0.01270833668797323,
          -0.01270730864927534,
          0.02044176052674442,
          0.3474036995390439,
          0.20652093035573166,
          -0.016976556123761803,
          -0.01271251073509714,
          -0.012782121234398409,
          -0.012712444878581544,
          -0.01270615969386161,
          0.2685417733253662,
          -0.013022154657535699,
          -0.012727784725921424,
          -0.012720537722649361,
          -0.043334382966067946,
          0.2129348083268531,
          -0.012760423523466872,
          -0.012711994550940992,
          -0.012705819818331384,
          -0.012718464552303164,
          0.4023196568179982,
          -0.012707539886840539,
          -0.013924761808549811,
          0.21293674525140494,
          -0.012818673551341206,
          -0.012706472067043034,
          -0.012721120226133087,
          -0.012714941120269446,
          0.21274070368518275,
          0.2129271009166899,
          0.21293354837259829,
          0.21293858501931587,
          0.21294186573826548,
          0.020443513477480836,
          -0.012713260197967988,
          0.23295071473308565,
          -0.012750715740415171,
          0.21292849123458144,
          0.3827750049826457,
          0.44258032301331346,
          -0.012729719485395695,
          -0.012887745480739872,
          -0.012752888883609106,
          -0.012705581008728001,
          -0.012757174877384581,
          -0.012980267951664294,
          0.4473795175129478,
          0.35279010002706335,
          0.2316536516646018,
          -0.012708641776634545,
          -0.014443028315822155,
          0.4358178454473092,
          -0.012705647738889363,
          0.21293743849485897,
          -0.015759517175546068,
          0.02043296219037738,
          0.43685533639580393,
          0.21293565445056375,
          0.020438347788392815,
          -0.012722346177836916,
          -0.0127367911533711,
          0.4097551833766578,
          0.4375441506714867,
          0.02043851259338102,
          0.21293483633737095,
          -0.012776435548346544,
          0.21145041014070912,
          -0.01272951882866214,
          0.205595813771691,
          0.020427339585453775,
          0.48999182335022645,
          -0.012711220979225172,
          0.4086514895182121,
          -0.01270810557538436,
          0.020438888726659048,
          -0.012705646714500448,
          0.020442631556384348,
          0.28971334165455787,
          0.44501528942925506,
          0.21293970843536483,
          0.352465230797343,
          -0.01274770200998916,
          0.21293880563257817,
          -0.012709824278233499,
          0.3513284661728589,
          0.4097500848433097,
          0.36982132370557796,
          -0.013097248958676332,
          0.02017605748188836,
          0.020417603565733886,
          0.4450170109976664,
          -0.012705800984403723,
          0.4450143235912488,
          0.43686080633932095,
          0.01696054159492162,
          0.46996631147216095,
          -0.01270649964197584,
          0.020401421229532937,
          0.369821057668016,
          -0.012739198773237394,
          0.436855358851586,
          0.3936394513289397,
          -0.012857765155271685,
          0.016703935971728485,
          -0.012712799344037169,
          0.21245718212159898,
          -0.012711997260871327,
          0.46995126345215277,
          0.39729876352970583,
          0.44758343287191515,
          0.5502690579127582,
          0.4443999328942716,
          0.020429848569660212,
          -0.01271160677671234,
          -0.012709503602457059,
          0.020433949846632497,
          0.020442454479818968,
          0.44501189601111085,
          0.47132852262344715,
          -0.06905788133134745,
          0.1417900552389617,
          0.020370024635601943,
          0.21293575157044706,
          -0.013054146519254165,
          -0.05630615503185637,
          -0.01270906085434647,
          -0.01271354818873342,
          -0.012718711454042894,
          -0.012719037619431465,
          0.44501232785769324,
          0.36753768267070686,
          0.019560065804390944,
          0.2686143810752203,
          0.36981779044051805,
          0.48997900676764844,
          -0.012739243467429863,
          0.020378842049002352,
          0.2686131099615026,
          0.4097457602901391,
          0.2686137136900264,
          0.35264116979549964,
          0.4363175724743847,
          0.4450162194015926,
          0.40926816973861263,
          0.020401136371065325,
          0.4698080871843797,
          -0.014080048442246763,
          0.08983801380887094,
          0.02044193490936753,
          0.26861345783041246,
          0.2685085452415695,
          -0.012721430002633377,
          0.020440533201835333,
          0.21293511752858552,
          0.14144030879651107,
          0.3956202029027556,
          0.42895070481899367,
          0.4449660182913605,
          -0.01608625944202198,
          0.4899585161290811,
          0.23273630522941582,
          -0.012710560793501812,
          -0.017734586328716717,
          0.02036286179073771,
          0.40946767551121754,
          0.4449604042872933,
          -0.012707376375298144,
          0.49989778240614535,
          0.3697996533045791,
          0.3513131894356204,
          0.020430866130551464,
          0.44501251221450466,
          0.016701503309423143,
          0.43685928370176524,
          0.43280592241554816,
          0.35132900541910217,
          0.44499806289148547,
          0.37130507411924396,
          0.42631978562742545,
          0.3123515213884293,
          0.4448140478159237,
          0.19142464351206556,
          0.40686897031158653,
          0.020441662144071938,
          -0.012706604036157232,
          0.4699129535998257,
          0.5075091774596493,
          0.07039436604285078,
          0.33483984768437314,
          0.21223196285360318,
          0.020441522392354607,
          0.1914215603998093,
          0.36828021529995636,
          0.35132453847841344,
          0.21293575250797128,
          0.44418054220732367,
          0.45761870657350534,
          0.4576170084130722,
          0.12314480246950008,
          0.5471841351485143,
          -0.012720179663146442,
          0.3698041277309666,
          0.3698150388996024,
          0.2316483318373105,
          0.21292386708132705,
          -0.014332613778937813,
          0.21291056098715364,
          -0.015978928213289563,
          0.26731767013012464,
          0.45738318267977707,
          -0.012976509760415247,
          0.21293353266088738,
          -0.023384990271514177,
          0.15009334810323485,
          -0.012707144738585209,
          -0.01273272582365293,
          0.3528088430440531,
          0.5543322843550782,
          0.4097506655314286,
          0.4446726682022785,
          0.36982081058642474
         ]
        },
        {
         "customdata": [
          [
           "TRC10"
          ]
         ],
         "hovertemplate": "<b>%{hovertext}</b><br><br>Class=%{marker.color}<br>PC 1=%{x}<br>PC 2=%{y}<br>PC 3=%{z}<br>Algorithm=%{customdata[0]}<extra></extra>",
         "hovertext": [
          "BitTorrent"
         ],
         "legendgroup": "2",
         "marker": {
          "color": [
           2
          ],
          "coloraxis": "coloraxis",
          "symbol": "square"
         },
         "mode": "markers",
         "name": "2",
         "scene": "scene",
         "showlegend": true,
         "type": "scatter3d",
         "x": [
          34.0758067949422
         ],
         "y": [
          1.7981886192464933
         ],
         "z": [
          -0.5924368543855926
         ]
        }
       ],
       "layout": {
        "autosize": true,
        "coloraxis": {
         "colorbar": {
          "title": {
           "text": "Class"
          }
         },
         "colorscale": [
          [
           0,
           "#0d0887"
          ],
          [
           0.1111111111111111,
           "#46039f"
          ],
          [
           0.2222222222222222,
           "#7201a8"
          ],
          [
           0.3333333333333333,
           "#9c179e"
          ],
          [
           0.4444444444444444,
           "#bd3786"
          ],
          [
           0.5555555555555556,
           "#d8576b"
          ],
          [
           0.6666666666666666,
           "#ed7953"
          ],
          [
           0.7777777777777778,
           "#fb9f3a"
          ],
          [
           0.8888888888888888,
           "#fdca26"
          ],
          [
           1,
           "#f0f921"
          ]
         ]
        },
        "legend": {
         "title": {
          "text": "Class"
         },
         "tracegroupgap": 0,
         "x": 0,
         "y": 1
        },
        "margin": {
         "t": 60
        },
        "scene": {
         "aspectmode": "auto",
         "aspectratio": {
          "x": 1,
          "y": 1,
          "z": 1
         },
         "camera": {
          "center": {
           "x": 0,
           "y": 0,
           "z": 0
          },
          "eye": {
           "x": 0.7293571088865421,
           "y": 0.7293571088865419,
           "z": 0.7293571088865419
          },
          "projection": {
           "type": "perspective"
          },
          "up": {
           "x": 0,
           "y": 0,
           "z": 1
          }
         },
         "domain": {
          "x": [
           0,
           1
          ],
          "y": [
           0,
           1
          ]
         },
         "xaxis": {
          "title": {
           "text": "PC 1"
          },
          "type": "linear"
         },
         "yaxis": {
          "title": {
           "text": "PC 2"
          },
          "type": "linear"
         },
         "zaxis": {
          "title": {
           "text": "PC 3"
          },
          "type": "linear"
         }
        },
        "template": {
         "data": {
          "bar": [
           {
            "error_x": {
             "color": "#2a3f5f"
            },
            "error_y": {
             "color": "#2a3f5f"
            },
            "marker": {
             "line": {
              "color": "#E5ECF6",
              "width": 0.5
             }
            },
            "type": "bar"
           }
          ],
          "barpolar": [
           {
            "marker": {
             "line": {
              "color": "#E5ECF6",
              "width": 0.5
             }
            },
            "type": "barpolar"
           }
          ],
          "carpet": [
           {
            "aaxis": {
             "endlinecolor": "#2a3f5f",
             "gridcolor": "white",
             "linecolor": "white",
             "minorgridcolor": "white",
             "startlinecolor": "#2a3f5f"
            },
            "baxis": {
             "endlinecolor": "#2a3f5f",
             "gridcolor": "white",
             "linecolor": "white",
             "minorgridcolor": "white",
             "startlinecolor": "#2a3f5f"
            },
            "type": "carpet"
           }
          ],
          "choropleth": [
           {
            "colorbar": {
             "outlinewidth": 0,
             "ticks": ""
            },
            "type": "choropleth"
           }
          ],
          "contour": [
           {
            "colorbar": {
             "outlinewidth": 0,
             "ticks": ""
            },
            "colorscale": [
             [
              0,
              "#0d0887"
             ],
             [
              0.1111111111111111,
              "#46039f"
             ],
             [
              0.2222222222222222,
              "#7201a8"
             ],
             [
              0.3333333333333333,
              "#9c179e"
             ],
             [
              0.4444444444444444,
              "#bd3786"
             ],
             [
              0.5555555555555556,
              "#d8576b"
             ],
             [
              0.6666666666666666,
              "#ed7953"
             ],
             [
              0.7777777777777778,
              "#fb9f3a"
             ],
             [
              0.8888888888888888,
              "#fdca26"
             ],
             [
              1,
              "#f0f921"
             ]
            ],
            "type": "contour"
           }
          ],
          "contourcarpet": [
           {
            "colorbar": {
             "outlinewidth": 0,
             "ticks": ""
            },
            "type": "contourcarpet"
           }
          ],
          "heatmap": [
           {
            "colorbar": {
             "outlinewidth": 0,
             "ticks": ""
            },
            "colorscale": [
             [
              0,
              "#0d0887"
             ],
             [
              0.1111111111111111,
              "#46039f"
             ],
             [
              0.2222222222222222,
              "#7201a8"
             ],
             [
              0.3333333333333333,
              "#9c179e"
             ],
             [
              0.4444444444444444,
              "#bd3786"
             ],
             [
              0.5555555555555556,
              "#d8576b"
             ],
             [
              0.6666666666666666,
              "#ed7953"
             ],
             [
              0.7777777777777778,
              "#fb9f3a"
             ],
             [
              0.8888888888888888,
              "#fdca26"
             ],
             [
              1,
              "#f0f921"
             ]
            ],
            "type": "heatmap"
           }
          ],
          "heatmapgl": [
           {
            "colorbar": {
             "outlinewidth": 0,
             "ticks": ""
            },
            "colorscale": [
             [
              0,
              "#0d0887"
             ],
             [
              0.1111111111111111,
              "#46039f"
             ],
             [
              0.2222222222222222,
              "#7201a8"
             ],
             [
              0.3333333333333333,
              "#9c179e"
             ],
             [
              0.4444444444444444,
              "#bd3786"
             ],
             [
              0.5555555555555556,
              "#d8576b"
             ],
             [
              0.6666666666666666,
              "#ed7953"
             ],
             [
              0.7777777777777778,
              "#fb9f3a"
             ],
             [
              0.8888888888888888,
              "#fdca26"
             ],
             [
              1,
              "#f0f921"
             ]
            ],
            "type": "heatmapgl"
           }
          ],
          "histogram": [
           {
            "marker": {
             "colorbar": {
              "outlinewidth": 0,
              "ticks": ""
             }
            },
            "type": "histogram"
           }
          ],
          "histogram2d": [
           {
            "colorbar": {
             "outlinewidth": 0,
             "ticks": ""
            },
            "colorscale": [
             [
              0,
              "#0d0887"
             ],
             [
              0.1111111111111111,
              "#46039f"
             ],
             [
              0.2222222222222222,
              "#7201a8"
             ],
             [
              0.3333333333333333,
              "#9c179e"
             ],
             [
              0.4444444444444444,
              "#bd3786"
             ],
             [
              0.5555555555555556,
              "#d8576b"
             ],
             [
              0.6666666666666666,
              "#ed7953"
             ],
             [
              0.7777777777777778,
              "#fb9f3a"
             ],
             [
              0.8888888888888888,
              "#fdca26"
             ],
             [
              1,
              "#f0f921"
             ]
            ],
            "type": "histogram2d"
           }
          ],
          "histogram2dcontour": [
           {
            "colorbar": {
             "outlinewidth": 0,
             "ticks": ""
            },
            "colorscale": [
             [
              0,
              "#0d0887"
             ],
             [
              0.1111111111111111,
              "#46039f"
             ],
             [
              0.2222222222222222,
              "#7201a8"
             ],
             [
              0.3333333333333333,
              "#9c179e"
             ],
             [
              0.4444444444444444,
              "#bd3786"
             ],
             [
              0.5555555555555556,
              "#d8576b"
             ],
             [
              0.6666666666666666,
              "#ed7953"
             ],
             [
              0.7777777777777778,
              "#fb9f3a"
             ],
             [
              0.8888888888888888,
              "#fdca26"
             ],
             [
              1,
              "#f0f921"
             ]
            ],
            "type": "histogram2dcontour"
           }
          ],
          "mesh3d": [
           {
            "colorbar": {
             "outlinewidth": 0,
             "ticks": ""
            },
            "type": "mesh3d"
           }
          ],
          "parcoords": [
           {
            "line": {
             "colorbar": {
              "outlinewidth": 0,
              "ticks": ""
             }
            },
            "type": "parcoords"
           }
          ],
          "pie": [
           {
            "automargin": true,
            "type": "pie"
           }
          ],
          "scatter": [
           {
            "marker": {
             "colorbar": {
              "outlinewidth": 0,
              "ticks": ""
             }
            },
            "type": "scatter"
           }
          ],
          "scatter3d": [
           {
            "line": {
             "colorbar": {
              "outlinewidth": 0,
              "ticks": ""
             }
            },
            "marker": {
             "colorbar": {
              "outlinewidth": 0,
              "ticks": ""
             }
            },
            "type": "scatter3d"
           }
          ],
          "scattercarpet": [
           {
            "marker": {
             "colorbar": {
              "outlinewidth": 0,
              "ticks": ""
             }
            },
            "type": "scattercarpet"
           }
          ],
          "scattergeo": [
           {
            "marker": {
             "colorbar": {
              "outlinewidth": 0,
              "ticks": ""
             }
            },
            "type": "scattergeo"
           }
          ],
          "scattergl": [
           {
            "marker": {
             "colorbar": {
              "outlinewidth": 0,
              "ticks": ""
             }
            },
            "type": "scattergl"
           }
          ],
          "scattermapbox": [
           {
            "marker": {
             "colorbar": {
              "outlinewidth": 0,
              "ticks": ""
             }
            },
            "type": "scattermapbox"
           }
          ],
          "scatterpolar": [
           {
            "marker": {
             "colorbar": {
              "outlinewidth": 0,
              "ticks": ""
             }
            },
            "type": "scatterpolar"
           }
          ],
          "scatterpolargl": [
           {
            "marker": {
             "colorbar": {
              "outlinewidth": 0,
              "ticks": ""
             }
            },
            "type": "scatterpolargl"
           }
          ],
          "scatterternary": [
           {
            "marker": {
             "colorbar": {
              "outlinewidth": 0,
              "ticks": ""
             }
            },
            "type": "scatterternary"
           }
          ],
          "surface": [
           {
            "colorbar": {
             "outlinewidth": 0,
             "ticks": ""
            },
            "colorscale": [
             [
              0,
              "#0d0887"
             ],
             [
              0.1111111111111111,
              "#46039f"
             ],
             [
              0.2222222222222222,
              "#7201a8"
             ],
             [
              0.3333333333333333,
              "#9c179e"
             ],
             [
              0.4444444444444444,
              "#bd3786"
             ],
             [
              0.5555555555555556,
              "#d8576b"
             ],
             [
              0.6666666666666666,
              "#ed7953"
             ],
             [
              0.7777777777777778,
              "#fb9f3a"
             ],
             [
              0.8888888888888888,
              "#fdca26"
             ],
             [
              1,
              "#f0f921"
             ]
            ],
            "type": "surface"
           }
          ],
          "table": [
           {
            "cells": {
             "fill": {
              "color": "#EBF0F8"
             },
             "line": {
              "color": "white"
             }
            },
            "header": {
             "fill": {
              "color": "#C8D4E3"
             },
             "line": {
              "color": "white"
             }
            },
            "type": "table"
           }
          ]
         },
         "layout": {
          "annotationdefaults": {
           "arrowcolor": "#2a3f5f",
           "arrowhead": 0,
           "arrowwidth": 1
          },
          "autotypenumbers": "strict",
          "coloraxis": {
           "colorbar": {
            "outlinewidth": 0,
            "ticks": ""
           }
          },
          "colorscale": {
           "diverging": [
            [
             0,
             "#8e0152"
            ],
            [
             0.1,
             "#c51b7d"
            ],
            [
             0.2,
             "#de77ae"
            ],
            [
             0.3,
             "#f1b6da"
            ],
            [
             0.4,
             "#fde0ef"
            ],
            [
             0.5,
             "#f7f7f7"
            ],
            [
             0.6,
             "#e6f5d0"
            ],
            [
             0.7,
             "#b8e186"
            ],
            [
             0.8,
             "#7fbc41"
            ],
            [
             0.9,
             "#4d9221"
            ],
            [
             1,
             "#276419"
            ]
           ],
           "sequential": [
            [
             0,
             "#0d0887"
            ],
            [
             0.1111111111111111,
             "#46039f"
            ],
            [
             0.2222222222222222,
             "#7201a8"
            ],
            [
             0.3333333333333333,
             "#9c179e"
            ],
            [
             0.4444444444444444,
             "#bd3786"
            ],
            [
             0.5555555555555556,
             "#d8576b"
            ],
            [
             0.6666666666666666,
             "#ed7953"
            ],
            [
             0.7777777777777778,
             "#fb9f3a"
            ],
            [
             0.8888888888888888,
             "#fdca26"
            ],
            [
             1,
             "#f0f921"
            ]
           ],
           "sequentialminus": [
            [
             0,
             "#0d0887"
            ],
            [
             0.1111111111111111,
             "#46039f"
            ],
            [
             0.2222222222222222,
             "#7201a8"
            ],
            [
             0.3333333333333333,
             "#9c179e"
            ],
            [
             0.4444444444444444,
             "#bd3786"
            ],
            [
             0.5555555555555556,
             "#d8576b"
            ],
            [
             0.6666666666666666,
             "#ed7953"
            ],
            [
             0.7777777777777778,
             "#fb9f3a"
            ],
            [
             0.8888888888888888,
             "#fdca26"
            ],
            [
             1,
             "#f0f921"
            ]
           ]
          },
          "colorway": [
           "#636efa",
           "#EF553B",
           "#00cc96",
           "#ab63fa",
           "#FFA15A",
           "#19d3f3",
           "#FF6692",
           "#B6E880",
           "#FF97FF",
           "#FECB52"
          ],
          "font": {
           "color": "#2a3f5f"
          },
          "geo": {
           "bgcolor": "white",
           "lakecolor": "white",
           "landcolor": "#E5ECF6",
           "showlakes": true,
           "showland": true,
           "subunitcolor": "white"
          },
          "hoverlabel": {
           "align": "left"
          },
          "hovermode": "closest",
          "mapbox": {
           "style": "light"
          },
          "paper_bgcolor": "white",
          "plot_bgcolor": "#E5ECF6",
          "polar": {
           "angularaxis": {
            "gridcolor": "white",
            "linecolor": "white",
            "ticks": ""
           },
           "bgcolor": "#E5ECF6",
           "radialaxis": {
            "gridcolor": "white",
            "linecolor": "white",
            "ticks": ""
           }
          },
          "scene": {
           "xaxis": {
            "backgroundcolor": "#E5ECF6",
            "gridcolor": "white",
            "gridwidth": 2,
            "linecolor": "white",
            "showbackground": true,
            "ticks": "",
            "zerolinecolor": "white"
           },
           "yaxis": {
            "backgroundcolor": "#E5ECF6",
            "gridcolor": "white",
            "gridwidth": 2,
            "linecolor": "white",
            "showbackground": true,
            "ticks": "",
            "zerolinecolor": "white"
           },
           "zaxis": {
            "backgroundcolor": "#E5ECF6",
            "gridcolor": "white",
            "gridwidth": 2,
            "linecolor": "white",
            "showbackground": true,
            "ticks": "",
            "zerolinecolor": "white"
           }
          },
          "shapedefaults": {
           "line": {
            "color": "#2a3f5f"
           }
          },
          "ternary": {
           "aaxis": {
            "gridcolor": "white",
            "linecolor": "white",
            "ticks": ""
           },
           "baxis": {
            "gridcolor": "white",
            "linecolor": "white",
            "ticks": ""
           },
           "bgcolor": "#E5ECF6",
           "caxis": {
            "gridcolor": "white",
            "linecolor": "white",
            "ticks": ""
           }
          },
          "title": {
           "x": 0.05
          },
          "xaxis": {
           "automargin": true,
           "gridcolor": "white",
           "linecolor": "white",
           "ticks": "",
           "title": {
            "standoff": 15
           },
           "zerolinecolor": "white",
           "zerolinewidth": 2
          },
          "yaxis": {
           "automargin": true,
           "gridcolor": "white",
           "linecolor": "white",
           "ticks": "",
           "title": {
            "standoff": 15
           },
           "zerolinecolor": "white",
           "zerolinewidth": 2
          }
         }
        }
       }
      },
      "image/png": "[encoded data removed]",
      "text/html": [
       "<div>                            <div id=\"f0ac266e-a8bd-4c17-a068-533887eb8ce9\" class=\"plotly-graph-div\" style=\"height:525px; width:800px;\"></div>            <script type=\"text/javascript\">                require([\"plotly\"], function(Plotly) {                    window.PLOTLYENV=window.PLOTLYENV || {};                                    if (document.getElementById(\"f0ac266e-a8bd-4c17-a068-533887eb8ce9\")) {                    Plotly.newPlot(                        \"f0ac266e-a8bd-4c17-a068-533887eb8ce9\",                        [{\"customdata\": [[\"Scrypt\"], [\"Scrypt\"], [\"X13\"], [\"X11\"], [\"SHA-512\"], [\"SHA-256\"], [\"SHA-256\"], [\"X15\"], [\"Scrypt\"], [\"Scrypt\"], [\"Scrypt\"], [\"Scrypt\"], [\"Scrypt\"], [\"Scrypt\"], [\"Groestl\"], [\"PoS\"], [\"Scrypt\"], [\"Scrypt\"], [\"X11\"], [\"X11\"], [\"SHA3\"], [\"Scrypt\"], [\"SHA-256\"], [\"Scrypt\"], [\"X13\"], [\"X13\"], [\"NeoScrypt\"], [\"Scrypt\"], [\"Scrypt\"], [\"Scrypt\"], [\"X11\"], [\"X11\"], [\"Multiple\"], [\"PHI1612\"], [\"X11\"], [\"Scrypt\"], [\"Scrypt\"], [\"Scrypt\"], [\"X11\"], [\"Multiple\"], [\"X13\"], [\"Scrypt\"], [\"Shabal256\"], [\"Counterparty\"], [\"SHA-256\"], [\"Groestl\"], [\"Scrypt\"], [\"X13\"], [\"Scrypt\"], [\"Scrypt\"], [\"X13\"], [\"X11\"], [\"Scrypt\"], [\"X11\"], [\"SHA3\"], [\"QUAIT\"], [\"X11\"], [\"Scrypt\"], [\"X13\"], [\"SHA-256\"], [\"X15\"], [\"BLAKE256\"], [\"SHA-256\"], [\"X11\"], [\"SHA-256\"], [\"NIST5\"], [\"Scrypt\"], [\"Scrypt\"], [\"X11\"], [\"Scrypt\"], [\"SHA-256\"], [\"Scrypt\"], [\"PoS\"], [\"X11\"], [\"SHA-256\"], [\"SHA-256\"], [\"NIST5\"], [\"X11\"], [\"POS 3.0\"], [\"Scrypt\"], [\"Scrypt\"], [\"Scrypt\"], [\"X13\"], [\"X11\"], [\"X11\"], [\"Scrypt\"], [\"SHA-256\"], [\"X11\"], [\"Scrypt\"], [\"Scrypt\"], [\"Scrypt\"], [\"Scrypt\"], [\"SHA-256D\"], [\"PoS\"], [\"Scrypt\"], [\"X11\"], [\"PoS\"], [\"X13\"], [\"X14\"], [\"PoS\"], [\"SHA-256D\"], [\"DPoS\"], [\"X11\"], [\"X13\"], [\"X11\"], [\"PoS\"], [\"Scrypt\"], [\"Scrypt\"], [\"PoS\"], [\"X11\"], [\"SHA-256\"], [\"Scrypt\"], [\"X11\"], [\"Scrypt\"], [\"Scrypt\"], [\"X11\"], [\"Scrypt\"], [\"Scrypt\"], [\"Scrypt\"], [\"Scrypt\"], [\"Quark\"], [\"QuBit\"], [\"Scrypt\"], [\"SHA-256\"], [\"X11\"], [\"Scrypt\"], [\"Scrypt\"], [\"Scrypt\"], [\"Scrypt\"], [\"X13\"], [\"Scrypt\"], [\"Scrypt\"], [\"X11\"], [\"Blake2S\"], [\"X11\"], [\"PoS\"], [\"X11\"], [\"PoS\"], [\"X11\"], [\"Scrypt\"], [\"Scrypt\"], [\"Scrypt\"], [\"SHA-256\"], [\"X11\"], [\"Scrypt\"], [\"PoS\"], [\"Scrypt\"], [\"X15\"], [\"SHA-256\"], [\"POS 3.0\"], [\"536\"], [\"NIST5\"], [\"NIST5\"], [\"Skein\"], [\"X13\"], [\"Scrypt\"], [\"X13\"], [\"SkunkHash v2 Raptor\"], [\"Skein\"], [\"X11\"], [\"Scrypt\"], [\"VeChainThor Authority\"], [\"PoS\"], [\"Scrypt\"], [\"Scrypt\"], [\"SHA-512\"], [\"Ouroboros\"], [\"X11\"], [\"NeoScrypt\"], [\"Scrypt\"], [\"Lyra2REv2\"], [\"Scrypt\"], [\"SHA-256\"], [\"NIST5\"], [\"PHI1612\"], [\"Scrypt\"], [\"Quark\"], [\"POS 2.0\"], [\"Scrypt\"], [\"SHA-256\"], [\"X11\"], [\"DPoS\"], [\"NIST5\"], [\"X13\"], [\"Scrypt\"], [\"NIST5\"], [\"Quark\"], [\"Scrypt\"], [\"Scrypt\"], [\"X11\"], [\"Quark\"], [\"Scrypt\"], [\"Scrypt\"], [\"X11\"], [\"POS 3.0\"], [\"Ethash\"], [\"Scrypt\"], [\"Scrypt\"], [\"X13\"], [\"Proof-of-BibleHash\"], [\"SHA-256 + Hive\"], [\"C11\"], [\"Proof-of-Authority\"], [\"X11\"], [\"XEVAN\"], [\"Scrypt\"], [\"VBFT\"], [\"NIST5\"], [\"Scrypt\"], [\"Scrypt\"], [\"Scrypt\"], [\"Green Protocol\"], [\"PoS\"], [\"Scrypt\"], [\"Semux BFT consensus\"], [\"Quark\"], [\"PoS\"], [\"X16R\"], [\"Scrypt\"], [\"XEVAN\"], [\"Scrypt\"], [\"Scrypt\"], [\"Scrypt\"], [\"SHA-256D\"], [\"Scrypt\"], [\"X15\"], [\"Scrypt\"], [\"Quark\"], [\"SHA-256\"], [\"DPoS\"], [\"X16R\"], [\"Quark\"], [\"Quark\"], [\"Scrypt\"], [\"Lyra2REv2\"], [\"Quark\"], [\"Scrypt\"], [\"X11\"], [\"X11\"], [\"Scrypt\"], [\"PoS\"], [\"Keccak\"], [\"X11\"], [\"Scrypt\"], [\"SHA-512\"], [\"ECC 256K1\"], [\"XEVAN\"], [\"XEVAN\"], [\"X11\"], [\"Quark\"], [\"Scrypt\"], [\"Quark\"], [\"Quark\"], [\"Scrypt\"], [\"X11\"], [\"Scrypt\"], [\"XEVAN\"], [\"SHA-256D\"], [\"X11\"], [\"X11\"], [\"DPoS\"], [\"Scrypt\"], [\"X11\"], [\"Scrypt\"], [\"Scrypt\"], [\"SHA-256\"], [\"Scrypt\"], [\"X11\"], [\"Scrypt\"], [\"SHA-256\"], [\"X11\"], [\"Scrypt\"], [\"Scrypt\"], [\"X11\"], [\"Scrypt\"], [\"PoS\"], [\"X11\"], [\"SHA-256\"], [\"DPoS\"], [\"Scrypt\"], [\"Scrypt\"], [\"NeoScrypt\"], [\"SHA3-256\"], [\"X13\"], [\"DPoS\"], [\"DPoS\"], [\"SHA-256\"], [\"Leased POS\"], [\"PoS\"], [\"PoS\"], [\"SHA-256\"], [\"Scrypt\"], [\"Scrypt\"]], \"hovertemplate\": \"<b>%{hovertext}</b><br><br>Class=%{marker.color}<br>PC 1=%{x}<br>PC 2=%{y}<br>PC 3=%{z}<br>Algorithm=%{customdata[0]}<extra></extra>\", \"hovertext\": [\"42 Coin\", \"404Coin\", \"EliteCoin\", \"Dash\", \"Bitshares\", \"BitcoinDark\", \"PayCoin\", \"KoboCoin\", \"Aurora Coin\", \"BlueCoin\", \"EnergyCoin\", \"BitBar\", \"CryptoBullion\", \"CasinoCoin\", \"Diamond\", \"Exclusive Coin\", \"FlutterCoin\", \"HoboNickels\", \"HyperStake\", \"IOCoin\", \"MaxCoin\", \"MintCoin\", \"MazaCoin\", \"Nautilus Coin\", \"NavCoin\", \"OpalCoin\", \"Orbitcoin\", \"PotCoin\", \"PhoenixCoin\", \"Reddcoin\", \"SuperCoin\", \"SyncCoin\", \"TeslaCoin\", \"TittieCoin\", \"TorCoin\", \"UnitaryStatus Dollar\", \"UltraCoin\", \"VeriCoin\", \"X11 Coin\", \"Crypti\", \"StealthCoin\", \"ZCC Coin\", \"BurstCoin\", \"StorjCoin\", \"Neutron\", \"FairCoin\", \"RubyCoin\", \"Kore\", \"Dnotes\", \"8BIT Coin\", \"Sativa Coin\", \"Ucoin\", \"Vtorrent\", \"IslaCoin\", \"Nexus\", \"Droidz\", \"Squall Coin\", \"Diggits\", \"Paycon\", \"Emercoin\", \"EverGreenCoin\", \"Decred\", \"EDRCoin\", \"Hitcoin\", \"DubaiCoin\", \"PWR Coin\", \"BillaryCoin\", \"GPU Coin\", \"EuropeCoin\", \"ZeitCoin\", \"SwingCoin\", \"SafeExchangeCoin\", \"Nebuchadnezzar\", \"Ratecoin\", \"Revenu\", \"Clockcoin\", \"VIP Tokens\", \"BitSend\", \"Let it Ride\", \"PutinCoin\", \"iBankCoin\", \"Frankywillcoin\", \"MudraCoin\", \"Lutetium Coin\", \"GoldBlocks\", \"CarterCoin\", \"BitTokens\", \"MustangCoin\", \"ZoneCoin\", \"RootCoin\", \"BitCurrency\", \"Swiscoin\", \"BuzzCoin\", \"Opair\", \"PesoBit\", \"Halloween Coin\", \"CoffeeCoin\", \"RoyalCoin\", \"GanjaCoin V2\", \"TeamUP\", \"LanaCoin\", \"ARK\", \"InsaneCoin\", \"EmberCoin\", \"XenixCoin\", \"FreeCoin\", \"PLNCoin\", \"AquariusCoin\", \"Creatio\", \"Eternity\", \"Eurocoin\", \"BitcoinFast\", \"Stakenet\", \"BitConnect Coin\", \"MoneyCoin\", \"Enigma\", \"Russiacoin\", \"PandaCoin\", \"GameUnits\", \"GAKHcoin\", \"Allsafe\", \"LiteCreed\", \"Klingon Empire Darsek\", \"Internet of People\", \"KushCoin\", \"Printerium\", \"Impeach\", \"Zilbercoin\", \"FirstCoin\", \"FindCoin\", \"OpenChat\", \"RenosCoin\", \"VirtacoinPlus\", \"TajCoin\", \"Impact\", \"Atmos\", \"HappyCoin\", \"MacronCoin\", \"Condensate\", \"Independent Money System\", \"ArgusCoin\", \"LomoCoin\", \"ProCurrency\", \"GoldReserve\", \"GrowthCoin\", \"Phreak\", \"Degas Coin\", \"HTML5 Coin\", \"Ultimate Secure Cash\", \"QTUM\", \"Espers\", \"Denarius\", \"Virta Unique Coin\", \"Bitcoin Planet\", \"BritCoin\", \"Linda\", \"DeepOnion\", \"Signatum\", \"Cream\", \"Monoeci\", \"Draftcoin\", \"Vechain\", \"Stakecoin\", \"CoinonatX\", \"Ethereum Dark\", \"Obsidian\", \"Cardano\", \"Regalcoin\", \"TrezarCoin\", \"TerraNovaCoin\", \"Rupee\", \"WomenCoin\", \"Theresa May Coin\", \"NamoCoin\", \"LUXCoin\", \"Xios\", \"Bitcloud 2.0\", \"KekCoin\", \"BlackholeCoin\", \"Infinity Economics\", \"Magnet\", \"Lamden Tau\", \"Electra\", \"Bitcoin Diamond\", \"Cash & Back Coin\", \"Bulwark\", \"Kalkulus\", \"GermanCoin\", \"LiteCoin Ultra\", \"PhantomX\", \"Digiwage\", \"Trollcoin\", \"Litecoin Plus\", \"Monkey Project\", \"TokenPay\", \"1717 Masonic Commemorative Token\", \"My Big Coin\", \"Unified Society USDEX\", \"Tokyo Coin\", \"BiblePay\", \"LitecoinCash\", \"Stipend\", \"Poa Network\", \"Pushi\", \"Ellerium\", \"Velox\", \"Ontology\", \"Bitspace\", \"Briacoin\", \"Ignition\", \"MedicCoin\", \"Bitcoin Green\", \"Deviant Coin\", \"Abjcoin\", \"Semux\", \"Carebit\", \"Zealium\", \"Proton\", \"iDealCash\", \"Bitcoin Incognito\", \"HollyWoodCoin\", \"Swisscoin\", \"Xt3ch\", \"TheVig\", \"EmaratCoin\", \"Dekado\", \"Lynx\", \"Poseidon Quark\", \"BitcoinWSpectrum\", \"Muse\", \"Trivechain\", \"Dystem\", \"Giant\", \"Peony Coin\", \"Absolute Coin\", \"Vitae\", \"TPCash\", \"ARENON\", \"EUNO\", \"MMOCoin\", \"Ketan\", \"XDNA\", \"PAXEX\", \"ThunderStake\", \"Kcash\", \"Acute Angle Cloud\", \"Bettex coin\", \"BitMoney\", \"Junson Ming Chan Coin\", \"HerbCoin\", \"Oduwa\", \"Galilel\", \"Crypto Sports\", \"Credit\", \"Dash Platinum\", \"Nasdacoin\", \"Beetle Coin\", \"Titan Coin\", \"Award\", \"Insane Coin\", \"ALAX\", \"LiteDoge\", \"TruckCoin\", \"OrangeCoin\", \"BitstarCoin\", \"NeosCoin\", \"HyperCoin\", \"PinkCoin\", \"AudioCoin\", \"IncaKoin\", \"Piggy Coin\", \"Genstake\", \"XiaoMiCoin\", \"CapriCoin\", \" ClubCoin\", \"Radium\", \"Creditbit \", \"OKCash\", \"Lisk\", \"HiCoin\", \"WhiteCoin\", \"FriendshipCoin\", \"Fiii\", \"Triangles Coin\", \"EOS\", \"Oxycoin\", \"TigerCash\", \"Waves\", \"Particl\", \"Nxt\", \"ZEPHYR\", \"Gapcoin\", \"BitcoinPlus\"], \"legendgroup\": \"1\", \"marker\": {\"color\": [1, 1, 1, 1, 1, 1, 1, 1, 1, 1, 1, 1, 1, 1, 1, 1, 1, 1, 1, 1, 1, 1, 1, 1, 1, 1, 1, 1, 1, 1, 1, 1, 1, 1, 1, 1, 1, 1, 1, 1, 1, 1, 1, 1, 1, 1, 1, 1, 1, 1, 1, 1, 1, 1, 1, 1, 1, 1, 1, 1, 1, 1, 1, 1, 1, 1, 1, 1, 1, 1, 1, 1, 1, 1, 1, 1, 1, 1, 1, 1, 1, 1, 1, 1, 1, 1, 1, 1, 1, 1, 1, 1, 1, 1, 1, 1, 1, 1, 1, 1, 1, 1, 1, 1, 1, 1, 1, 1, 1, 1, 1, 1, 1, 1, 1, 1, 1, 1, 1, 1, 1, 1, 1, 1, 1, 1, 1, 1, 1, 1, 1, 1, 1, 1, 1, 1, 1, 1, 1, 1, 1, 1, 1, 1, 1, 1, 1, 1, 1, 1, 1, 1, 1, 1, 1, 1, 1, 1, 1, 1, 1, 1, 1, 1, 1, 1, 1, 1, 1, 1, 1, 1, 1, 1, 1, 1, 1, 1, 1, 1, 1, 1, 1, 1, 1, 1, 1, 1, 1, 1, 1, 1, 1, 1, 1, 1, 1, 1, 1, 1, 1, 1, 1, 1, 1, 1, 1, 1, 1, 1, 1, 1, 1, 1, 1, 1, 1, 1, 1, 1, 1, 1, 1, 1, 1, 1, 1, 1, 1, 1, 1, 1, 1, 1, 1, 1, 1, 1, 1, 1, 1, 1, 1, 1, 1, 1, 1, 1, 1, 1, 1, 1, 1, 1, 1, 1, 1, 1, 1, 1, 1, 1, 1, 1, 1, 1, 1, 1, 1, 1, 1, 1, 1, 1, 1, 1, 1, 1, 1, 1, 1, 1, 1, 1, 1, 1, 1, 1, 1, 1, 1, 1, 1], \"coloraxis\": \"coloraxis\", \"symbol\": \"circle\"}, \"mode\": \"markers\", \"name\": \"1\", \"scene\": \"scene\", \"showlegend\": true, \"type\": \"scatter3d\", \"x\": [-0.3343297749271619, -0.3176613182221487, 2.3028700342278814, -0.39428057177667947, -0.27832593991858007, -0.31253120655716266, -0.27352852997762256, -0.2394119373640407, -0.3339892148376413, -0.32656450943506193, -0.33282587350426573, -0.3343257089094661, -0.33430998413766305, 0.7104244343024457, -0.3716911680444575, -0.37124131500897967, -0.2872328595084309, -0.33238772392010024, -0.3350952289500532, -0.3941752347857088, -0.3768746098437036, -0.03516584305930627, -0.27582164686664307, -0.29507806202609693, -0.28245492929700733, -0.2830773337990193, -0.3447354674445941, -0.32862947998553266, -0.33273083801697784, 0.023924274667234582, -0.3549880863058049, -0.39454696340538226, -0.25844784812799226, -0.3225289333857193, -0.3944585571568154, -0.30955116535612925, -0.3330065745663978, -0.2881172930861506, -0.39442303020131647, -0.25891591535213043, -0.2828581283432954, -0.32542828151285913, 0.12883647162248782, -0.35983341670079905, -0.3117425900294665, -0.37111255712484514, -0.29505834461479435, -0.2831527224709907, -0.2897097921594649, -0.33431183782908275, -0.2831048965230732, -0.3554330343463909, -0.33404609971029703, -0.3945284864990095, -0.32444060758954313, -0.42405723001927037, -0.33528310838552006, -0.2934591984700626, -0.28262631097853125, -0.3050838220051271, -0.24185473754160952, -0.0753583690280849, -0.31250211136925926, -0.07184711101023995, -0.3125658466464189, -0.23144113063706806, -0.3339219011564468, -0.2933279832903992, -0.39169610371171726, 0.8586238145366586, -0.31236579329225056, -0.02064281053440623, -0.3709244530282068, -0.3923706694442441, -0.31110861208128626, -0.30877556677416523, -0.35283773719622064, -0.39326303012945174, -0.3552351592113016, -0.31020736599740684, -0.33396000659221003, -0.33239841859680175, -0.24284363790582242, -0.34291874833537955, -0.3940021367153286, -0.3331639003695166, -0.31254677369348993, -0.39451766927542953, -0.33414927026069646, -0.3343060691155862, -0.29331795743279604, -0.2450470525365281, 0.03954752665165596, -0.3698811070321941, -0.33392010482671625, -0.3806730078944475, -0.36920959674785675, -0.2442750473338438, -0.40748373442879876, -0.36895798729747065, -0.27509973562491596, 3.7357143472960983, -0.39411003565055447, 0.8494187987395678, -0.39447256338010556, -0.3703450458857465, -0.333847567622711, -0.33400193594377864, -0.3709244530282068, -0.39404723430800465, -0.3124094053240267, -0.33384831366651785, -0.37634509331213134, -0.33399575959571925, -0.3295812884300203, -0.39450156428937566, -0.33320600628498626, 0.3484537361043077, -0.33419512524871703, -0.33426573601068665, -0.3583720066328957, -0.3485881861489711, -0.3304904225446119, -0.31252317998334844, -0.39441147969612766, -0.3340434477650689, -0.33417043727189144, -0.29496472649658334, -0.27894341559853136, -0.24404280690085656, -0.3150162043229899, -0.29470581287405134, -0.39367683173105145, -0.4135111786756992, -0.39241478830359633, -0.369170293811397, -0.3935746848891228, -0.3635679255061503, -0.3895136773275961, -0.33411370730002454, -0.33411288376320214, -0.32723070187355846, 0.2594372148790414, -0.39405342161382556, -0.2775978936915337, -0.37095874006468244, -0.33332399748534636, 0.8930380397232991, -0.2722181932381731, -0.35401300726794027, 0.5832953127902344, -0.3543740121078181, -0.3528755725236346, -0.4181175154176327, -0.2827898558650333, 0.1308529564325596, -0.28286067034491735, -0.34995631736851446, -0.41762224546021176, -0.39432594612676325, -0.2950390194214186, 4.439606739454662, -0.37082491571800114, -0.33374874041801195, -0.3342486587383921, -0.33641457350298537, 0.6437542933164344, -0.39426672389841344, -0.339732428115904, -0.3342042393065926, -0.3246774814205635, 0.4351985229790147, -0.31086878934700424, -0.3391339390047655, -0.3970807061175911, -0.33415455300950103, -0.3957522482614023, -0.35023153530399853, -0.33402492278975565, -0.09994163968992911, -0.39305878808117717, 3.7405725552457345, 0.20534786635135627, -0.27953013409008987, -0.331484047270178, -0.31519822042573997, -0.3582578656374984, 0.08033992107390872, -0.3331629409900746, -0.3936402803482117, -0.35742216035132124, -0.3207234512971762, -0.33427079754002703, -0.35540495322207644, -0.35551717946439426, -0.2764519435401637, -0.2959512246980813, -0.32981424407200266, -0.23583456995684757, -0.21813573474725748, -0.3065627099463382, -0.3743137677512783, -0.4134010941938609, -0.3943431686280947, -0.28470159079131035, -0.29419854702669707, -0.3204657505883458, -0.3539727744244565, -0.3342981626395486, -0.3342798642861848, -0.28857753374853895, -0.3497231480424307, -0.3704191984740332, -0.33399624108661996, 3.9293052321356994, -0.39441985926637163, -0.37060794103448624, -0.32073579410904435, -0.28084030384095016, -0.22559022142039112, -0.2947331178192259, -0.1373313473018006, -0.2949852219768018, -0.34044871815119, -0.33347000973916757, -0.20225894178613973, 2.2558560998703983, -0.35396331393908376, -0.27234614056633955, 1.0203615502689967, -0.3590112919604974, -0.35837143128935095, -0.3974372791707386, -0.1756485966788791, -0.3635449139787911, -0.35709041977064016, -0.3271707744262602, -0.3549821666348902, -0.3938162948401636, -0.2922294451150705, -0.36970721889107994, -0.3350024450863092, -0.35484341897243205, -0.19370314848226267, -0.3175168132824662, -0.1404252641500653, -0.24575547788312582, 0.6151960748846659, -0.1452920356655975, -0.39673159838245065, -0.33400023286736297, -0.39718792360201716, -0.35848845850915917, 0.5729328123600714, -0.3554592875797108, -0.3334828757352482, -0.27915466557497204, -0.29514530918196513, -0.39137949554711926, -0.39404363928773195, 3.752819003028736, 0.10113006067582136, -0.3915825818664055, -0.33286795690309384, -0.3336934813347389, -0.27356115400543907, -0.33421207662005253, -0.38566799657079176, -0.24786851070259489, -0.09212099455951354, -0.38141409995587044, -0.3334901448136539, -0.32655159721724303, -0.3906108539799686, -0.33192857925481567, -0.3712001898387438, -0.38429227183865583, -0.3110456543528357, 3.7361063482980175, -0.10218918051081397, -0.3291222254929328, -0.34436110356001537, -0.5257303693837422, -0.28325998223865834, 3.745977106027908, 3.747221625361289, -0.2544502108904963, -0.43288040663984895, -0.3711360372323848, -0.4049894578117657, 2.47835784858074, -0.33237406838821026, -0.295381894414137], \"y\": [0.9950183067277817, 0.9951886779580584, 1.6233238693347039, 1.2535858115554894, 1.451697345156624, 0.8283935717085156, 0.6600207534027921, 1.8885418507488865, 0.9950175772828562, 0.9952745704397868, 0.9950679374260787, 0.9950180840720232, 0.9950182461400647, 0.18031761133544552, 0.9024367991553713, 1.6632847051306994, 0.2596176522431558, 0.9949967482379907, 1.0858879687589214, 1.253589287810769, 1.8950883003334964, 0.8352243617338211, 0.827894058864411, 0.8266353781504074, 1.762232573298673, 1.7622120331549314, 0.5311365549772177, 0.994906653378962, 0.9950011272931957, 1.0068411480943473, 1.0852314790513669, 1.253592721836425, 0.17937703032705513, 1.6810519276170515, 1.2535885026789682, 0.9946940500752044, 0.9949906001567191, 0.21558764156374072, 1.2535928869395436, 0.17943295741411133, 1.7622192672150248, 0.9945983283783605, 0.19254830972962508, 1.617268178731601, 0.8283867650658678, 0.9024590202319145, 0.8266475771477491, 1.7622009803640277, 0.8264672166947618, 0.9950188987049143, 1.7622039861594796, 1.0852025204168794, 0.9950133936216474, 1.25359333231168, 1.95127481986878, 2.1046283271851203, 0.9049358906149667, 0.8266289771101217, 1.762191230532503, 0.8279413081376711, 1.8886922739750833, 0.9822334502220111, 0.828394531886888, 1.2452924585900398, 0.8284006365402113, 1.5215519247168494, 0.9950017900738397, 0.8265469073900036, 1.2534127287730272, 0.7940603979124665, 0.8283861832549664, 0.18320827673003337, 1.6632808872001925, 1.2536110126036952, 0.8282972538760079, 0.8281585018851569, 1.5174814450928191, 1.25353588426281, 1.5918796142592542, 0.9943868990018955, 0.994998867154934, 0.9950106700806868, 1.5937303117315653, 1.085160856078337, 1.253575015575273, 0.9949925455945636, 0.8283937717121636, 1.253591548076774, 0.9950092751226409, 0.99501908907983, 0.8267050121482479, 0.38836940148991816, 1.9473819679627873, 1.663276777043162, 0.9950318263944643, 1.2529799722554509, 1.6633232049404303, 1.5938240367625012, 1.868045882303554, 1.6631452224129433, 1.945915661815943, 1.8956173841332857, 1.2535857295532506, 1.7989791742093724, 1.2535924275763166, 1.6632785962051013, 0.99500671271248, 0.9949991488236067, 1.6632808872001925, 1.253566389906754, 0.8283990187828898, 0.9950106422063327, 0.8952149500594644, 0.9950093449974663, 0.9947106115577772, 1.253590652083821, 0.9949526141376971, 0.8246771325596076, 0.9950134717617283, 0.9950180535157805, 1.5642742769010185, 0.5925372911117627, 0.9947881407742412, 0.8283945503347411, 1.2535905173707322, 0.9950134811392282, 0.9950079104280342, 0.8266114110183588, 0.2583848180344194, 1.5938231184761134, 0.9949419402279392, 0.8266346396636706, 1.253550064103635, 1.878463769932156, 1.2535845757587643, 1.6632743331765987, 1.25355343507992, 1.6632524411739043, 1.2534019579039377, 0.9950102973467402, 0.9950050515068825, 0.9945388462037122, 0.624087798043469, 1.2535804604984473, 0.825796316266452, 1.6632726182938398, 0.9949765560996865, 1.8619274423520258, 0.6599301100234674, 1.591872483188995, 1.798975547319474, 1.5174878451807743, 1.5174587843076426, 1.8759484062285112, 1.7622001081229959, 0.9746829794787262, 1.7622056949515366, 1.6021316898119438, 1.8759647507698543, 1.2535932306923026, 0.8266357916398429, 2.0598279404271786, 1.6632544805397431, 0.9950030423029926, 0.9950179859916788, 1.4522849858907954, 1.5178062864349373, 1.2535826998579926, 0.5310188568492373, 0.9950112200997183, 0.7426953181177245, 1.0025702478642406, 0.8283927619556406, 1.5171414376126229, 1.8498571362908376, 0.995009100785181, 1.732575376432372, 1.5599471793051334, 0.9950178122979428, 0.6593346129818274, 1.2535390558161668, 1.8955100590644642, 1.5145543486178943, 1.762179210079933, 0.9949623342088587, 1.3491013146866786, 1.564274475004518, 0.9730159847771986, 0.9949497529132417, 1.2535869572976908, 1.5642306804431985, 0.9948249676897465, 0.9950173981307476, 1.0852027333908227, 1.5918763740123902, -0.027846829317160694, 0.27280886891636597, 0.995001737588955, 1.5935333765078687, 3.222451593338803, 3.4065855590193186, 0.9539885448529783, 3.6777865194689503, 1.2535816045623176, 1.4384637582143691, 0.8265874479263445, 1.5827715903220334, 1.5174725369755606, 0.9950172087865367, 0.9950163851775061, 0.8265045826688782, 1.4959774199279197, 1.663249026991641, 0.9950079016295832, 1.889823869015601, 1.7326193469714484, 1.663248508158287, 0.7719289845294349, 0.9931277911224958, 1.0898297298802888, 0.8266397528326113, 0.9942393683998519, 0.8266185857707058, 1.949045013193112, 0.9949867260284915, 1.7202867822351229, 0.16187450179374896, 1.5639665451054943, 0.6599971344525061, 1.7241330784441518, 0.9403057827347086, 1.5642700134538836, 1.7326588395967242, 0.8185403364835879, 0.9110590386072819, 1.564255903086877, 0.9945408238860355, 1.085192418761173, 1.253581148594583, 0.8265553622964331, 1.663185447065285, 0.7849604784751979, 1.0851648793547446, 0.9868118624721355, 1.3100359667910442, 0.3010287727469934, 1.2700894301047434, 1.0187321952428172, 1.092151716627006, 1.73264726252621, 0.9950141935470288, 1.7326571583832853, 1.5642715972349506, 0.9715714514636153, 1.085201868148349, 0.9949863014341835, 1.4383327686580023, 1.9470427622990623, 1.253397482641711, 1.2535879207180505, 1.8955573379699362, 0.9844081714625352, 1.2536905509281993, 0.9949238008132553, 0.9950005805492405, 0.6600136099864009, 0.9950221909522654, 1.2535288702820957, 0.9903773790766669, 0.8355474821394074, 1.2533123847878591, 0.9950353095386886, 0.9949895009456763, 1.2535741614707432, 0.9949833510371624, 1.663279638662548, 0.7095447860324376, 0.8283833564893156, 1.8956053980420622, 0.8258688092874527, 0.9949760408318318, 0.5311086559061312, 2.130477681419209, 1.76220591987439, 1.8960452856622925, 1.896086356390273, 0.6599455450102842, 3.4886805422168305, 1.6632820169090805, 1.875651516706391, 0.8313684693147231, 0.994904412813506, 0.8266361858519741], \"z\": [-0.585508545694486, -0.5858479170627624, -0.6064910774527429, -0.5523627096376174, -0.1409363394306791, -0.3598622953559605, -0.03373347249676603, -0.6175447617661776, -0.5855146314700634, -0.5857022774657741, -0.5855460657927497, -0.585508575260277, -0.5855088956885157, -0.4640560759428097, -0.42268507897232266, -0.03453716186098333, -0.45410695303190945, -0.5855397454554576, -0.22673921116171503, -0.5523653376380663, -0.698007557912987, -0.26586899148466314, -0.3604335162381765, -0.25938224410117, -0.5871554436606148, -0.5871399155987609, -0.304187666928207, -0.5855903792371934, -0.585534348049323, -0.5944464486616735, -0.22624291410975708, -0.5523592261986029, 0.1061108266212522, -0.173844614159875, -0.5523599943199032, -0.5858967147742402, -0.5855271813093907, -0.3186898236670136, -0.5523615275961212, 0.10610812793675171, -0.5871453844471773, -0.5855868620338166, -0.5414436400808821, -0.0390467498621505, -0.35987535707885465, -0.4227001441300411, -0.25938506210029666, -0.5871363096126585, -0.2594466191781742, -0.5855089932043059, -0.5871377903238009, -0.226228938068925, -0.5855127477207012, -0.5523596873135571, -0.6124813118574395, -0.7724589208896433, -0.37798393230443317, -0.25941058214394497, -0.5871439798128703, -0.3599074966246171, -0.6175303538012599, -0.47080737481851637, -0.35986302123740244, -0.5565932076745992, -0.3598630844076491, -0.55916451619593, -0.5855126835113074, -0.25939645292298164, -0.5523751461837159, -0.2739352078801119, -0.35986383444247355, -0.4512588180264236, -0.034542191841306844, -0.5524027394267187, -0.35986893020950944, -0.35988368035614743, -0.5561229137098065, -0.5523712755539886, -0.09417043135385662, -0.5858228385012362, -0.5855113973915859, -0.5855423538916621, -0.2610116865622249, -0.2264495740075771, -0.5523656308227873, -0.585524693891999, -0.35986205074180133, -0.5523595258992544, -0.5855100300070847, -0.5855091371250837, -0.2594284821586747, -0.40616903070538946, -0.7168703829909857, -0.0345604585826647, -0.5855187663570888, -0.5524897168613273, -0.03458209970412024, -0.26100436813652184, -0.7348853642311985, -0.03455085492527754, -0.710816574357188, 0.08137784985509648, -0.5523658141580581, -0.6152718028397892, -0.5523605285474178, -0.03455233430471949, -0.5855150354405136, -0.5855106867630124, -0.034542191841306844, -0.552363068079069, -0.3598656216398792, -0.5855158132727507, -0.3643245734187537, -0.585512853530343, -0.5855334727775001, -0.5523596401693402, -0.5855158802308749, -0.2707652968457542, -0.5855100360946451, -0.5855096666892402, -0.16020722001443718, -0.34115934807068093, -0.5855324504927826, -0.3598626393695977, -0.5523612617028211, -0.58551281388277, -0.5855093677434018, -0.2593794907882905, -0.415857239900028, -0.2610084334818068, -0.585846627794043, -0.25938890800743897, -0.5523665585648261, -0.71966571216332, -0.5523966070354341, -0.0345729751600923, -0.5523691069758268, -0.03467109640965258, -0.552412917995435, -0.5855108867547172, -0.5855098451998886, -0.5855418943403671, -0.036249771600172766, -0.5523657889674386, -0.2595331490081214, -0.03453989880480468, -0.5855185432689981, -0.6329093768417909, -0.03373919584344907, -0.09419136200354249, -0.6199909466259595, -0.556096086957035, -0.5561176568963498, -0.694860356548154, -0.5871427748648453, -0.5899260284174428, -0.5871426041750714, -0.1181661702785373, -0.6948727127931819, -0.5523633736028668, -0.2593830419184589, 2.2266017272783767, -0.034538694628431746, -0.5855161048089623, -0.5855099656251641, -0.1399916039975968, -0.10760368803100166, -0.5523623363083766, -0.30425552221718144, -0.5855094157614128, -0.013710344236847647, -0.6011130608176596, -0.3598925566957431, -0.5563052264798257, -0.49940993422830804, -0.5855098982103994, -0.4863512898603719, -0.033251930995125224, -0.5855140253043079, -0.036772139356379394, -0.5523756522746588, 0.08131055581208856, -0.5657488700878209, -0.5871982227783697, -0.5855493522011109, -0.22996767039998717, -0.16020934884853563, -0.5886658037003184, -0.585516092069882, -0.5523746585981851, -0.16021582218407837, -0.5857186167761549, -0.585509442047684, -0.22622949488837635, -0.09416461735242147, 0.1630870618111982, -0.45061617333744214, -0.5855878485169727, -0.26110029475726154, 16.379589810347774, 9.78302952424224, -0.43136247427678687, 12.446388977371443, -0.5523607166518935, -0.5023993938374494, -0.25938868619987504, -0.09211818172540528, -0.5561003467325998, -0.5855089030919808, -0.5855090720833019, -0.2594748673328438, -0.047605595097413266, -0.034545021328937255, -0.585512553992625, 0.08735575030660073, -0.4863845309739267, -0.034541462585176895, -0.055246318310955576, -0.5861066829124985, -0.3280259022527168, -0.25938943819452426, -0.5889569832406019, -0.2593805608455189, -0.7102509209011223, -0.5855179194965682, -0.29140580466750504, -0.3832752232280832, -0.16022592104261996, -0.03375035442042238, 0.0003327697920885044, -0.38138925114478833, -0.16020637179267838, -0.48633726286098516, -0.2599374437726664, -0.33983980974240924, -0.16022697386802662, -0.5855433894405878, -0.22623515485259696, -0.552370267299746, -0.25941826063251755, -0.03454524511550982, -0.430177393366445, -0.2262321470814528, -0.5864292426388644, -0.20452449351960214, 0.027437148676441776, -0.1762692316805249, -0.1594925252923294, -0.23147451708557945, -0.4863478458814627, -0.5855137482672431, -0.486341487765813, -0.16020454904728607, -0.5973899469542251, -0.22622832621878727, -0.5855175985092, -0.5024745257763549, -0.7106767363900299, -0.5523778696297852, -0.5523674706480503, 0.08107690655787855, -0.5913409259028993, -0.5524331832301247, -0.5855162633508622, -0.5855166202726015, -0.033731436593773534, -0.5855114820973318, -0.5525088619811699, -0.5861561174766238, -0.36533704852022586, -0.5525431090322986, -0.5855273367773407, -0.5856450945583058, -0.5524275237632352, -0.5855454499236528, -0.03453689400891996, -0.5573415936346987, -0.3598874253651543, 0.08137308997679558, -0.2627579629785715, -0.5855953374878193, -0.3041888988023791, 12.338007785259641, -0.5871353415417302, 0.0811038390396738, 0.08107279014281475, -0.03406748244937659, 17.808097238289, -0.03453854711753529, 0.18119684851957008, 0.04667050669091091, -0.5855213969999638, -0.25937684625387764]}, {\"customdata\": [[\"SHA-256\"], [\"Ethash\"], [\"Scrypt\"], [\"CryptoNight-V7\"], [\"Ethash\"], [\"Equihash\"], [\"Multiple\"], [\"Scrypt\"], [\"X11\"], [\"Scrypt\"], [\"Multiple\"], [\"Scrypt\"], [\"SHA-256\"], [\"Scrypt\"], [\"Scrypt\"], [\"Quark\"], [\"Groestl\"], [\"Scrypt\"], [\"Scrypt\"], [\"Scrypt\"], [\"X11\"], [\"Multiple\"], [\"SHA-256\"], [\"Scrypt\"], [\"Scrypt\"], [\"Scrypt\"], [\"Scrypt\"], [\"Scrypt\"], [\"NeoScrypt\"], [\"Scrypt\"], [\"Scrypt\"], [\"Scrypt\"], [\"Scrypt\"], [\"SHA-256\"], [\"Scrypt\"], [\"Scrypt\"], [\"Scrypt\"], [\"Scrypt\"], [\"HybridScryptHash256\"], [\"Scrypt\"], [\"Scrypt\"], [\"SHA-256\"], [\"Scrypt\"], [\"Scrypt\"], [\"Scrypt\"], [\"Scrypt\"], [\"SHA-256\"], [\"SHA-256\"], [\"SHA-256\"], [\"SHA-256\"], [\"SHA-256\"], [\"X11\"], [\"Scrypt\"], [\"Lyra2REv2\"], [\"Scrypt\"], [\"SHA-256\"], [\"CryptoNight\"], [\"CryptoNight\"], [\"Scrypt\"], [\"Scrypt\"], [\"Scrypt\"], [\"Scrypt\"], [\"Scrypt\"], [\"Scrypt\"], [\"Stanford Folding\"], [\"Multiple\"], [\"QuBit\"], [\"Scrypt\"], [\"Scrypt\"], [\"M7 POW\"], [\"Scrypt\"], [\"SHA-256\"], [\"Scrypt\"], [\"X11\"], [\"Lyra2RE\"], [\"SHA-256\"], [\"X11\"], [\"Scrypt\"], [\"Scrypt\"], [\"Ethash\"], [\"Blake2b\"], [\"X11\"], [\"SHA-256\"], [\"Scrypt\"], [\"1GB AES Pattern Search\"], [\"Scrypt\"], [\"SHA-256\"], [\"X11\"], [\"Dagger\"], [\"Scrypt\"], [\"X11GOST\"], [\"Scrypt\"], [\"X11\"], [\"Scrypt\"], [\"X11\"], [\"Equihash\"], [\"CryptoNight\"], [\"SHA-256\"], [\"Multiple\"], [\"Scrypt\"], [\"SHA-256\"], [\"Scrypt\"], [\"Lyra2Z\"], [\"Ethash\"], [\"Equihash\"], [\"Scrypt\"], [\"X11\"], [\"X11\"], [\"CryptoNight\"], [\"Scrypt\"], [\"CryptoNight\"], [\"Lyra2RE\"], [\"X11\"], [\"CryptoNight-V7\"], [\"Scrypt\"], [\"X11\"], [\"Equihash\"], [\"Scrypt\"], [\"Lyra2RE\"], [\"Dagger-Hashimoto\"], [\"Scrypt\"], [\"NIST5\"], [\"Scrypt\"], [\"SHA-256\"], [\"Scrypt\"], [\"CryptoNight-V7\"], [\"Argon2d\"], [\"Blake2b\"], [\"Cloverhash\"], [\"CryptoNight\"], [\"X11\"], [\"Scrypt\"], [\"Scrypt\"], [\"X11\"], [\"X11\"], [\"CryptoNight\"], [\"Time Travel\"], [\"Scrypt\"], [\"Keccak\"], [\"X11\"], [\"SHA-256\"], [\"Scrypt\"], [\"Scrypt\"], [\"Scrypt\"], [\"Scrypt\"], [\"Scrypt\"], [\"Scrypt\"], [\"CryptoNight\"], [\"Equihash\"], [\"X11\"], [\"NeoScrypt\"], [\"Equihash\"], [\"Dagger\"], [\"Scrypt\"], [\"X11\"], [\"NeoScrypt\"], [\"Ethash\"], [\"NeoScrypt\"], [\"Multiple\"], [\"CryptoNight\"], [\"CryptoNight\"], [\"Ethash\"], [\"X11\"], [\"CryptoNight-V7\"], [\"Scrypt\"], [\"BLAKE256\"], [\"X11\"], [\"NeoScrypt\"], [\"NeoScrypt\"], [\"Scrypt\"], [\"X11\"], [\"SHA-256\"], [\"C11\"], [\"CryptoNight\"], [\"SkunkHash\"], [\"CryptoNight\"], [\"Scrypt\"], [\"Dagger\"], [\"Lyra2REv2\"], [\"Scrypt\"], [\"Scrypt\"], [\"X11\"], [\"Ethash\"], [\"CryptoNight\"], [\"Scrypt\"], [\"IMesh\"], [\"Equihash\"], [\"Lyra2Z\"], [\"X11\"], [\"CryptoNight\"], [\"NIST5\"], [\"Lyra2RE\"], [\"Tribus\"], [\"Lyra2Z\"], [\"CryptoNight\"], [\"CryptoNight Heavy\"], [\"CryptoNight\"], [\"Jump Consistent Hash\"], [\"CryptoNight\"], [\"X16R\"], [\"HMQ1725\"], [\"X11\"], [\"Scrypt\"], [\"CryptoNight-V7\"], [\"Cryptonight-GPU\"], [\"XEVAN\"], [\"CryptoNight Heavy\"], [\"SHA-256\"], [\"X11\"], [\"X16R\"], [\"Equihash\"], [\"Lyra2Z\"], [\"SHA-256\"], [\"CryptoNight\"], [\"Blake\"], [\"Blake\"], [\"Equihash\"], [\"Exosis\"], [\"Scrypt\"], [\"Equihash\"], [\"Equihash\"], [\"QuBit\"], [\"SHA-256\"], [\"X13\"], [\"SHA-256\"], [\"Scrypt\"], [\"NeoScrypt\"], [\"Blake\"], [\"Scrypt\"], [\"SHA-256\"], [\"Scrypt\"], [\"Groestl\"], [\"Scrypt\"], [\"Scrypt\"], [\"Multiple\"], [\"Equihash+Scrypt\"], [\"Ethash\"], [\"CryptoNight\"], [\"Equihash\"]], \"hovertemplate\": \"<b>%{hovertext}</b><br><br>Class=%{marker.color}<br>PC 1=%{x}<br>PC 2=%{y}<br>PC 3=%{z}<br>Algorithm=%{customdata[0]}<extra></extra>\", \"hovertext\": [\"Bitcoin\", \"Ethereum\", \"Litecoin\", \"Monero\", \"Ethereum Classic\", \"ZCash\", \"DigiByte\", \"ProsperCoin\", \"Spreadcoin\", \"Argentum\", \"MyriadCoin\", \"MoonCoin\", \"ZetaCoin\", \"SexCoin\", \"Quatloo\", \"QuarkCoin\", \"Riecoin\", \"Digitalcoin \", \"Catcoin\", \"CannaCoin\", \"CryptCoin\", \"Verge\", \"DevCoin\", \"EarthCoin\", \"E-Gulden\", \"Einsteinium\", \"Emerald\", \"Franko\", \"FeatherCoin\", \"GrandCoin\", \"GlobalCoin\", \"GoldCoin\", \"Infinite Coin\", \"IXcoin\", \"KrugerCoin\", \"LuckyCoin\", \"Litebar \", \"MegaCoin\", \"MediterraneanCoin\", \"MinCoin\", \"NobleCoin\", \"Namecoin\", \"NyanCoin\", \"RonPaulCoin\", \"StableCoin\", \"SmartCoin\", \"SysCoin\", \"TigerCoin\", \"TerraCoin\", \"UnbreakableCoin\", \"Unobtanium\", \"UroCoin\", \"ViaCoin\", \"Vertcoin\", \"WorldCoin\", \"JouleCoin\", \"ByteCoin\", \"DigitalNote \", \"MonaCoin\", \"Gulden\", \"PesetaCoin\", \"Wild Beast Coin\", \"Flo\", \"ArtByte\", \"Folding Coin\", \"Unitus\", \"CypherPunkCoin\", \"OmniCron\", \"GreenCoin\", \"Cryptonite\", \"MasterCoin\", \"SoonCoin\", \"1Credit\", \"MarsCoin \", \"Crypto\", \"Anarchists Prime\", \"BowsCoin\", \"Song Coin\", \"BitZeny\", \"Expanse\", \"Siacoin\", \"MindCoin\", \"I0coin\", \"Revolution VR\", \"HOdlcoin\", \"Gamecredits\", \"CarpeDiemCoin\", \"Adzcoin\", \"SoilCoin\", \"YoCoin\", \"SibCoin\", \"Francs\", \"BolivarCoin\", \"Omni\", \"PizzaCoin\", \"Komodo\", \"Karbo\", \"ZayedCoin\", \"Circuits of Value\", \"DopeCoin\", \"DollarCoin\", \"Shilling\", \"ZCoin\", \"Elementrem\", \"ZClassic\", \"KiloCoin\", \"ArtexCoin\", \"Kurrent\", \"Cannabis Industry Coin\", \"OsmiumCoin\", \"Bikercoins\", \"HexxCoin\", \"PacCoin\", \"Citadel\", \"BeaverCoin\", \"VaultCoin\", \"Zero\", \"Canada eCoin\", \"Zoin\", \"DubaiCoin\", \"EB3coin\", \"Coinonat\", \"BenjiRolls\", \"ILCoin\", \"EquiTrader\", \"Quantum Resistant Ledger\", \"Dynamic\", \"Nano\", \"ChanCoin\", \"Dinastycoin\", \"DigitalPrice\", \"Unify\", \"SocialCoin\", \"ArcticCoin\", \"DAS\", \"LeviarCoin\", \"Bitcore\", \"gCn Coin\", \"SmartCash\", \"Onix\", \"Bitcoin Cash\", \"Sojourn Coin\", \"NewYorkCoin\", \"FrazCoin\", \"Kronecoin\", \"AdCoin\", \"Linx\", \"Sumokoin\", \"BitcoinZ\", \"Elements\", \"VIVO Coin\", \"Bitcoin Gold\", \"Pirl\", \"eBoost\", \"Pura\", \"Innova\", \"Ellaism\", \"GoByte\", \"SHIELD\", \"UltraNote\", \"BitCoal\", \"DaxxCoin\", \"AC3\", \"Lethean\", \"PopularCoin\", \"Photon\", \"Sucre\", \"SparksPay\", \"GunCoin\", \"IrishCoin\", \"Pioneer Coin\", \"UnitedBitcoin\", \"Interzone\", \"TurtleCoin\", \"MUNcoin\", \"Niobio Cash\", \"ShareChain\", \"Travelflex\", \"KREDS\", \"BitFlip\", \"LottoCoin\", \"Crypto Improvement Fund\", \"Callisto Network\", \"BitTube\", \"Poseidon\", \"Aidos Kuneen\", \"Bitrolium\", \"Alpenschillling\", \"FuturoCoin\", \"Monero Classic\", \"Jumpcoin\", \"Infinex\", \"KEYCO\", \"GINcoin\", \"PlatinCoin\", \"Loki\", \"Newton Coin\", \"MassGrid\", \"PluraCoin\", \"Motion\", \"PlusOneCoin\", \"Axe\", \"HexCoin\", \"Webchain\", \"Ryo\", \"Urals Coin\", \"Qwertycoin\", \"Project Pai\", \"Azart\", \"Xchange\", \"CrypticCoin\", \"Actinium\", \"Bitcoin SV\", \"FREDEnergy\", \"Universal Molecule\", \"Lithium\", \"PirateCash\", \"Exosis\", \"Block-Logic\", \"Beam\", \"Bithereum\", \"SLICE\", \"BLAST\", \"Bitcoin Rhodium\", \"GlobalToken\", \"SolarCoin\", \"UFO Coin\", \"BlakeCoin\", \"Crypto Escudo\", \"Crown Coin\", \"SmileyCoin\", \"Groestlcoin\", \"Bata\", \"Pakcoin\", \"JoinCoin\", \"Vollar\", \"Reality Clash\", \"Beldex\", \"Horizen\"], \"legendgroup\": \"0\", \"marker\": {\"color\": [0, 0, 0, 0, 0, 0, 0, 0, 0, 0, 0, 0, 0, 0, 0, 0, 0, 0, 0, 0, 0, 0, 0, 0, 0, 0, 0, 0, 0, 0, 0, 0, 0, 0, 0, 0, 0, 0, 0, 0, 0, 0, 0, 0, 0, 0, 0, 0, 0, 0, 0, 0, 0, 0, 0, 0, 0, 0, 0, 0, 0, 0, 0, 0, 0, 0, 0, 0, 0, 0, 0, 0, 0, 0, 0, 0, 0, 0, 0, 0, 0, 0, 0, 0, 0, 0, 0, 0, 0, 0, 0, 0, 0, 0, 0, 0, 0, 0, 0, 0, 0, 0, 0, 0, 0, 0, 0, 0, 0, 0, 0, 0, 0, 0, 0, 0, 0, 0, 0, 0, 0, 0, 0, 0, 0, 0, 0, 0, 0, 0, 0, 0, 0, 0, 0, 0, 0, 0, 0, 0, 0, 0, 0, 0, 0, 0, 0, 0, 0, 0, 0, 0, 0, 0, 0, 0, 0, 0, 0, 0, 0, 0, 0, 0, 0, 0, 0, 0, 0, 0, 0, 0, 0, 0, 0, 0, 0, 0, 0, 0, 0, 0, 0, 0, 0, 0, 0, 0, 0, 0, 0, 0, 0, 0, 0, 0, 0, 0, 0, 0, 0, 0, 0, 0, 0, 0, 0, 0, 0, 0, 0, 0, 0, 0, 0, 0, 0, 0, 0, 0, 0, 0, 0, 0, 0, 0, 0, 0, 0, 0, 0, 0, 0, 0, 0, 0, 0, 0, 0], \"coloraxis\": \"coloraxis\", \"symbol\": \"diamond\"}, \"mode\": \"markers\", \"name\": \"0\", \"scene\": \"scene\", \"showlegend\": true, \"type\": \"scatter3d\", \"x\": [-0.14478431449190385, -0.14655579227494547, -0.16541293419712516, -0.1489788138715862, -0.14499691210787005, -0.15498268820817726, 0.15681662446843891, -0.16655967651877837, -0.22671821435363038, -0.16617600910047003, -0.09670912126439471, 2.5569188874340245, -0.14186799268150993, -0.16343014331704303, -0.16597990792713124, -0.22507159173113042, -0.20301064057561913, -0.16602878767914256, -0.16654193651437113, -0.16662843519987258, -0.22680759059874414, 0.18056601782934045, 0.2332278374992576, 0.08221027454315596, -0.1663746300117306, -0.16197795641014132, -0.16631388359418167, -0.16668546091438663, -0.17231761216208305, -0.1458982340614696, -0.16548005299517737, -0.1657575908895651, 1.5829785485284869, -0.14474567080349376, -0.16304571860666678, -0.16640108236930579, -0.16675604974947864, -0.16601497590771327, -0.14849808543931373, -0.1666372604605981, -0.0314698991148015, -0.14482330770193014, -0.16029844212257244, -0.16661667529841137, -0.16470995587785012, -0.16610319024866982, -0.13196948109892467, -0.1442868473663075, -0.14457415875223562, -0.14455707023964323, -0.14514811919718726, -0.22698157608964545, -0.16633306487148328, -0.19530838958065516, -0.16343483142272072, -0.14435416858174555, 3.8638985568957387, 0.46140152205018325, -0.16520012829916733, -0.1497909937740979, -0.16391840184535045, -0.16675825753607426, -0.16378340675530786, -0.15000087050486818, -0.1243634042973507, -0.13073081740417886, -0.18188832044680317, -0.1666312907307916, -0.039508320351580396, -0.11379265934638902, -0.16676715667545614, -0.14485109467565746, 0.4857746046066939, -0.22636849512386453, -0.15524413847173313, -0.14459081023310932, -0.2266535121797814, -0.1648899285880521, -0.16408182496522286, -0.14762358379788554, 0.37515392099308, -0.22668892985659087, -0.1447467935368158, -0.16272327101082654, -0.09548027843117166, -0.16532987247675054, 0.27391774000651825, -0.22584924563280953, -0.1537184721879797, -0.16557723341236974, -0.15929637308207242, -0.16655696247317156, -0.2266521448748622, -0.16676721519557755, -0.22680216707937992, -0.2820471878705361, 0.3062357121608681, -0.14500698708892026, -0.11079437740651542, -0.16393260858482203, -0.14496560106159445, -0.1664304487183682, -0.14793078119431888, -0.14736563638355954, -0.15500431265015474, -0.09345060487331852, -0.21338006749918423, -0.22462921914410283, 0.3062300934037142, -0.16674894313519995, 0.30636086103459587, -0.155784865494199, 0.48886227328460186, -0.14774277229775165, -0.16671721830410138, -0.21953203682207653, -0.15501669867960563, -0.16484967751207996, -0.15550313010812944, -0.15802059034769778, -0.13762397404813342, -0.18647930250160205, -0.16627938984869403, -0.11131626335142597, -0.16610133029362104, -0.14760059903315495, -0.14695636503906884, -0.025285395937427756, -0.15181037065138664, 0.3423679031443661, -0.2258576141617453, -0.16642079270283547, -0.16618399538923032, -0.22625249881545006, -0.2268302198791611, 0.30662527351572805, -0.15290146482563483, 3.244445996386192, -0.10725360416343975, -0.21769734348628844, -0.14478347842333184, -0.09229707400909795, 1.5808493104825228, -0.1665186724449468, -0.16597001664187788, -0.1656708617539118, -0.16565778820950247, 0.3068090068239383, 0.05741871757873393, -0.18119845652583066, -0.17700849040331817, -0.1548626903343364, -0.15247692407321445, -0.1648478860543422, -0.22237254860268887, -0.1768538181745928, -0.14572983857672053, -0.17695408049908823, -0.12095814523834128, 1.1446066685294884, 0.30621284242232233, -0.07057650914599661, -0.22211368732313894, -0.13670739025607226, -0.08286935429213041, 1.097997463015194, -0.22680420802761017, -0.17700605863084787, -0.17004071607591076, -0.16576934083014633, -0.22672958440132968, -0.14476287022113313, -0.20672902727822495, 8.048433836093176, -0.14948582691082363, 0.3100891595665647, 0.026356593145417096, -0.1519800672422907, -0.18085973524078902, -0.1663433035581636, 0.14086992091527076, -0.22086766279059347, -0.09874152109898146, 0.31414039965462004, -0.16658042830671035, -0.15516972955785968, -0.15385335112620718, -0.14571305299432138, -0.22589840060926555, 0.30639543398598895, -0.18653883138369554, -0.15563002282338087, -0.14077012394090227, -0.14801520544331453, 0.3103259996503742, 0.576103980819215, 2.115818618506383, -0.15661305498397915, 0.32000674199246626, -0.19224147483302426, -0.15196902210784644, -0.22678636004677846, -0.1666050166992959, -0.13658593655907336, -0.15005092941611575, -0.11591190837254589, 3.0998444797973366, -0.10459384773006714, -0.22675770894338704, -0.19166886682447914, -0.0495597059052406, -0.14741262451768813, -0.14478351600170078, 0.386196878663369, -0.1400580687470834, -0.14045036511859052, -0.28292385537401415, -0.15363123636901327, -0.1654967646889077, -0.15292171186714315, -0.15469543469434452, -0.18109885072662002, -0.14405933556376518, -0.11568270214452182, -0.14292670630961885, 0.5297196433203252, -0.10213908113350682, -0.09088678954471861, -0.150151508438617, -0.14457352898660714, 0.549403389321502, -0.20257145356345171, -0.16668191088568615, -0.16463661523650414, -0.13146595089717988, -0.1239761460708122, -0.14739880927608373, 0.3279798315358873, -0.15498374551989327], \"y\": [-1.313502746943978, -2.001325092676406, -1.146900069912021, -2.2864855684734873, -2.0014235328365353, -2.1359095592944, -1.7996020145200873, -1.1468929483145198, -0.8883158832369213, -1.1469109775780308, -1.7944076463746879, -1.3310754769522046, -1.3135127058177014, -1.146953115959516, -1.1469302005940165, -0.409258383718299, -1.2394862499769668, -1.1468948177391678, -1.1468923628717107, -1.14688960745003, -0.8883174052891266, -1.7956456841890165, -1.316001394190147, -1.1483037105505882, -1.1468868415433748, -1.146940730757194, -1.1468926879633667, -1.1468901302788737, -1.6108434551800173, -1.1472100503312368, -1.1468922925716207, -1.1469030545204635, -1.153805719709102, -1.31350147165289, -1.146951435879841, -1.1468870007659357, -1.1468854039099892, -1.1468899610181782, -2.1793978573134085, -1.146887657554341, -1.1531259100691065, -1.3135040337697266, -1.146911861115085, -1.146894829347069, -1.1469953514090918, -1.146899438603248, -1.313698652812873, -1.313504895650203, -1.3135108000558022, -1.3135373581963652, -1.3134999428790786, -0.8883102997299869, -1.1468868973187132, -1.2308443180713013, -1.1469642770998958, -1.3135056813162231, -2.3022954189779976, -2.290057945407193, -1.1469081212139163, -1.1475236534187434, -1.1469095505391125, -1.146886388928254, -1.146900537591199, -1.1470452370755426, -2.208111542634748, -1.7941029277439333, -1.5493380267278818, -1.146882729410101, -1.1498224930672514, -2.225236284887782, -1.1468852490506698, -1.31350495077536, -1.1910140862780163, -0.8883136206629914, -2.244839803184137, -1.3135197431469905, -0.8883144617215563, -1.1469729124744474, -1.1469746222864845, -2.0013723979163305, -2.1967218653583553, -0.8883120618549676, -1.3135015087045245, -1.1469012387089417, -1.1486424400655364, -1.146897328769127, -1.3151055759051204, -0.8883328854571597, -2.230383634514379, -1.1469656968114468, -2.1423072556958993, -1.1468921450085134, -0.8883172715548847, -1.1468852488192787, -0.8883222224793, -1.8595606947566223, -2.288048362416514, -1.3135020558676789, -1.7943014865948994, -1.1469340110035704, -1.3135013340812065, -1.1468951072833173, -2.1392116371325094, -2.0013705224827407, -2.1359102729286126, -1.1516026573723182, -0.8882183020866631, -0.8883954014453115, -2.2880563989720586, -1.1468861431268107, -2.2880549384293096, -2.2448178290076206, -0.9360604415980263, -2.2865768192437823, -1.1468855570381407, -0.888778194451225, -2.135907826727271, -1.146892901546355, -2.244816382510033, -2.1936474407210524, -1.1487780007833954, -0.6244316109886007, -1.1468940622725936, -1.3141676175645582, -1.1469142229942728, -2.286515028221654, -2.151382850606073, -2.2101797472203706, -2.2626800192905656, -2.2882762946307467, -0.8883445814538583, -1.146887135056054, -1.146919092265143, -0.8883290635905496, -0.8883187944494223, -2.288066910911624, -2.09716958437131, -1.1770582216369152, -1.358263879632257, -0.8887890211306159, -1.3135027193526476, -1.1519214588973086, -1.0892112307603818, -1.1468908813886631, -1.146918454344415, -1.146920001675468, -1.1469195702317998, -2.2880857490389532, -2.1438735727471014, -0.8880841285546346, -1.6107777147933167, -2.135905599211256, -2.2304328118858625, -1.1468928424259603, -0.8884080045965638, -1.6107854577147829, -2.0014976820787966, -1.6107793451443293, -1.7942514848398028, -2.3210417303073063, -2.288050901494691, -2.005955069608036, -0.8885422096505188, -2.2867939647886066, -1.1476847674115438, -1.1906987269835287, -0.8883185783902201, -1.6107733521075116, -1.610885367901901, -1.146897557005557, -0.8883183996801248, -1.3135014439972912, -1.1879164506091608, -2.7462778301077977, -2.260728957975546, -2.288153872654264, -1.1476488667738298, -2.2303762266626257, -1.2310926528777415, -1.1468993687720404, -1.1498701703308776, -0.8884654022973183, -2.0043864643649743, -2.288494099274454, -1.146893633150034, -2.2394025230118815, -2.135907262940561, -2.1393372969635815, -0.8883459274587345, -2.2880490868001173, -0.6244141247015951, -2.2448243386738542, -2.0694241584080855, -2.1392066434851102, -2.2883344841037343, -2.3043271611150344, -2.359650659566536, -2.089888831954932, -2.288300502482553, -1.2015803339619775, -2.246099585123892, -0.8883188458708912, -1.14689523346775, -2.287325630999573, -2.1098062275125797, -0.7035059216184131, -2.3525968791925904, -1.3136602736468026, -0.8883207553040134, -1.2016170547807852, -2.1378398943339674, -2.13923921736375, -1.3135027205927816, -2.2911694157730613, -2.2113505380769696, -2.211306462889442, -0.16242557818780073, -2.135964028992755, -1.146928531030589, -2.136014126540613, -2.1359071355855477, -1.54938334712195, -1.3135095124916112, -0.379698123132167, -1.3135463631387805, -1.1939176519673176, -1.6111426138194018, -2.214648968035882, -1.1470502083198093, -1.3135107792727314, -1.1589372156427993, -1.2394867447641906, -1.1468855623802412, -1.1469443968198838, -1.7941291865576934, -2.270311010642002, -2.0013703913159784, -2.288323034840562, -2.135909594187037], \"z\": [0.2129357724291053, 0.4097261130665428, -0.01272744656291398, 0.4699705527768912, 0.4097174114870384, 0.3698207842080791, 0.34863523624485043, -0.012707894101383824, 0.020439818248283042, -0.01271128423724242, 0.3522288348095203, -0.025452785710162275, 0.21288440580330453, -0.012753049636253825, -0.012711001214033431, 0.08638048549292125, 0.15010128614760054, -0.012717233528939177, -0.01270833668797323, -0.01270730864927534, 0.02044176052674442, 0.3474036995390439, 0.20652093035573166, -0.016976556123761803, -0.01271251073509714, -0.012782121234398409, -0.012712444878581544, -0.01270615969386161, 0.2685417733253662, -0.013022154657535699, -0.012727784725921424, -0.012720537722649361, -0.043334382966067946, 0.2129348083268531, -0.012760423523466872, -0.012711994550940992, -0.012705819818331384, -0.012718464552303164, 0.4023196568179982, -0.012707539886840539, -0.013924761808549811, 0.21293674525140494, -0.012818673551341206, -0.012706472067043034, -0.012721120226133087, -0.012714941120269446, 0.21274070368518275, 0.2129271009166899, 0.21293354837259829, 0.21293858501931587, 0.21294186573826548, 0.020443513477480836, -0.012713260197967988, 0.23295071473308565, -0.012750715740415171, 0.21292849123458144, 0.3827750049826457, 0.44258032301331346, -0.012729719485395695, -0.012887745480739872, -0.012752888883609106, -0.012705581008728001, -0.012757174877384581, -0.012980267951664294, 0.4473795175129478, 0.35279010002706335, 0.2316536516646018, -0.012708641776634545, -0.014443028315822155, 0.4358178454473092, -0.012705647738889363, 0.21293743849485897, -0.015759517175546068, 0.02043296219037738, 0.43685533639580393, 0.21293565445056375, 0.020438347788392815, -0.012722346177836916, -0.0127367911533711, 0.4097551833766578, 0.4375441506714867, 0.02043851259338102, 0.21293483633737095, -0.012776435548346544, 0.21145041014070912, -0.01272951882866214, 0.205595813771691, 0.020427339585453775, 0.48999182335022645, -0.012711220979225172, 0.4086514895182121, -0.01270810557538436, 0.020438888726659048, -0.012705646714500448, 0.020442631556384348, 0.28971334165455787, 0.44501528942925506, 0.21293970843536483, 0.352465230797343, -0.01274770200998916, 0.21293880563257817, -0.012709824278233499, 0.3513284661728589, 0.4097500848433097, 0.36982132370557796, -0.013097248958676332, 0.02017605748188836, 0.020417603565733886, 0.4450170109976664, -0.012705800984403723, 0.4450143235912488, 0.43686080633932095, 0.01696054159492162, 0.46996631147216095, -0.01270649964197584, 0.020401421229532937, 0.369821057668016, -0.012739198773237394, 0.436855358851586, 0.3936394513289397, -0.012857765155271685, 0.016703935971728485, -0.012712799344037169, 0.21245718212159898, -0.012711997260871327, 0.46995126345215277, 0.39729876352970583, 0.44758343287191515, 0.5502690579127582, 0.4443999328942716, 0.020429848569660212, -0.01271160677671234, -0.012709503602457059, 0.020433949846632497, 0.020442454479818968, 0.44501189601111085, 0.47132852262344715, -0.06905788133134745, 0.1417900552389617, 0.020370024635601943, 0.21293575157044706, -0.013054146519254165, -0.05630615503185637, -0.01270906085434647, -0.01271354818873342, -0.012718711454042894, -0.012719037619431465, 0.44501232785769324, 0.36753768267070686, 0.019560065804390944, 0.2686143810752203, 0.36981779044051805, 0.48997900676764844, -0.012739243467429863, 0.020378842049002352, 0.2686131099615026, 0.4097457602901391, 0.2686137136900264, 0.35264116979549964, 0.4363175724743847, 0.4450162194015926, 0.40926816973861263, 0.020401136371065325, 0.4698080871843797, -0.014080048442246763, 0.08983801380887094, 0.02044193490936753, 0.26861345783041246, 0.2685085452415695, -0.012721430002633377, 0.020440533201835333, 0.21293511752858552, 0.14144030879651107, 0.3956202029027556, 0.42895070481899367, 0.4449660182913605, -0.01608625944202198, 0.4899585161290811, 0.23273630522941582, -0.012710560793501812, -0.017734586328716717, 0.02036286179073771, 0.40946767551121754, 0.4449604042872933, -0.012707376375298144, 0.49989778240614535, 0.3697996533045791, 0.3513131894356204, 0.020430866130551464, 0.44501251221450466, 0.016701503309423143, 0.43685928370176524, 0.43280592241554816, 0.35132900541910217, 0.44499806289148547, 0.37130507411924396, 0.42631978562742545, 0.3123515213884293, 0.4448140478159237, 0.19142464351206556, 0.40686897031158653, 0.020441662144071938, -0.012706604036157232, 0.4699129535998257, 0.5075091774596493, 0.07039436604285078, 0.33483984768437314, 0.21223196285360318, 0.020441522392354607, 0.1914215603998093, 0.36828021529995636, 0.35132453847841344, 0.21293575250797128, 0.44418054220732367, 0.45761870657350534, 0.4576170084130722, 0.12314480246950008, 0.5471841351485143, -0.012720179663146442, 0.3698041277309666, 0.3698150388996024, 0.2316483318373105, 0.21292386708132705, -0.014332613778937813, 0.21291056098715364, -0.015978928213289563, 0.26731767013012464, 0.45738318267977707, -0.012976509760415247, 0.21293353266088738, -0.023384990271514177, 0.15009334810323485, -0.012707144738585209, -0.01273272582365293, 0.3528088430440531, 0.5543322843550782, 0.4097506655314286, 0.4446726682022785, 0.36982081058642474]}, {\"customdata\": [[\"TRC10\"]], \"hovertemplate\": \"<b>%{hovertext}</b><br><br>Class=%{marker.color}<br>PC 1=%{x}<br>PC 2=%{y}<br>PC 3=%{z}<br>Algorithm=%{customdata[0]}<extra></extra>\", \"hovertext\": [\"BitTorrent\"], \"legendgroup\": \"2\", \"marker\": {\"color\": [2], \"coloraxis\": \"coloraxis\", \"symbol\": \"square\"}, \"mode\": \"markers\", \"name\": \"2\", \"scene\": \"scene\", \"showlegend\": true, \"type\": \"scatter3d\", \"x\": [34.0758067949422], \"y\": [1.7981886192464933], \"z\": [-0.5924368543855926]}],                        {\"coloraxis\": {\"colorbar\": {\"title\": {\"text\": \"Class\"}}, \"colorscale\": [[0.0, \"#0d0887\"], [0.1111111111111111, \"#46039f\"], [0.2222222222222222, \"#7201a8\"], [0.3333333333333333, \"#9c179e\"], [0.4444444444444444, \"#bd3786\"], [0.5555555555555556, \"#d8576b\"], [0.6666666666666666, \"#ed7953\"], [0.7777777777777778, \"#fb9f3a\"], [0.8888888888888888, \"#fdca26\"], [1.0, \"#f0f921\"]]}, \"legend\": {\"title\": {\"text\": \"Class\"}, \"tracegroupgap\": 0, \"x\": 0, \"y\": 1}, \"margin\": {\"t\": 60}, \"scene\": {\"domain\": {\"x\": [0.0, 1.0], \"y\": [0.0, 1.0]}, \"xaxis\": {\"title\": {\"text\": \"PC 1\"}}, \"yaxis\": {\"title\": {\"text\": \"PC 2\"}}, \"zaxis\": {\"title\": {\"text\": \"PC 3\"}}}, \"template\": {\"data\": {\"bar\": [{\"error_x\": {\"color\": \"#2a3f5f\"}, \"error_y\": {\"color\": \"#2a3f5f\"}, \"marker\": {\"line\": {\"color\": \"#E5ECF6\", \"width\": 0.5}}, \"type\": \"bar\"}], \"barpolar\": [{\"marker\": {\"line\": {\"color\": \"#E5ECF6\", \"width\": 0.5}}, \"type\": \"barpolar\"}], \"carpet\": [{\"aaxis\": {\"endlinecolor\": \"#2a3f5f\", \"gridcolor\": \"white\", \"linecolor\": \"white\", \"minorgridcolor\": \"white\", \"startlinecolor\": \"#2a3f5f\"}, \"baxis\": {\"endlinecolor\": \"#2a3f5f\", \"gridcolor\": \"white\", \"linecolor\": \"white\", \"minorgridcolor\": \"white\", \"startlinecolor\": \"#2a3f5f\"}, \"type\": \"carpet\"}], \"choropleth\": [{\"colorbar\": {\"outlinewidth\": 0, \"ticks\": \"\"}, \"type\": \"choropleth\"}], \"contour\": [{\"colorbar\": {\"outlinewidth\": 0, \"ticks\": \"\"}, \"colorscale\": [[0.0, \"#0d0887\"], [0.1111111111111111, \"#46039f\"], [0.2222222222222222, \"#7201a8\"], [0.3333333333333333, \"#9c179e\"], [0.4444444444444444, \"#bd3786\"], [0.5555555555555556, \"#d8576b\"], [0.6666666666666666, \"#ed7953\"], [0.7777777777777778, \"#fb9f3a\"], [0.8888888888888888, \"#fdca26\"], [1.0, \"#f0f921\"]], \"type\": \"contour\"}], \"contourcarpet\": [{\"colorbar\": {\"outlinewidth\": 0, \"ticks\": \"\"}, \"type\": \"contourcarpet\"}], \"heatmap\": [{\"colorbar\": {\"outlinewidth\": 0, \"ticks\": \"\"}, \"colorscale\": [[0.0, \"#0d0887\"], [0.1111111111111111, \"#46039f\"], [0.2222222222222222, \"#7201a8\"], [0.3333333333333333, \"#9c179e\"], [0.4444444444444444, \"#bd3786\"], [0.5555555555555556, \"#d8576b\"], [0.6666666666666666, \"#ed7953\"], [0.7777777777777778, \"#fb9f3a\"], [0.8888888888888888, \"#fdca26\"], [1.0, \"#f0f921\"]], \"type\": \"heatmap\"}], \"heatmapgl\": [{\"colorbar\": {\"outlinewidth\": 0, \"ticks\": \"\"}, \"colorscale\": [[0.0, \"#0d0887\"], [0.1111111111111111, \"#46039f\"], [0.2222222222222222, \"#7201a8\"], [0.3333333333333333, \"#9c179e\"], [0.4444444444444444, \"#bd3786\"], [0.5555555555555556, \"#d8576b\"], [0.6666666666666666, \"#ed7953\"], [0.7777777777777778, \"#fb9f3a\"], [0.8888888888888888, \"#fdca26\"], [1.0, \"#f0f921\"]], \"type\": \"heatmapgl\"}], \"histogram\": [{\"marker\": {\"colorbar\": {\"outlinewidth\": 0, \"ticks\": \"\"}}, \"type\": \"histogram\"}], \"histogram2d\": [{\"colorbar\": {\"outlinewidth\": 0, \"ticks\": \"\"}, \"colorscale\": [[0.0, \"#0d0887\"], [0.1111111111111111, \"#46039f\"], [0.2222222222222222, \"#7201a8\"], [0.3333333333333333, \"#9c179e\"], [0.4444444444444444, \"#bd3786\"], [0.5555555555555556, \"#d8576b\"], [0.6666666666666666, \"#ed7953\"], [0.7777777777777778, \"#fb9f3a\"], [0.8888888888888888, \"#fdca26\"], [1.0, \"#f0f921\"]], \"type\": \"histogram2d\"}], \"histogram2dcontour\": [{\"colorbar\": {\"outlinewidth\": 0, \"ticks\": \"\"}, \"colorscale\": [[0.0, \"#0d0887\"], [0.1111111111111111, \"#46039f\"], [0.2222222222222222, \"#7201a8\"], [0.3333333333333333, \"#9c179e\"], [0.4444444444444444, \"#bd3786\"], [0.5555555555555556, \"#d8576b\"], [0.6666666666666666, \"#ed7953\"], [0.7777777777777778, \"#fb9f3a\"], [0.8888888888888888, \"#fdca26\"], [1.0, \"#f0f921\"]], \"type\": \"histogram2dcontour\"}], \"mesh3d\": [{\"colorbar\": {\"outlinewidth\": 0, \"ticks\": \"\"}, \"type\": \"mesh3d\"}], \"parcoords\": [{\"line\": {\"colorbar\": {\"outlinewidth\": 0, \"ticks\": \"\"}}, \"type\": \"parcoords\"}], \"pie\": [{\"automargin\": true, \"type\": \"pie\"}], \"scatter\": [{\"marker\": {\"colorbar\": {\"outlinewidth\": 0, \"ticks\": \"\"}}, \"type\": \"scatter\"}], \"scatter3d\": [{\"line\": {\"colorbar\": {\"outlinewidth\": 0, \"ticks\": \"\"}}, \"marker\": {\"colorbar\": {\"outlinewidth\": 0, \"ticks\": \"\"}}, \"type\": \"scatter3d\"}], \"scattercarpet\": [{\"marker\": {\"colorbar\": {\"outlinewidth\": 0, \"ticks\": \"\"}}, \"type\": \"scattercarpet\"}], \"scattergeo\": [{\"marker\": {\"colorbar\": {\"outlinewidth\": 0, \"ticks\": \"\"}}, \"type\": \"scattergeo\"}], \"scattergl\": [{\"marker\": {\"colorbar\": {\"outlinewidth\": 0, \"ticks\": \"\"}}, \"type\": \"scattergl\"}], \"scattermapbox\": [{\"marker\": {\"colorbar\": {\"outlinewidth\": 0, \"ticks\": \"\"}}, \"type\": \"scattermapbox\"}], \"scatterpolar\": [{\"marker\": {\"colorbar\": {\"outlinewidth\": 0, \"ticks\": \"\"}}, \"type\": \"scatterpolar\"}], \"scatterpolargl\": [{\"marker\": {\"colorbar\": {\"outlinewidth\": 0, \"ticks\": \"\"}}, \"type\": \"scatterpolargl\"}], \"scatterternary\": [{\"marker\": {\"colorbar\": {\"outlinewidth\": 0, \"ticks\": \"\"}}, \"type\": \"scatterternary\"}], \"surface\": [{\"colorbar\": {\"outlinewidth\": 0, \"ticks\": \"\"}, \"colorscale\": [[0.0, \"#0d0887\"], [0.1111111111111111, \"#46039f\"], [0.2222222222222222, \"#7201a8\"], [0.3333333333333333, \"#9c179e\"], [0.4444444444444444, \"#bd3786\"], [0.5555555555555556, \"#d8576b\"], [0.6666666666666666, \"#ed7953\"], [0.7777777777777778, \"#fb9f3a\"], [0.8888888888888888, \"#fdca26\"], [1.0, \"#f0f921\"]], \"type\": \"surface\"}], \"table\": [{\"cells\": {\"fill\": {\"color\": \"#EBF0F8\"}, \"line\": {\"color\": \"white\"}}, \"header\": {\"fill\": {\"color\": \"#C8D4E3\"}, \"line\": {\"color\": \"white\"}}, \"type\": \"table\"}]}, \"layout\": {\"annotationdefaults\": {\"arrowcolor\": \"#2a3f5f\", \"arrowhead\": 0, \"arrowwidth\": 1}, \"autotypenumbers\": \"strict\", \"coloraxis\": {\"colorbar\": {\"outlinewidth\": 0, \"ticks\": \"\"}}, \"colorscale\": {\"diverging\": [[0, \"#8e0152\"], [0.1, \"#c51b7d\"], [0.2, \"#de77ae\"], [0.3, \"#f1b6da\"], [0.4, \"#fde0ef\"], [0.5, \"#f7f7f7\"], [0.6, \"#e6f5d0\"], [0.7, \"#b8e186\"], [0.8, \"#7fbc41\"], [0.9, \"#4d9221\"], [1, \"#276419\"]], \"sequential\": [[0.0, \"#0d0887\"], [0.1111111111111111, \"#46039f\"], [0.2222222222222222, \"#7201a8\"], [0.3333333333333333, \"#9c179e\"], [0.4444444444444444, \"#bd3786\"], [0.5555555555555556, \"#d8576b\"], [0.6666666666666666, \"#ed7953\"], [0.7777777777777778, \"#fb9f3a\"], [0.8888888888888888, \"#fdca26\"], [1.0, \"#f0f921\"]], \"sequentialminus\": [[0.0, \"#0d0887\"], [0.1111111111111111, \"#46039f\"], [0.2222222222222222, \"#7201a8\"], [0.3333333333333333, \"#9c179e\"], [0.4444444444444444, \"#bd3786\"], [0.5555555555555556, \"#d8576b\"], [0.6666666666666666, \"#ed7953\"], [0.7777777777777778, \"#fb9f3a\"], [0.8888888888888888, \"#fdca26\"], [1.0, \"#f0f921\"]]}, \"colorway\": [\"#636efa\", \"#EF553B\", \"#00cc96\", \"#ab63fa\", \"#FFA15A\", \"#19d3f3\", \"#FF6692\", \"#B6E880\", \"#FF97FF\", \"#FECB52\"], \"font\": {\"color\": \"#2a3f5f\"}, \"geo\": {\"bgcolor\": \"white\", \"lakecolor\": \"white\", \"landcolor\": \"#E5ECF6\", \"showlakes\": true, \"showland\": true, \"subunitcolor\": \"white\"}, \"hoverlabel\": {\"align\": \"left\"}, \"hovermode\": \"closest\", \"mapbox\": {\"style\": \"light\"}, \"paper_bgcolor\": \"white\", \"plot_bgcolor\": \"#E5ECF6\", \"polar\": {\"angularaxis\": {\"gridcolor\": \"white\", \"linecolor\": \"white\", \"ticks\": \"\"}, \"bgcolor\": \"#E5ECF6\", \"radialaxis\": {\"gridcolor\": \"white\", \"linecolor\": \"white\", \"ticks\": \"\"}}, \"scene\": {\"xaxis\": {\"backgroundcolor\": \"#E5ECF6\", \"gridcolor\": \"white\", \"gridwidth\": 2, \"linecolor\": \"white\", \"showbackground\": true, \"ticks\": \"\", \"zerolinecolor\": \"white\"}, \"yaxis\": {\"backgroundcolor\": \"#E5ECF6\", \"gridcolor\": \"white\", \"gridwidth\": 2, \"linecolor\": \"white\", \"showbackground\": true, \"ticks\": \"\", \"zerolinecolor\": \"white\"}, \"zaxis\": {\"backgroundcolor\": \"#E5ECF6\", \"gridcolor\": \"white\", \"gridwidth\": 2, \"linecolor\": \"white\", \"showbackground\": true, \"ticks\": \"\", \"zerolinecolor\": \"white\"}}, \"shapedefaults\": {\"line\": {\"color\": \"#2a3f5f\"}}, \"ternary\": {\"aaxis\": {\"gridcolor\": \"white\", \"linecolor\": \"white\", \"ticks\": \"\"}, \"baxis\": {\"gridcolor\": \"white\", \"linecolor\": \"white\", \"ticks\": \"\"}, \"bgcolor\": \"#E5ECF6\", \"caxis\": {\"gridcolor\": \"white\", \"linecolor\": \"white\", \"ticks\": \"\"}}, \"title\": {\"x\": 0.05}, \"xaxis\": {\"automargin\": true, \"gridcolor\": \"white\", \"linecolor\": \"white\", \"ticks\": \"\", \"title\": {\"standoff\": 15}, \"zerolinecolor\": \"white\", \"zerolinewidth\": 2}, \"yaxis\": {\"automargin\": true, \"gridcolor\": \"white\", \"linecolor\": \"white\", \"ticks\": \"\", \"title\": {\"standoff\": 15}, \"zerolinecolor\": \"white\", \"zerolinewidth\": 2}}}, \"width\": 800},                        {\"responsive\": true}                    ).then(function(){\n",
       "                            \n",
       "var gd = document.getElementById('f0ac266e-a8bd-4c17-a068-533887eb8ce9');\n",
       "var x = new MutationObserver(function (mutations, observer) {{\n",
       "        var display = window.getComputedStyle(gd).display;\n",
       "        if (!display || display === 'none') {{\n",
       "            console.log([gd, 'removed!']);\n",
       "            Plotly.purge(gd);\n",
       "            observer.disconnect();\n",
       "        }}\n",
       "}});\n",
       "\n",
       "// Listen for the removal of the full notebook cells\n",
       "var notebookContainer = gd.closest('#notebook-container');\n",
       "if (notebookContainer) {{\n",
       "    x.observe(notebookContainer, {childList: true});\n",
       "}}\n",
       "\n",
       "// Listen for the clearing of the current output cell\n",
       "var outputEl = gd.closest('.output');\n",
       "if (outputEl) {{\n",
       "    x.observe(outputEl, {childList: true});\n",
       "}}\n",
       "\n",
       "                        })                };                });            </script>        </div>"
      ]
     },
     "metadata": {},
     "output_type": "display_data"
    }
   ],
   "source": [
    "# Create a 3D-Scatter with the PCA data and the clusters\n",
    "import plotly.express as px\n",
    "fig = px.scatter_3d(\n",
    "    clustered_df,\n",
    "    x=\"PC 1\",\n",
    "    y=\"PC 2\",\n",
    "    z=\"PC 3\",\n",
    "    color=\"Class\",\n",
    "    symbol=\"Class\",\n",
    "    width=800,\n",
    "    hover_name=\"CoinName\",\n",
    "    hover_data=[\"Algorithm\"]\n",
    ")\n",
    "fig.update_layout(legend=dict(x=0, y=1))\n",
    "fig.show()"
   ]
  },
  {
   "cell_type": "markdown",
   "metadata": {},
   "source": [
    "#### Table of Tradable Cryptocurrencies"
   ]
  },
  {
   "cell_type": "code",
   "execution_count": 149,
   "metadata": {},
   "outputs": [
    {
     "data": {},
     "metadata": {},
     "output_type": "display_data"
    },
    {
     "data": {
      "application/vnd.holoviews_exec.v0+json": "",
      "text/html": [
       "<div id='2003'>\n",
       "\n",
       "\n",
       "\n",
       "\n",
       "\n",
       "  <div class=\"bk-root\" id=\"d55b1686-4498-4ec1-953f-9e7d3e342b34\" data-root-id=\"2003\"></div>\n",
       "</div>\n",
       "<script type=\"application/javascript\">(function(root) {\n",
       "  function embed_document(root) {\n",
       "    var docs_json = {\"da5e89f0-f80c-45c5-a8ac-0f3937390d37\":{\"roots\":{\"references\":[{\"attributes\":{\"margin\":[5,5,5,5],\"name\":\"HSpacer03304\",\"sizing_mode\":\"stretch_width\"},\"id\":\"2004\",\"type\":\"Spacer\"},{\"attributes\":{},\"id\":\"2007\",\"type\":\"StringFormatter\"},{\"attributes\":{\"data\":{\"Algorithm\":[\"Scrypt\",\"Scrypt\",\"X13\",\"SHA-256\",\"Ethash\",\"Scrypt\",\"X11\",\"CryptoNight-V7\",\"Ethash\",\"Equihash\",\"SHA-512\",\"Multiple\",\"SHA-256\",\"SHA-256\",\"Scrypt\",\"X15\",\"X11\",\"Scrypt\",\"Scrypt\",\"Scrypt\",\"Multiple\",\"Scrypt\",\"SHA-256\",\"Scrypt\",\"Scrypt\",\"Scrypt\",\"Quark\",\"Groestl\",\"Scrypt\",\"Scrypt\",\"Scrypt\",\"Scrypt\",\"Scrypt\",\"X11\",\"Scrypt\",\"Groestl\",\"Multiple\",\"SHA-256\",\"Scrypt\",\"Scrypt\",\"Scrypt\",\"Scrypt\",\"PoS\",\"Scrypt\",\"Scrypt\",\"NeoScrypt\",\"Scrypt\",\"Scrypt\",\"Scrypt\",\"Scrypt\",\"X11\",\"Scrypt\",\"X11\",\"SHA-256\",\"Scrypt\",\"Scrypt\",\"Scrypt\",\"SHA3\",\"Scrypt\",\"HybridScryptHash256\",\"Scrypt\",\"Scrypt\",\"SHA-256\",\"Scrypt\",\"X13\",\"Scrypt\",\"SHA-256\",\"Scrypt\",\"X13\",\"NeoScrypt\",\"Scrypt\",\"Scrypt\",\"Scrypt\",\"Scrypt\",\"Scrypt\",\"Scrypt\",\"X11\",\"X11\",\"SHA-256\",\"Multiple\",\"SHA-256\",\"PHI1612\",\"X11\",\"SHA-256\",\"SHA-256\",\"SHA-256\",\"X11\",\"Scrypt\",\"Scrypt\",\"Scrypt\",\"Scrypt\",\"Lyra2REv2\",\"Scrypt\",\"X11\",\"Multiple\",\"SHA-256\",\"X13\",\"Scrypt\",\"CryptoNight\",\"CryptoNight\",\"Shabal256\",\"Counterparty\",\"Scrypt\",\"SHA-256\",\"Groestl\",\"Scrypt\",\"Scrypt\",\"Scrypt\",\"X13\",\"Scrypt\",\"Scrypt\",\"Scrypt\",\"Scrypt\",\"X13\",\"Scrypt\",\"Stanford Folding\",\"X11\",\"Multiple\",\"QuBit\",\"Scrypt\",\"Scrypt\",\"Scrypt\",\"M7 POW\",\"Scrypt\",\"SHA-256\",\"Scrypt\",\"X11\",\"SHA3\",\"X11\",\"Lyra2RE\",\"SHA-256\",\"QUAIT\",\"X11\",\"X11\",\"Scrypt\",\"Scrypt\",\"Scrypt\",\"Ethash\",\"X13\",\"Blake2b\",\"SHA-256\",\"X15\",\"X11\",\"SHA-256\",\"BLAKE256\",\"Scrypt\",\"1GB AES Pattern Search\",\"SHA-256\",\"X11\",\"Scrypt\",\"SHA-256\",\"SHA-256\",\"NIST5\",\"Scrypt\",\"Scrypt\",\"X11\",\"Dagger\",\"Scrypt\",\"X11GOST\",\"X11\",\"Scrypt\",\"SHA-256\",\"Scrypt\",\"PoS\",\"Scrypt\",\"X11\",\"X11\",\"SHA-256\",\"SHA-256\",\"NIST5\",\"X11\",\"Scrypt\",\"POS 3.0\",\"Scrypt\",\"Scrypt\",\"Scrypt\",\"X13\",\"X11\",\"X11\",\"Equihash\",\"X11\",\"Scrypt\",\"CryptoNight\",\"SHA-256\",\"SHA-256\",\"X11\",\"Scrypt\",\"Multiple\",\"Scrypt\",\"Scrypt\",\"Scrypt\",\"SHA-256\",\"Scrypt\",\"Scrypt\",\"SHA-256D\",\"PoS\",\"Scrypt\",\"X11\",\"Lyra2Z\",\"PoS\",\"X13\",\"X14\",\"PoS\",\"SHA-256D\",\"Ethash\",\"Equihash\",\"DPoS\",\"X11\",\"Scrypt\",\"X11\",\"X13\",\"X11\",\"PoS\",\"Scrypt\",\"Scrypt\",\"X11\",\"PoS\",\"X11\",\"SHA-256\",\"Scrypt\",\"X11\",\"Scrypt\",\"Scrypt\",\"X11\",\"CryptoNight\",\"Scrypt\",\"Scrypt\",\"Scrypt\",\"Scrypt\",\"Quark\",\"QuBit\",\"Scrypt\",\"CryptoNight\",\"Lyra2RE\",\"Scrypt\",\"SHA-256\",\"X11\",\"Scrypt\",\"X11\",\"Scrypt\",\"CryptoNight-V7\",\"Scrypt\",\"Scrypt\",\"Scrypt\",\"X13\",\"X11\",\"Equihash\",\"Scrypt\",\"Scrypt\",\"Lyra2RE\",\"Scrypt\",\"Dagger-Hashimoto\",\"X11\",\"Blake2S\",\"X11\",\"Scrypt\",\"PoS\",\"X11\",\"NIST5\",\"PoS\",\"X11\",\"Scrypt\",\"Scrypt\",\"Scrypt\",\"SHA-256\",\"X11\",\"Scrypt\",\"Scrypt\",\"SHA-256\",\"PoS\",\"Scrypt\",\"X15\",\"SHA-256\",\"Scrypt\",\"POS 3.0\",\"CryptoNight-V7\",\"536\",\"Argon2d\",\"Blake2b\",\"Cloverhash\",\"CryptoNight\",\"NIST5\",\"X11\",\"NIST5\",\"Skein\",\"Scrypt\",\"X13\",\"Scrypt\",\"X11\",\"X11\",\"Scrypt\",\"CryptoNight\",\"X13\",\"Time Travel\",\"Scrypt\",\"Keccak\",\"SkunkHash v2 Raptor\",\"X11\",\"Skein\",\"SHA-256\",\"X11\",\"Scrypt\",\"VeChainThor Authority\",\"Scrypt\",\"PoS\",\"Scrypt\",\"Scrypt\",\"Scrypt\",\"Scrypt\",\"Scrypt\",\"Scrypt\",\"Scrypt\",\"CryptoNight\",\"SHA-512\",\"Ouroboros\",\"X11\",\"Equihash\",\"NeoScrypt\",\"X11\",\"Scrypt\",\"NeoScrypt\",\"Lyra2REv2\",\"Equihash\",\"Scrypt\",\"SHA-256\",\"NIST5\",\"PHI1612\",\"Dagger\",\"Scrypt\",\"Quark\",\"Scrypt\",\"POS 2.0\",\"Scrypt\",\"SHA-256\",\"X11\",\"NeoScrypt\",\"Ethash\",\"NeoScrypt\",\"X11\",\"DPoS\",\"NIST5\",\"X13\",\"Multiple\",\"Scrypt\",\"CryptoNight\",\"CryptoNight\",\"Ethash\",\"NIST5\",\"Quark\",\"X11\",\"CryptoNight-V7\",\"Scrypt\",\"Scrypt\",\"Scrypt\",\"X11\",\"BLAKE256\",\"X11\",\"NeoScrypt\",\"Quark\",\"NeoScrypt\",\"Scrypt\",\"Scrypt\",\"Scrypt\",\"X11\",\"X11\",\"SHA-256\",\"C11\",\"POS 3.0\",\"Ethash\",\"Scrypt\",\"CryptoNight\",\"SkunkHash\",\"Scrypt\",\"CryptoNight\",\"Scrypt\",\"Dagger\",\"Lyra2REv2\",\"X13\",\"Proof-of-BibleHash\",\"SHA-256 + Hive\",\"Scrypt\",\"Scrypt\",\"X11\",\"C11\",\"Proof-of-Authority\",\"X11\",\"XEVAN\",\"Scrypt\",\"VBFT\",\"Ethash\",\"CryptoNight\",\"Scrypt\",\"IMesh\",\"NIST5\",\"Scrypt\",\"Scrypt\",\"Equihash\",\"Scrypt\",\"Lyra2Z\",\"Green Protocol\",\"PoS\",\"Scrypt\",\"Semux BFT consensus\",\"X11\",\"Quark\",\"PoS\",\"CryptoNight\",\"X16R\",\"Scrypt\",\"NIST5\",\"Lyra2RE\",\"XEVAN\",\"Tribus\",\"Scrypt\",\"Lyra2Z\",\"CryptoNight\",\"CryptoNight Heavy\",\"CryptoNight\",\"Scrypt\",\"Scrypt\",\"Jump Consistent Hash\",\"SHA-256D\",\"CryptoNight\",\"Scrypt\",\"X15\",\"Scrypt\",\"Quark\",\"SHA-256\",\"DPoS\",\"X16R\",\"HMQ1725\",\"X11\",\"X16R\",\"Quark\",\"Quark\",\"Scrypt\",\"Lyra2REv2\",\"Quark\",\"Scrypt\",\"Scrypt\",\"CryptoNight-V7\",\"Cryptonight-GPU\",\"XEVAN\",\"CryptoNight Heavy\",\"X11\",\"X11\",\"Scrypt\",\"PoS\",\"SHA-256\",\"Keccak\",\"X11\",\"X11\",\"Scrypt\",\"SHA-512\",\"X16R\",\"ECC 256K1\",\"Equihash\",\"XEVAN\",\"Lyra2Z\",\"SHA-256\",\"XEVAN\",\"X11\",\"CryptoNight\",\"Quark\",\"Blake\",\"Blake\",\"Equihash\",\"Exosis\",\"Scrypt\",\"Scrypt\",\"Equihash\",\"Quark\",\"Equihash\",\"Quark\",\"Scrypt\",\"QuBit\",\"X11\",\"Scrypt\",\"XEVAN\",\"SHA-256D\",\"X11\",\"SHA-256\",\"X13\",\"SHA-256\",\"X11\",\"DPoS\",\"Scrypt\",\"Scrypt\",\"X11\",\"NeoScrypt\",\"Scrypt\",\"Blake\",\"Scrypt\",\"SHA-256\",\"Scrypt\",\"X11\",\"Scrypt\",\"Scrypt\",\"SHA-256\",\"X11\",\"SHA-256\",\"Scrypt\",\"Scrypt\",\"Scrypt\",\"Groestl\",\"X11\",\"Scrypt\",\"PoS\",\"Scrypt\",\"Scrypt\",\"X11\",\"SHA-256\",\"DPoS\",\"Scrypt\",\"Scrypt\",\"NeoScrypt\",\"SHA3-256\",\"Multiple\",\"X13\",\"Equihash+Scrypt\",\"DPoS\",\"Ethash\",\"DPoS\",\"SHA-256\",\"Leased POS\",\"PoS\",\"TRC10\",\"PoS\",\"SHA-256\",\"Scrypt\",\"CryptoNight\",\"Equihash\",\"Scrypt\"],\"Class\":{\"__ndarray__\":\"AQAAAAEAAAABAAAAAAAAAAAAAAAAAAAAAQAAAAAAAAAAAAAAAAAAAAEAAAAAAAAAAQAAAAEAAAAAAAAAAQAAAAAAAAAAAAAAAQAAAAEAAAAAAAAAAAAAAAAAAAAAAAAAAAAAAAEAAAAAAAAAAAAAAAAAAAABAAAAAAAAAAEAAAAAAAAAAAAAAAEAAAABAAAAAAAAAAAAAAAAAAAAAAAAAAAAAAAAAAAAAQAAAAEAAAAAAAAAAAAAAAAAAAAAAAAAAAAAAAEAAAABAAAAAAAAAAEAAAAAAAAAAAAAAAAAAAAAAAAAAQAAAAAAAAAAAAAAAQAAAAAAAAABAAAAAQAAAAEAAAAAAAAAAAAAAAAAAAABAAAAAQAAAAEAAAABAAAAAQAAAAAAAAAAAAAAAAAAAAEAAAABAAAAAAAAAAEAAAAAAAAAAQAAAAEAAAAAAAAAAAAAAAAAAAAAAAAAAQAAAAEAAAAAAAAAAQAAAAAAAAAAAAAAAQAAAAEAAAAAAAAAAQAAAAEAAAAAAAAAAAAAAAEAAAABAAAAAAAAAAEAAAABAAAAAAAAAAEAAAAAAAAAAQAAAAAAAAABAAAAAAAAAAEAAAABAAAAAAAAAAAAAAABAAAAAAAAAAAAAAAAAAAAAQAAAAAAAAAAAAAAAAAAAAAAAAAAAAAAAQAAAAEAAAAAAAAAAAAAAAAAAAABAAAAAAAAAAEAAAAAAAAAAAAAAAEAAAAAAAAAAQAAAAAAAAABAAAAAQAAAAAAAAAAAAAAAQAAAAAAAAAAAAAAAQAAAAEAAAAAAAAAAQAAAAAAAAABAAAAAQAAAAEAAAAAAAAAAAAAAAAAAAAAAAAAAQAAAAEAAAABAAAAAQAAAAEAAAAAAAAAAAAAAAEAAAABAAAAAQAAAAEAAAABAAAAAAAAAAEAAAABAAAAAQAAAAEAAAABAAAAAAAAAAEAAAAAAAAAAQAAAAEAAAAAAAAAAQAAAAAAAAABAAAAAQAAAAAAAAABAAAAAAAAAAEAAAAAAAAAAQAAAAAAAAABAAAAAQAAAAEAAAABAAAAAAAAAAEAAAABAAAAAQAAAAEAAAABAAAAAAAAAAAAAAABAAAAAQAAAAAAAAAAAAAAAQAAAAEAAAABAAAAAQAAAAEAAAAAAAAAAQAAAAEAAAABAAAAAQAAAAEAAAABAAAAAQAAAAEAAAAAAAAAAQAAAAEAAAABAAAAAQAAAAEAAAABAAAAAAAAAAAAAAAAAAAAAQAAAAEAAAABAAAAAQAAAAAAAAABAAAAAAAAAAEAAAABAAAAAAAAAAEAAAAAAAAAAAAAAAEAAAAAAAAAAAAAAAEAAAAAAAAAAQAAAAEAAAABAAAAAAAAAAEAAAABAAAAAAAAAAEAAAABAAAAAQAAAAEAAAABAAAAAQAAAAEAAAAAAAAAAQAAAAAAAAABAAAAAQAAAAEAAAABAAAAAAAAAAEAAAAAAAAAAQAAAAAAAAAAAAAAAAAAAAAAAAABAAAAAAAAAAEAAAABAAAAAAAAAAEAAAAAAAAAAAAAAAAAAAABAAAAAAAAAAEAAAAAAAAAAAAAAAAAAAABAAAAAAAAAAEAAAAAAAAAAQAAAAEAAAABAAAAAAAAAAEAAAAAAAAAAAAAAAAAAAAAAAAAAAAAAAEAAAABAAAAAAAAAAEAAAABAAAAAQAAAAAAAAABAAAAAAAAAAEAAAAAAAAAAQAAAAAAAAABAAAAAQAAAAEAAAABAAAAAAAAAAEAAAABAAAAAAAAAAEAAAABAAAAAQAAAAAAAAAAAAAAAAAAAAAAAAABAAAAAQAAAAEAAAABAAAAAAAAAAEAAAAAAAAAAAAAAAAAAAABAAAAAQAAAAAAAAAAAAAAAQAAAAEAAAAAAAAAAQAAAAAAAAAAAAAAAAAAAAEAAAAAAAAAAAAAAAEAAAABAAAAAQAAAAAAAAAAAAAAAAAAAAEAAAABAAAAAQAAAAAAAAAAAAAAAQAAAAAAAAAAAAAAAAAAAAAAAAABAAAAAQAAAAEAAAAAAAAAAAAAAAAAAAABAAAAAQAAAAEAAAABAAAAAQAAAAEAAAAAAAAAAAAAAAAAAAAAAAAAAQAAAAEAAAABAAAAAAAAAAEAAAAAAAAAAQAAAAEAAAABAAAAAQAAAAAAAAABAAAAAQAAAAAAAAABAAAAAQAAAAAAAAAAAAAAAQAAAAAAAAABAAAAAAAAAAAAAAAAAAAAAAAAAAEAAAABAAAAAAAAAAEAAAAAAAAAAQAAAAEAAAABAAAAAQAAAAEAAAABAAAAAAAAAAAAAAAAAAAAAQAAAAEAAAABAAAAAQAAAAEAAAABAAAAAAAAAAEAAAAAAAAAAAAAAAAAAAAAAAAAAQAAAAEAAAABAAAAAQAAAAAAAAABAAAAAQAAAAAAAAABAAAAAQAAAAAAAAABAAAAAAAAAAEAAAAAAAAAAAAAAAEAAAABAAAAAAAAAAEAAAAAAAAAAAAAAAAAAAAAAAAAAAAAAAEAAAAAAAAAAQAAAAAAAAABAAAAAQAAAAAAAAABAAAAAQAAAAEAAAABAAAAAQAAAAAAAAAAAAAAAAAAAAEAAAABAAAAAQAAAAAAAAABAAAAAAAAAAEAAAAAAAAAAQAAAAEAAAABAAAAAQAAAAAAAAABAAAAAQAAAAEAAAAAAAAAAQAAAAAAAAABAAAAAAAAAAEAAAABAAAAAQAAAAAAAAAAAAAAAQAAAAEAAAABAAAAAQAAAAEAAAABAAAAAQAAAAAAAAABAAAAAAAAAAEAAAAAAAAAAQAAAAEAAAABAAAAAQAAAAIAAAABAAAAAQAAAAEAAAAAAAAAAAAAAAEAAAA=\",\"dtype\":\"int32\",\"order\":\"little\",\"shape\":[533]},\"CoinName\":[\"42 Coin\",\"404Coin\",\"EliteCoin\",\"Bitcoin\",\"Ethereum\",\"Litecoin\",\"Dash\",\"Monero\",\"Ethereum Classic\",\"ZCash\",\"Bitshares\",\"DigiByte\",\"BitcoinDark\",\"PayCoin\",\"ProsperCoin\",\"KoboCoin\",\"Spreadcoin\",\"Argentum\",\"Aurora Coin\",\"BlueCoin\",\"MyriadCoin\",\"MoonCoin\",\"ZetaCoin\",\"SexCoin\",\"Quatloo\",\"EnergyCoin\",\"QuarkCoin\",\"Riecoin\",\"Digitalcoin \",\"BitBar\",\"Catcoin\",\"CryptoBullion\",\"CannaCoin\",\"CryptCoin\",\"CasinoCoin\",\"Diamond\",\"Verge\",\"DevCoin\",\"EarthCoin\",\"E-Gulden\",\"Einsteinium\",\"Emerald\",\"Exclusive Coin\",\"FlutterCoin\",\"Franko\",\"FeatherCoin\",\"GrandCoin\",\"GlobalCoin\",\"GoldCoin\",\"HoboNickels\",\"HyperStake\",\"Infinite Coin\",\"IOCoin\",\"IXcoin\",\"KrugerCoin\",\"LuckyCoin\",\"Litebar \",\"MaxCoin\",\"MegaCoin\",\"MediterraneanCoin\",\"MintCoin\",\"MinCoin\",\"MazaCoin\",\"Nautilus Coin\",\"NavCoin\",\"NobleCoin\",\"Namecoin\",\"NyanCoin\",\"OpalCoin\",\"Orbitcoin\",\"PotCoin\",\"PhoenixCoin\",\"Reddcoin\",\"RonPaulCoin\",\"StableCoin\",\"SmartCoin\",\"SuperCoin\",\"SyncCoin\",\"SysCoin\",\"TeslaCoin\",\"TigerCoin\",\"TittieCoin\",\"TorCoin\",\"TerraCoin\",\"UnbreakableCoin\",\"Unobtanium\",\"UroCoin\",\"UnitaryStatus Dollar\",\"UltraCoin\",\"ViaCoin\",\"VeriCoin\",\"Vertcoin\",\"WorldCoin\",\"X11 Coin\",\"Crypti\",\"JouleCoin\",\"StealthCoin\",\"ZCC Coin\",\"ByteCoin\",\"DigitalNote \",\"BurstCoin\",\"StorjCoin\",\"MonaCoin\",\"Neutron\",\"FairCoin\",\"Gulden\",\"RubyCoin\",\"PesetaCoin\",\"Kore\",\"Wild Beast Coin\",\"Dnotes\",\"Flo\",\"8BIT Coin\",\"Sativa Coin\",\"ArtByte\",\"Folding Coin\",\"Ucoin\",\"Unitus\",\"CypherPunkCoin\",\"OmniCron\",\"Vtorrent\",\"GreenCoin\",\"Cryptonite\",\"MasterCoin\",\"SoonCoin\",\"1Credit\",\"IslaCoin\",\"Nexus\",\"MarsCoin \",\"Crypto\",\"Anarchists Prime\",\"Droidz\",\"BowsCoin\",\"Squall Coin\",\"Song Coin\",\"BitZeny\",\"Diggits\",\"Expanse\",\"Paycon\",\"Siacoin\",\"Emercoin\",\"EverGreenCoin\",\"MindCoin\",\"I0coin\",\"Decred\",\"Revolution VR\",\"HOdlcoin\",\"EDRCoin\",\"Hitcoin\",\"Gamecredits\",\"DubaiCoin\",\"CarpeDiemCoin\",\"PWR Coin\",\"BillaryCoin\",\"GPU Coin\",\"Adzcoin\",\"SoilCoin\",\"YoCoin\",\"SibCoin\",\"EuropeCoin\",\"ZeitCoin\",\"SwingCoin\",\"SafeExchangeCoin\",\"Nebuchadnezzar\",\"Francs\",\"BolivarCoin\",\"Ratecoin\",\"Revenu\",\"Clockcoin\",\"VIP Tokens\",\"BitSend\",\"Omni\",\"Let it Ride\",\"PutinCoin\",\"iBankCoin\",\"Frankywillcoin\",\"MudraCoin\",\"PizzaCoin\",\"Lutetium Coin\",\"Komodo\",\"GoldBlocks\",\"CarterCoin\",\"Karbo\",\"BitTokens\",\"ZayedCoin\",\"MustangCoin\",\"ZoneCoin\",\"Circuits of Value\",\"RootCoin\",\"DopeCoin\",\"BitCurrency\",\"DollarCoin\",\"Swiscoin\",\"Shilling\",\"BuzzCoin\",\"Opair\",\"PesoBit\",\"Halloween Coin\",\"ZCoin\",\"CoffeeCoin\",\"RoyalCoin\",\"GanjaCoin V2\",\"TeamUP\",\"LanaCoin\",\"Elementrem\",\"ZClassic\",\"ARK\",\"InsaneCoin\",\"KiloCoin\",\"ArtexCoin\",\"EmberCoin\",\"XenixCoin\",\"FreeCoin\",\"PLNCoin\",\"AquariusCoin\",\"Kurrent\",\"Creatio\",\"Eternity\",\"Eurocoin\",\"BitcoinFast\",\"Stakenet\",\"BitConnect Coin\",\"MoneyCoin\",\"Enigma\",\"Cannabis Industry Coin\",\"Russiacoin\",\"PandaCoin\",\"GameUnits\",\"GAKHcoin\",\"Allsafe\",\"LiteCreed\",\"OsmiumCoin\",\"Bikercoins\",\"HexxCoin\",\"Klingon Empire Darsek\",\"Internet of People\",\"KushCoin\",\"Printerium\",\"PacCoin\",\"Impeach\",\"Citadel\",\"Zilbercoin\",\"FirstCoin\",\"BeaverCoin\",\"FindCoin\",\"VaultCoin\",\"Zero\",\"OpenChat\",\"Canada eCoin\",\"Zoin\",\"RenosCoin\",\"DubaiCoin\",\"VirtacoinPlus\",\"TajCoin\",\"Impact\",\"EB3coin\",\"Atmos\",\"HappyCoin\",\"Coinonat\",\"MacronCoin\",\"Condensate\",\"Independent Money System\",\"ArgusCoin\",\"LomoCoin\",\"ProCurrency\",\"GoldReserve\",\"BenjiRolls\",\"GrowthCoin\",\"ILCoin\",\"Phreak\",\"Degas Coin\",\"HTML5 Coin\",\"Ultimate Secure Cash\",\"EquiTrader\",\"QTUM\",\"Quantum Resistant Ledger\",\"Espers\",\"Dynamic\",\"Nano\",\"ChanCoin\",\"Dinastycoin\",\"Denarius\",\"DigitalPrice\",\"Virta Unique Coin\",\"Bitcoin Planet\",\"Unify\",\"BritCoin\",\"SocialCoin\",\"ArcticCoin\",\"DAS\",\"Linda\",\"LeviarCoin\",\"DeepOnion\",\"Bitcore\",\"gCn Coin\",\"SmartCash\",\"Signatum\",\"Onix\",\"Cream\",\"Bitcoin Cash\",\"Monoeci\",\"Draftcoin\",\"Vechain\",\"Sojourn Coin\",\"Stakecoin\",\"NewYorkCoin\",\"FrazCoin\",\"Kronecoin\",\"AdCoin\",\"Linx\",\"CoinonatX\",\"Ethereum Dark\",\"Sumokoin\",\"Obsidian\",\"Cardano\",\"Regalcoin\",\"BitcoinZ\",\"TrezarCoin\",\"Elements\",\"TerraNovaCoin\",\"VIVO Coin\",\"Rupee\",\"Bitcoin Gold\",\"WomenCoin\",\"Theresa May Coin\",\"NamoCoin\",\"LUXCoin\",\"Pirl\",\"Xios\",\"Bitcloud 2.0\",\"eBoost\",\"KekCoin\",\"BlackholeCoin\",\"Infinity Economics\",\"Pura\",\"Innova\",\"Ellaism\",\"GoByte\",\"Magnet\",\"Lamden Tau\",\"Electra\",\"Bitcoin Diamond\",\"SHIELD\",\"Cash & Back Coin\",\"UltraNote\",\"BitCoal\",\"DaxxCoin\",\"Bulwark\",\"Kalkulus\",\"AC3\",\"Lethean\",\"GermanCoin\",\"LiteCoin Ultra\",\"PopularCoin\",\"PhantomX\",\"Photon\",\"Sucre\",\"SparksPay\",\"Digiwage\",\"GunCoin\",\"IrishCoin\",\"Trollcoin\",\"Litecoin Plus\",\"Monkey Project\",\"Pioneer Coin\",\"UnitedBitcoin\",\"Interzone\",\"TokenPay\",\"1717 Masonic Commemorative Token\",\"My Big Coin\",\"TurtleCoin\",\"MUNcoin\",\"Unified Society USDEX\",\"Niobio Cash\",\"ShareChain\",\"Travelflex\",\"KREDS\",\"Tokyo Coin\",\"BiblePay\",\"LitecoinCash\",\"BitFlip\",\"LottoCoin\",\"Crypto Improvement Fund\",\"Stipend\",\"Poa Network\",\"Pushi\",\"Ellerium\",\"Velox\",\"Ontology\",\"Callisto Network\",\"BitTube\",\"Poseidon\",\"Aidos Kuneen\",\"Bitspace\",\"Briacoin\",\"Ignition\",\"Bitrolium\",\"MedicCoin\",\"Alpenschillling\",\"Bitcoin Green\",\"Deviant Coin\",\"Abjcoin\",\"Semux\",\"FuturoCoin\",\"Carebit\",\"Zealium\",\"Monero Classic\",\"Proton\",\"iDealCash\",\"Jumpcoin\",\"Infinex\",\"Bitcoin Incognito\",\"KEYCO\",\"HollyWoodCoin\",\"GINcoin\",\"PlatinCoin\",\"Loki\",\"Newton Coin\",\"Swisscoin\",\"Xt3ch\",\"MassGrid\",\"TheVig\",\"PluraCoin\",\"EmaratCoin\",\"Dekado\",\"Lynx\",\"Poseidon Quark\",\"BitcoinWSpectrum\",\"Muse\",\"Motion\",\"PlusOneCoin\",\"Axe\",\"Trivechain\",\"Dystem\",\"Giant\",\"Peony Coin\",\"Absolute Coin\",\"Vitae\",\"HexCoin\",\"TPCash\",\"Webchain\",\"Ryo\",\"Urals Coin\",\"Qwertycoin\",\"ARENON\",\"EUNO\",\"MMOCoin\",\"Ketan\",\"Project Pai\",\"XDNA\",\"PAXEX\",\"Azart\",\"ThunderStake\",\"Kcash\",\"Xchange\",\"Acute Angle Cloud\",\"CrypticCoin\",\"Bettex coin\",\"Actinium\",\"Bitcoin SV\",\"BitMoney\",\"Junson Ming Chan Coin\",\"FREDEnergy\",\"HerbCoin\",\"Universal Molecule\",\"Lithium\",\"PirateCash\",\"Exosis\",\"Block-Logic\",\"Oduwa\",\"Beam\",\"Galilel\",\"Bithereum\",\"Crypto Sports\",\"Credit\",\"SLICE\",\"Dash Platinum\",\"Nasdacoin\",\"Beetle Coin\",\"Titan Coin\",\"Award\",\"BLAST\",\"Bitcoin Rhodium\",\"GlobalToken\",\"Insane Coin\",\"ALAX\",\"LiteDoge\",\"SolarCoin\",\"TruckCoin\",\"UFO Coin\",\"OrangeCoin\",\"BlakeCoin\",\"BitstarCoin\",\"NeosCoin\",\"HyperCoin\",\"PinkCoin\",\"Crypto Escudo\",\"AudioCoin\",\"IncaKoin\",\"Piggy Coin\",\"Crown Coin\",\"Genstake\",\"SmileyCoin\",\"XiaoMiCoin\",\"Groestlcoin\",\"CapriCoin\",\" ClubCoin\",\"Radium\",\"Bata\",\"Pakcoin\",\"Creditbit \",\"OKCash\",\"Lisk\",\"HiCoin\",\"WhiteCoin\",\"FriendshipCoin\",\"Fiii\",\"JoinCoin\",\"Triangles Coin\",\"Vollar\",\"EOS\",\"Reality Clash\",\"Oxycoin\",\"TigerCash\",\"Waves\",\"Particl\",\"BitTorrent\",\"Nxt\",\"ZEPHYR\",\"Gapcoin\",\"Beldex\",\"Horizen\",\"BitcoinPlus\"],\"ProofType\":[\"PoW/PoS\",\"PoW/PoS\",\"PoW/PoS\",\"PoW\",\"PoW\",\"PoW\",\"PoW/PoS\",\"PoW\",\"PoW\",\"PoW\",\"PoS\",\"PoW\",\"PoW/PoS\",\"PoS\",\"PoW\",\"PoW/PoS\",\"PoW\",\"PoW\",\"PoW/PoS\",\"PoW/PoS\",\"PoW\",\"PoW\",\"PoW\",\"PoW\",\"PoW\",\"PoW/PoS\",\"PoW\",\"PoW\",\"PoW\",\"PoW/PoS\",\"PoW\",\"PoW/PoS\",\"PoW\",\"PoW\",\"PoC\",\"PoW/PoS\",\"PoW\",\"PoW\",\"PoW\",\"PoW\",\"PoW\",\"PoW\",\"PoS\",\"PoS/PoW/PoT\",\"PoW\",\"PoW\",\"PoW\",\"PoW\",\"PoW\",\"PoW/PoS\",\"PoS\",\"PoW\",\"PoW/PoS\",\"PoW\",\"PoW\",\"PoW\",\"PoW\",\"PoW/PoS\",\"PoW\",\"PoW\",\"PoS\",\"PoW\",\"PoW/PoS\",\"PoS\",\"PoW/PoS\",\"PoW\",\"PoW\",\"PoW\",\"PoW/PoS\",\"PoW/PoS\",\"PoW/PoS\",\"PoW/PoS\",\"PoW/PoS\",\"PoW\",\"PoW\",\"PoW\",\"PoS\",\"PoW/PoS\",\"PoW\",\"PoS\",\"PoW\",\"PoS\",\"PoW/PoS\",\"PoW\",\"PoW\",\"PoW\",\"PoW\",\"PoW/PoS\",\"PoW/PoS\",\"PoW\",\"PoST\",\"PoW\",\"PoW\",\"PoW/PoS\",\"PoS\",\"PoW\",\"PoW/PoS\",\"PoW/PoS\",\"PoW\",\"PoW\",\"PoC\",\"PoS\",\"PoW\",\"PoW/PoS\",\"PoW/PoS\",\"PoW\",\"PoS\",\"PoW\",\"PoW/PoS\",\"PoW\",\"PoS\",\"PoW\",\"PoW/PoS\",\"PoW/PoS\",\"PoW\",\"PoW\",\"PoS\",\"PoW\",\"PoW\",\"PoW\",\"PoW/PoS\",\"PoW\",\"PoW\",\"PoW\",\"PoW\",\"PoW\",\"PoW/PoS\",\"PoW/nPoS\",\"PoW\",\"PoW\",\"PoW\",\"PoW/PoS\",\"PoW\",\"PoS/PoW\",\"PoW\",\"PoW\",\"PoS\",\"PoW\",\"PoW/PoS\",\"PoW\",\"PoW/PoS\",\"PoW/PoS\",\"PoW\",\"PoW\",\"PoW/PoS\",\"PoW\",\"PoW\",\"PoW/PoS\",\"PoW/PoS\",\"PoW\",\"PoW/PoS\",\"PoW\",\"PoW/PoS\",\"PoW/PoS\",\"PoS\",\"PoW\",\"PoW\",\"PoW\",\"PoW\",\"PoW/PoS\",\"PoS\",\"PoW/PoS\",\"PoC\",\"PoS\",\"PoW\",\"PoW\",\"PoW/PoS\",\"PoW/PoS\",\"PoW/PoS\",\"PoW/PoS\",\"PoW/PoS\",\"PoW\",\"PoS\",\"PoW/PoS\",\"PoW/PoS\",\"PoW/PoS\",\"PoS\",\"PoW\",\"PoS\",\"dPoW/PoW\",\"PoW/PoS\",\"PoW/PoS\",\"PoW\",\"PoW/PoS\",\"PoW\",\"PoW/PoS\",\"PoW/PoS\",\"PoW\",\"PoW/PoS\",\"PoW\",\"PoS\",\"PoW\",\"PoW/PoW\",\"PoW\",\"PoW/PoS\",\"PoS\",\"PoW/PoS\",\"PoW/PoS\",\"PoW\",\"PoS\",\"PoS\",\"PoW/PoS\",\"PoS\",\"PoW/PoS\",\"PoW\",\"PoW\",\"DPoS\",\"PoW/PoS\",\"PoW\",\"PoW\",\"PoW/PoS\",\"PoW/PoS\",\"PoS\",\"PoW/PoS\",\"PoW/PoS\",\"PoW\",\"PoS\",\"PoW/PoS\",\"PoW/PoS\",\"PoW/PoS\",\"TPoS\",\"PoW/PoS\",\"PoW/PoS\",\"PoW/PoS\",\"PoW\",\"PoW/PoS\",\"PoS\",\"PoW/PoS\",\"PoW/PoS\",\"PoS\",\"PoW/PoS\",\"PoW\",\"PoW\",\"PoW\",\"PoW/PoS\",\"PoW/PoS\",\"PoW/PoS\",\"PoW/PoS\",\"PoW\",\"PoW/PoS\",\"PoW\",\"PoS\",\"PoW/PoS \",\"PoW\",\"PoS\",\"PoW\",\"PoW\",\"PoW/PoS\",\"PoW\",\"PoW\",\"PoS\",\"PoW\",\"PoW/PoS\",\"PoW/PoS\",\"PoW/PoS\",\"PoW\",\"PoS\",\"PoW/PoS\",\"PoW\",\"PoS\",\"PoW/PoS\",\"PoW/PoS\",\"PoW/PoS\",\"PoW/PoS\",\"PoS\",\"PoW/PoS\",\"PoW\",\"PoS\",\"PoW\",\"PoS\",\"PoW/PoS\",\"PoW/PoS\",\"PoS\",\"PoW\",\"PoS\",\"PoW\",\"PoW/PoS\",\"PoW\",\"PoW\",\"PoW\",\"PoW\",\"PoW/PoS\",\"PoW\",\"PoW/PoS\",\"PoW/PoS\",\"PoW\",\"PoW/PoS\",\"PoW\",\"PoW\",\"PoW\",\"PoW/PoS\",\"PoW\",\"PoW/PoS\",\"PoW\",\"PoW\",\"PoW\",\"PoS\",\"PoW\",\"PoW/PoS\",\"PoW\",\"PoW/PoS\",\"PoS\",\"Proof of Authority\",\"PoW\",\"PoS\",\"PoW\",\"PoW\",\"PoW\",\"PoW\",\"PoW\",\"PoW/PoS\",\"PoW/PoS\",\"PoW\",\"PoS\",\"PoS\",\"PoW/PoS\",\"PoW\",\"PoW/PoS\",\"PoW\",\"PoW/PoS\",\"PoW\",\"PoS\",\"PoW\",\"PoW/PoS\",\"PoW/PoS\",\"PoW/PoS\",\"PoW/PoS\",\"PoW\",\"PoW/PoS\",\"PoW/PoS\",\"PoW\",\"PoS\",\"PoW/PoS\",\"PoS\",\"PoW\",\"PoW\",\"PoW\",\"PoW\",\"PoW/PoS\",\"DPoS\",\"PoW/PoS\",\"PoW/PoS\",\"PoW\",\"PoW/PoS\",\"PoW\",\"PoW\",\"PoW\",\"PoS\",\"PoS\",\"PoW\",\"PoW\",\"PoW/PoS\",\"PoW/PoS\",\"PoW\",\"PoW/PoS\",\"PoW\",\"PoW\",\"PoW\",\"PoS\",\"PoW\",\"PoW\",\"PoW/PoS\",\"PoW/PoS\",\"PoS\",\"PoW\",\"PoW\",\"PoW\",\"PoS\",\"PoS\",\"PoW and PoS\",\"PoW\",\"PoW\",\"PoW/PoS\",\"PoW\",\"PoW\",\"PoW\",\"PoW\",\"PoS\",\"POBh\",\"PoW + Hive\",\"PoW\",\"PoW\",\"PoW\",\"PoW/PoS\",\"PoA\",\"PoW/PoS\",\"PoW/PoS\",\"PoS\",\"PoS\",\"PoW\",\"PoW\",\"PoW\",\"PoW\",\"PoW/PoS\",\"PoW/PoS\",\"PoW/PoS\",\"PoW\",\"PoS\",\"PoW\",\"PoS\",\"PoS\",\"PoW/PoS\",\"DPoS\",\"PoW\",\"PoW/PoS\",\"PoS\",\"PoW\",\"PoS\",\"PoW/PoS\",\"PoW\",\"PoW\",\"PoS/PoW\",\"PoW\",\"PoS\",\"PoW\",\"PoW\",\"PoW\",\"PoW\",\"PoW/PoS\",\"PoS\",\"PoW\",\"PoW/PoS\",\"PoW\",\"PoW/PoS\",\"PoS\",\"HPoW\",\"PoS\",\"PoS\",\"PoS\",\"PoW\",\"PoW\",\"PoW\",\"PoW/PoS\",\"PoS\",\"PoW/PoS\",\"PoS\",\"PoW/PoS\",\"PoS\",\"PoW\",\"PoW/PoS\",\"PoW\",\"PoW\",\"PoW\",\"PoW\",\"PoS\",\"PoW/PoS\",\"PoS\",\"PoS\",\"PoW\",\"PoW/PoS\",\"PoS\",\"PoW\",\"PoW/PoS\",\"Zero-Knowledge Proof\",\"PoW\",\"DPOS\",\"PoW\",\"PoS\",\"PoW\",\"PoW\",\"Pos\",\"PoS\",\"PoW\",\"PoW/PoS\",\"PoW\",\"PoW\",\"PoS\",\"PoW\",\"PoW\",\"PoW/PoS\",\"PoW\",\"PoW/PoS\",\"PoW\",\"PoS\",\"PoW/PoS\",\"PoW\",\"PoS\",\"PoW/PoS\",\"PoW/PoS\",\"PoW/PoS\",\"PoW/PoS\",\"PoW\",\"PoW\",\"PoW\",\"PoW/PoS\",\"DPoS\",\"PoW/PoS\",\"PoW\",\"PoW/PoS\",\"PoW\",\"PoW/PoS\",\"PoW\",\"PoW/PoS\",\"PoS\",\"PoW/PoS\",\"PoW/PoS\",\"PoW\",\"PoW/PoS\",\"PoW/PoS\",\"PoW/PoS\",\"PoW\",\"PoW/PoS\",\"PoW\",\"PoW/PoS\",\"PoW\",\"PoW/PoS\",\"PoW/PoS\",\"PoS\",\"PoW\",\"PoW\",\"Proof of Trust\",\"PoW/PoS\",\"DPoS\",\"PoS\",\"PoW/PoS\",\"PoW/PoS\",\"DPoC\",\"PoW\",\"PoW/PoS\",\"PoW\",\"DPoS\",\"PoW\",\"DPoS\",\"PoS\",\"LPoS\",\"PoS\",\"DPoS\",\"PoS/LPoS\",\"DPoS\",\"PoW/PoS\",\"PoW\",\"PoW\",\"PoS\"],\"TotalCoinSupply\":[\"42\",\"532000000\",\"314159265359\",\"21000000\",\"0\",\"84000000\",\"22000000\",\"0\",\"210000000\",\"21000000\",\"3600570502\",\"21000000000\",\"22000000\",\"12500000\",\"21000000\",\"350000000\",\"20000000\",\"64000000\",\"16768584\",\"0\",\"2000000000\",\"384000000000\",\"169795588\",\"250000000\",\"100000000\",\"0\",\"247000000\",\"84000000\",\"48166000\",\"500000\",\"21000000 \",\"1000000\",\"13140000\",\"18000000\",\"40000000000\",\"4380000\",\"16555000000\",\"21000000000\",\"13500000000\",\"21000000 \",\"299792458\",\"32000000\",\"0\",\"0\",\"11235813\",\"336000000\",\"1420609614\",\"70000000\",\"72245700\",\"120000000\",\"0\",\"90600000000\",\"22000000\",\"21000000\",\"265420800\",\"20000000\",\"1350000\",\"100000000\",\"42000000\",\"200000000\",\"0\",\"10000000\",\"2419200000\",\"16180000\",\"0\",\"15000000000\",\"21000000\",\"337000000\",\"0\",\"3770000\",\"420000000\",\"98000000\",\"0\",\"21000000\",\"250000000\",\"51200000\",\"0\",\"1000\",\"888000000\",\"100000000\",\"47011968\",\"2300000000\",\"10000000\",\"42000000\",\"80000000\",\"250000\",\"0\",\"1600000000\",\"100000000\",\"23000000\",\"0\",\"84000000\",\"265420800\",\"5500000\",\"0\",\"45000000\",\"0\",\"1000000000\",\"184467440735\",\"10000000000\",\"2158812800\",\"500000000\",\"105120000\",\"68000000\",\"0\",\"1680000000\",\"0\",\"166386000\",\"12000000\",\"2628000\",\"500000000\",\"160000000\",\"0\",\"10000000\",\"1000000000\",\"1000000000\",\"20000000\",\"0\",\"0\",\"3371337\",\"20000000\",\"10000000000\",\"1840000000\",\"619478\",\"21000000\",\"92000000000\",\"0\",\"78000000\",\"33000000\",\"65789100\",\"53760000\",\"5060000\",\"21000000\",\"0\",\"210240000\",\"250000000\",\"100000000\",\"16906397\",\"50000000\",\"0\",\"1000000000\",\"26298000\",\"16000000\",\"21000000\",\"21000000\",\"210000000\",\"81962100\",\"22000000\",\"26550000000\",\"84000000\",\"10500000\",\"21626280000 \",\"0\",\"42000000\",\"221052632\",\"84000000\",\"30000000\",\"168351300\",\"24000000\",\"384000000\",\" 99000000000\",\"40000000\",\"2147483647\",\"20000000\",\"20000000\",\"25000000\",\"75000000\",\"222725000\",\"525000000\",\"90000000\",\"139000000\",\"616448\",\"33500000\",\"2000000000\",\"44333333\",\"100000000\",\"200000000\",\"25000000\",\"657000000\",\"200000000\",\"50000000\",\"90000000\",\"10000000\",\"21000000\",\"9736000\",\"3000000\",\"21000000\",\"1200000000\",\"0\",\"200000000\",\"0\",\"10638298\",\"3100000000\",\"30000000\",\"20000000000\",\"74000000\",\"0\",\"1500000000\",\"21400000\",\"39999898\",\"2500124\",\"100000000\",\"301000000\",\"7506000000\",\"26205539\",\"21000000\",\"125000000\",\"30000000\",\"10000000000\",\"500000000\",\"850000000\",\"3853326.77707314\",\"50000000\",\"38540000 \",\"42000000\",\"228000000\",\"20000000\",\"60000000\",\"20000000\",\"33000000\",\"76500000\",\"28000000\",\"650659833\",\"5000000\",\"21000000\",\"144000000\",\"32514916898\",\"13000000\",\"3315789\",\"15000000\",\"78835200\",\"2714286\",\"25000000\",\"9999999\",\"500000000\",\"21000000\",\"9354000\",\"20000000\",\"100000000000\",\"21933333\",\"185000000\",\"55000000\",\"110000000\",\"3360000\",\"14524851.4827\",\"1000000000\",\"17000000\",\"1000000000\",\"100000000 \",\"21000000\",\"34426423\",\"2232901\",\"100000000\",\"36900000\",\"110000000\",\"4000000000\",\"110290030\",\"100000000\",\"48252000\",\"400000000\",\"500000000\",\"21212121\",\"28600000\",\"1000000000\",\"75000000000\",\"40000000\",\"35520400\",\"2000000000\",\"2500000000\",\"30000000\",\"105000000\",\"90000000000\",\"200084200\",\"72000000\",\"100000000\",\"105000000\",\"50000000000\",\"0\",\"340282367\",\"30000000\",\"2000000000\",\"10000000\",\"100000000\",\"120000000\",\"100000000\",\"19276800\",\"30000000\",\" 75000000\",\"60000000\",\"18900000\",\"50000000000\",\"54000000\",\"18898187.6216583\",\"21000000\",\"200000000000\",\"5000000000\",\"137500000\",\"1100000000\",\"100000000\",\"21000000\",\"9507271\",\"17405891.19707116\",\"86712634466\",\"10500000000\",\"61599965\",\"0\",\"20000000\",\"84000000\",\"100000000\",\"100000000\",\"48252000\",\"4200000\",\"88888888\",\"91388946\",\"45000000000\",\"27000000\",\"21000000000\",\"400000000\",\"1800000000\",\"15733333\",\"27000000\",\"24000000\",\"21000000\",\"25000000000\",\"100000000\",\"1200000000\",\"60000000\",\"156306732.71\",\"21000000\",\"200000000\",\"100000000\",\"21000000\",\"14788275.991\",\"9000000000\",\"350000000\",\"45000000\",\"280000000\",\"31800000\",\"144000000\",\"500000000\",\"30000000000\",\"210000000\",\"660000000\",\"210000000\",\"85000000000\",\"12500000\",\"10000000000\",\"27716121\",\"20000000\",\"550000000\",\"999481516\",\"50000000000\",\"150000000\",\"4999999999\",\"50000000\",\" 90000000000\",\"19800000\",\"21000000\",\"120000000\",\"500000000\",\"64000000\",\"900000000\",\"4000000\",\"21000000\",\"23000000\",\"20166000\",\"23000000\",\"25000000\",\"1618033\",\"30000000\",\"1000000000000\",\"16600000\",\"232000000\",\"336000000\",\"10000000000\",\"100000000\",\"1100000000\",\"800000000\",\"5200000000\",\"840000000\",\"40000000\",\"18406979840\",\"500000000\",\"19340594\",\"252460800\",\"25000000\",\"60000000\",\"124000000\",\"1000000000\",\"6500000000\",\"1000000000\",\"21000000\",\"25000000\",\"50000000\",\"3000000\",\"5000000\",\"70000000\",\"500000000\",\"300000000\",\"21000000\",\"88000000\",\"30000000\",\"100000000\",\"100000000\",\"200000000\",\"80000000\",\"18400000\",\"45000000\",\"5121951220\",\"21000000\",\"26280000\",\"21000000\",\"18000000\",\"26000000\",\"10500000\",\"600000518\",\"150000000\",\"184000000000\",\"10200000000\",\"44000000\",\"168000000\",\"100000000\",\"1000000000\",\"84000000\",\"90000000\",\"92000000000\",\"650000000 \",\"100262205\",\"18081806 \",\"22075700\",\"21000000\",\"21000000\",\"82546564\",\"21000000\",\"5151000\",\"16880000000\",\"52500000\",\"100000000\",\"22105263\",\"1000000000\",\"1750000000\",\"88188888\",\"210000000\",\"184470000000\",\"55000000\",\"50000000\",\"260000000\",\"210000000\",\"2100000000\",\"366000000\",\"100000000\",\"25000000\",\"18000000000\",\"1000000000\",\"100000000\",\"1000000000\",\"7600000000\",\"50000000\",\"84000000\",\"21000000\",\"70000000000\",\"0\",\"8080000000\",\"54000000\",\"105120001.44\",\"25228800\",\"105000000\",\"21000000\",\"120000000\",\"21000000\",\"262800000\",\"19035999\",\"30886000\",\"13370000\",\"74800000000\",\"100000000\",\"19700000\",\"84000000\",\"500000000\",\"5000000000\",\"420000000\",\"64000000\",\"2100000\",\"168000000\",\"30000000\",\"1000000000\",\"35000000000\",\"98100000000\",\"0\",\"4000000000\",\"200000000\",\"7000000000\",\"54256119\",\"21000000\",\"0\",\"500000000\",\"1000000000\",\"10500000000\",\"190000000\",\"1000000000\",\"42000000\",\"15000000\",\"50000000000\",\"400000000\",\"105000000\",\"208000000\",\"160000000\",\"9000000\",\"5000000\",\"182000000\",\"16504333\",\"105000000\",\"159918400\",\"10008835635\",\"300000000\",\"60168145\",\"5000000000\",\"2800000\",\"120000\",\"2100000000\",\"0\",\"24487944\",\"0\",\"1000000000\",\"100000000\",\"8634140\",\"990000000000\",\"1000000000\",\"2000000000\",\"250000000\",\"1400222610\",\"21000000\",\"1000000\"],\"TotalCoinsMined\":{\"__ndarray__\":\"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\",\"dtype\":\"float64\",\"order\":\"little\",\"shape\":[533]}},\"selected\":{\"id\":\"2006\"},\"selection_policy\":{\"id\":\"2040\"}},\"id\":\"2005\",\"type\":\"ColumnDataSource\"},{\"attributes\":{\"children\":[{\"id\":\"2004\"},{\"id\":\"2037\"},{\"id\":\"2043\"}],\"margin\":[0,0,0,0],\"name\":\"Row03300\",\"tags\":[\"embedded\"]},\"id\":\"2003\",\"type\":\"Row\"},{\"attributes\":{\"columns\":[{\"id\":\"2009\"},{\"id\":\"2014\"},{\"id\":\"2019\"},{\"id\":\"2024\"},{\"id\":\"2029\"},{\"id\":\"2034\"}],\"height\":300,\"reorderable\":false,\"source\":{\"id\":\"2005\"},\"view\":{\"id\":\"2038\"},\"width\":700},\"id\":\"2037\",\"type\":\"DataTable\"},{\"attributes\":{},\"id\":\"2040\",\"type\":\"UnionRenderers\"},{\"attributes\":{\"source\":{\"id\":\"2005\"}},\"id\":\"2038\",\"type\":\"CDSView\"},{\"attributes\":{},\"id\":\"2006\",\"type\":\"Selection\"},{\"attributes\":{},\"id\":\"2023\",\"type\":\"StringEditor\"},{\"attributes\":{},\"id\":\"2008\",\"type\":\"StringEditor\"},{\"attributes\":{\"editor\":{\"id\":\"2018\"},\"field\":\"ProofType\",\"formatter\":{\"id\":\"2017\"},\"title\":\"ProofType\"},\"id\":\"2019\",\"type\":\"TableColumn\"},{\"attributes\":{\"editor\":{\"id\":\"2008\"},\"field\":\"CoinName\",\"formatter\":{\"id\":\"2007\"},\"title\":\"CoinName\"},\"id\":\"2009\",\"type\":\"TableColumn\"},{\"attributes\":{},\"id\":\"2022\",\"type\":\"StringFormatter\"},{\"attributes\":{},\"id\":\"2012\",\"type\":\"StringFormatter\"},{\"attributes\":{\"editor\":{\"id\":\"2028\"},\"field\":\"TotalCoinsMined\",\"formatter\":{\"id\":\"2027\"},\"title\":\"TotalCoinsMined\"},\"id\":\"2029\",\"type\":\"TableColumn\"},{\"attributes\":{},\"id\":\"2033\",\"type\":\"IntEditor\"},{\"attributes\":{\"editor\":{\"id\":\"2033\"},\"field\":\"Class\",\"formatter\":{\"id\":\"2032\"},\"title\":\"Class\"},\"id\":\"2034\",\"type\":\"TableColumn\"},{\"attributes\":{},\"id\":\"2013\",\"type\":\"StringEditor\"},{\"attributes\":{\"format\":\"0,0.0[00000]\"},\"id\":\"2027\",\"type\":\"NumberFormatter\"},{\"attributes\":{\"editor\":{\"id\":\"2023\"},\"field\":\"TotalCoinSupply\",\"formatter\":{\"id\":\"2022\"},\"title\":\"TotalCoinSupply\"},\"id\":\"2024\",\"type\":\"TableColumn\"},{\"attributes\":{},\"id\":\"2028\",\"type\":\"NumberEditor\"},{\"attributes\":{},\"id\":\"2018\",\"type\":\"StringEditor\"},{\"attributes\":{\"editor\":{\"id\":\"2013\"},\"field\":\"Algorithm\",\"formatter\":{\"id\":\"2012\"},\"title\":\"Algorithm\"},\"id\":\"2014\",\"type\":\"TableColumn\"},{\"attributes\":{},\"id\":\"2032\",\"type\":\"NumberFormatter\"},{\"attributes\":{\"margin\":[5,5,5,5],\"name\":\"HSpacer03305\",\"sizing_mode\":\"stretch_width\"},\"id\":\"2043\",\"type\":\"Spacer\"},{\"attributes\":{},\"id\":\"2017\",\"type\":\"StringFormatter\"}],\"root_ids\":[\"2003\"]},\"title\":\"Bokeh Application\",\"version\":\"2.2.3\"}};\n",
       "    var render_items = [{\"docid\":\"da5e89f0-f80c-45c5-a8ac-0f3937390d37\",\"root_ids\":[\"2003\"],\"roots\":{\"2003\":\"d55b1686-4498-4ec1-953f-9e7d3e342b34\"}}];\n",
       "    root.Bokeh.embed.embed_items_notebook(docs_json, render_items);\n",
       "  }\n",
       "  if (root.Bokeh !== undefined && root.Bokeh.Panel !== undefined) {\n",
       "    embed_document(root);\n",
       "  } else {\n",
       "    var attempts = 0;\n",
       "    var timer = setInterval(function(root) {\n",
       "      if (root.Bokeh !== undefined && root.Bokeh.Panel !== undefined) {\n",
       "        clearInterval(timer);\n",
       "        embed_document(root);\n",
       "      } else if (document.readyState == \"complete\") {\n",
       "        attempts++;\n",
       "        if (attempts > 100) {\n",
       "          clearInterval(timer);\n",
       "          console.log(\"Bokeh: ERROR: Unable to run BokehJS code because BokehJS library is missing\");\n",
       "        }\n",
       "      }\n",
       "    }, 10, root)\n",
       "  }\n",
       "})(window);</script>"
      ],
      "text/plain": [
       ":Table   [CoinName,Algorithm,ProofType,TotalCoinSupply,TotalCoinsMined,Class]"
      ]
     },
     "execution_count": 149,
     "metadata": {
      "application/vnd.holoviews_exec.v0+json": {
       "id": "2003"
      }
     },
     "output_type": "execute_result"
    }
   ],
   "source": [
    "# Table with tradable cryptos\n",
    "clustered_df.hvplot.table(columns=['CoinName', 'Algorithm', 'ProofType', 'TotalCoinSupply', 'TotalCoinsMined', 'Class'], sortable=True, selectable=True)"
   ]
  },
  {
   "cell_type": "code",
   "execution_count": 150,
   "metadata": {},
   "outputs": [
    {
     "data": {
      "text/plain": [
       "533"
      ]
     },
     "execution_count": 150,
     "metadata": {},
     "output_type": "execute_result"
    }
   ],
   "source": [
    "# Print the total number of tradable cryptocurrencies\n",
    "len(clustered_df.CoinName)"
   ]
  },
  {
   "cell_type": "markdown",
   "metadata": {},
   "source": [
    "#### Scatter Plot with Tradable Cryptocurrencies"
   ]
  },
  {
   "cell_type": "code",
   "execution_count": 153,
   "metadata": {},
   "outputs": [],
   "source": [
    "# Scale data to create the scatter plot\n",
    "clustered_df['TotalCoinsMined'] = clustered_df['TotalCoinsMined'].astype(float) / 10000000\n",
    "clustered_df['TotalCoinSupply'] = clustered_df['TotalCoinSupply'].astype(float) / 10000000"
   ]
  },
  {
   "cell_type": "code",
   "execution_count": 154,
   "metadata": {},
   "outputs": [
    {
     "data": {},
     "metadata": {},
     "output_type": "display_data"
    },
    {
     "data": {
      "application/vnd.holoviews_exec.v0+json": "",
      "text/html": [
       "<div id='2160'>\n",
       "\n",
       "\n",
       "\n",
       "\n",
       "\n",
       "  <div class=\"bk-root\" id=\"aae70d36-f312-4796-8a0c-7dcae3673b75\" data-root-id=\"2160\"></div>\n",
       "</div>\n",
       "<script type=\"application/javascript\">(function(root) {\n",
       "  function embed_document(root) {\n",
       "    var docs_json = {\"f6aa2136-3b5b-4550-bcb1-3f5941d9a310\":{\"roots\":{\"references\":[{\"attributes\":{},\"id\":\"2186\",\"type\":\"ResetTool\"},{\"attributes\":{\"axis_label\":\"TotalCoinsMined\",\"bounds\":\"auto\",\"formatter\":{\"id\":\"2203\"},\"major_label_orientation\":\"horizontal\",\"ticker\":{\"id\":\"2175\"}},\"id\":\"2174\",\"type\":\"LinearAxis\"},{\"attributes\":{\"data\":{\"TotalCoinSupply\":{\"__ndarray__\":\"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\",\"dtype\":\"float64\",\"order\":\"little\",\"shape\":[533]},\"TotalCoinsMined\":{\"__ndarray__\":\"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\",\"dtype\":\"float64\",\"order\":\"little\",\"shape\":[533]}},\"selected\":{\"id\":\"2196\"},\"selection_policy\":{\"id\":\"2214\"}},\"id\":\"2195\",\"type\":\"ColumnDataSource\"},{\"attributes\":{\"margin\":[5,5,5,5],\"name\":\"HSpacer03614\",\"sizing_mode\":\"stretch_width\"},\"id\":\"2161\",\"type\":\"Spacer\"},{\"attributes\":{},\"id\":\"2172\",\"type\":\"LinearScale\"},{\"attributes\":{},\"id\":\"2203\",\"type\":\"BasicTickFormatter\"},{\"attributes\":{},\"id\":\"2175\",\"type\":\"BasicTicker\"},{\"attributes\":{\"axis_label\":\"TotalCoinSupply\",\"bounds\":\"auto\",\"formatter\":{\"id\":\"2205\"},\"major_label_orientation\":\"horizontal\",\"ticker\":{\"id\":\"2179\"}},\"id\":\"2178\",\"type\":\"LinearAxis\"},{\"attributes\":{\"axis\":{\"id\":\"2174\"},\"grid_line_color\":null,\"ticker\":null},\"id\":\"2177\",\"type\":\"Grid\"},{\"attributes\":{\"end\":11.0,\"reset_end\":11.0,\"reset_start\":-1.0,\"start\":-1.0,\"tags\":[[[\"TotalCoinSupply\",\"TotalCoinSupply\",null]]]},\"id\":\"2163\",\"type\":\"Range1d\"},{\"attributes\":{},\"id\":\"2179\",\"type\":\"BasicTicker\"},{\"attributes\":{\"source\":{\"id\":\"2195\"}},\"id\":\"2202\",\"type\":\"CDSView\"},{\"attributes\":{\"axis\":{\"id\":\"2178\"},\"dimension\":1,\"grid_line_color\":null,\"ticker\":null},\"id\":\"2181\",\"type\":\"Grid\"},{\"attributes\":{},\"id\":\"2196\",\"type\":\"Selection\"},{\"attributes\":{\"callback\":null,\"renderers\":[{\"id\":\"2201\"}],\"tags\":[\"hv_created\"],\"tooltips\":[[\"TotalCoinsMined\",\"@{TotalCoinsMined}\"],[\"TotalCoinSupply\",\"@{TotalCoinSupply}\"]]},\"id\":\"2164\",\"type\":\"HoverTool\"},{\"attributes\":{},\"id\":\"2214\",\"type\":\"UnionRenderers\"},{\"attributes\":{\"active_drag\":\"auto\",\"active_inspect\":\"auto\",\"active_multi\":null,\"active_scroll\":\"auto\",\"active_tap\":\"auto\",\"tools\":[{\"id\":\"2164\"},{\"id\":\"2182\"},{\"id\":\"2183\"},{\"id\":\"2184\"},{\"id\":\"2185\"},{\"id\":\"2186\"}]},\"id\":\"2188\",\"type\":\"Toolbar\"},{\"attributes\":{\"bottom_units\":\"screen\",\"fill_alpha\":0.5,\"fill_color\":\"lightgrey\",\"left_units\":\"screen\",\"level\":\"overlay\",\"line_alpha\":1.0,\"line_color\":\"black\",\"line_dash\":[4,4],\"line_width\":2,\"right_units\":\"screen\",\"top_units\":\"screen\"},\"id\":\"2187\",\"type\":\"BoxAnnotation\"},{\"attributes\":{\"text\":\"\",\"text_color\":{\"value\":\"black\"},\"text_font_size\":{\"value\":\"12pt\"}},\"id\":\"2166\",\"type\":\"Title\"},{\"attributes\":{\"children\":[{\"id\":\"2161\"},{\"id\":\"2165\"},{\"id\":\"2223\"}],\"margin\":[0,0,0,0],\"name\":\"Row03610\",\"tags\":[\"embedded\"]},\"id\":\"2160\",\"type\":\"Row\"},{\"attributes\":{\"data_source\":{\"id\":\"2195\"},\"glyph\":{\"id\":\"2198\"},\"hover_glyph\":null,\"muted_glyph\":{\"id\":\"2200\"},\"nonselection_glyph\":{\"id\":\"2199\"},\"selection_glyph\":null,\"view\":{\"id\":\"2202\"}},\"id\":\"2201\",\"type\":\"GlyphRenderer\"},{\"attributes\":{},\"id\":\"2205\",\"type\":\"BasicTickFormatter\"},{\"attributes\":{\"fill_color\":{\"value\":\"#30a2da\"},\"line_color\":{\"value\":\"#30a2da\"},\"size\":{\"units\":\"screen\",\"value\":5.477225575051661},\"x\":{\"field\":\"TotalCoinsMined\"},\"y\":{\"field\":\"TotalCoinSupply\"}},\"id\":\"2198\",\"type\":\"Scatter\"},{\"attributes\":{\"below\":[{\"id\":\"2174\"}],\"center\":[{\"id\":\"2177\"},{\"id\":\"2181\"}],\"left\":[{\"id\":\"2178\"}],\"margin\":[5,5,5,5],\"min_border_bottom\":10,\"min_border_left\":10,\"min_border_right\":10,\"min_border_top\":10,\"plot_height\":300,\"plot_width\":700,\"renderers\":[{\"id\":\"2201\"}],\"sizing_mode\":\"fixed\",\"title\":{\"id\":\"2166\"},\"toolbar\":{\"id\":\"2188\"},\"x_range\":{\"id\":\"2162\"},\"x_scale\":{\"id\":\"2170\"},\"y_range\":{\"id\":\"2163\"},\"y_scale\":{\"id\":\"2172\"}},\"id\":\"2165\",\"subtype\":\"Figure\",\"type\":\"Plot\"},{\"attributes\":{\"margin\":[5,5,5,5],\"name\":\"HSpacer03615\",\"sizing_mode\":\"stretch_width\"},\"id\":\"2223\",\"type\":\"Spacer\"},{\"attributes\":{},\"id\":\"2182\",\"type\":\"SaveTool\"},{\"attributes\":{\"end\":10.326704287676897,\"reset_end\":10.326704287676897,\"reset_start\":-0.48599692876008443,\"start\":-0.48599692876008443,\"tags\":[[[\"TotalCoinsMined\",\"TotalCoinsMined\",null]]]},\"id\":\"2162\",\"type\":\"Range1d\"},{\"attributes\":{},\"id\":\"2183\",\"type\":\"PanTool\"},{\"attributes\":{\"fill_alpha\":{\"value\":0.1},\"fill_color\":{\"value\":\"#30a2da\"},\"line_alpha\":{\"value\":0.1},\"line_color\":{\"value\":\"#30a2da\"},\"size\":{\"units\":\"screen\",\"value\":5.477225575051661},\"x\":{\"field\":\"TotalCoinsMined\"},\"y\":{\"field\":\"TotalCoinSupply\"}},\"id\":\"2199\",\"type\":\"Scatter\"},{\"attributes\":{\"fill_alpha\":{\"value\":0.2},\"fill_color\":{\"value\":\"#30a2da\"},\"line_alpha\":{\"value\":0.2},\"line_color\":{\"value\":\"#30a2da\"},\"size\":{\"units\":\"screen\",\"value\":5.477225575051661},\"x\":{\"field\":\"TotalCoinsMined\"},\"y\":{\"field\":\"TotalCoinSupply\"}},\"id\":\"2200\",\"type\":\"Scatter\"},{\"attributes\":{},\"id\":\"2184\",\"type\":\"WheelZoomTool\"},{\"attributes\":{\"overlay\":{\"id\":\"2187\"}},\"id\":\"2185\",\"type\":\"BoxZoomTool\"},{\"attributes\":{},\"id\":\"2170\",\"type\":\"LinearScale\"}],\"root_ids\":[\"2160\"]},\"title\":\"Bokeh Application\",\"version\":\"2.2.3\"}};\n",
       "    var render_items = [{\"docid\":\"f6aa2136-3b5b-4550-bcb1-3f5941d9a310\",\"root_ids\":[\"2160\"],\"roots\":{\"2160\":\"aae70d36-f312-4796-8a0c-7dcae3673b75\"}}];\n",
       "    root.Bokeh.embed.embed_items_notebook(docs_json, render_items);\n",
       "  }\n",
       "  if (root.Bokeh !== undefined && root.Bokeh.Panel !== undefined) {\n",
       "    embed_document(root);\n",
       "  } else {\n",
       "    var attempts = 0;\n",
       "    var timer = setInterval(function(root) {\n",
       "      if (root.Bokeh !== undefined && root.Bokeh.Panel !== undefined) {\n",
       "        clearInterval(timer);\n",
       "        embed_document(root);\n",
       "      } else if (document.readyState == \"complete\") {\n",
       "        attempts++;\n",
       "        if (attempts > 100) {\n",
       "          clearInterval(timer);\n",
       "          console.log(\"Bokeh: ERROR: Unable to run BokehJS code because BokehJS library is missing\");\n",
       "        }\n",
       "      }\n",
       "    }, 10, root)\n",
       "  }\n",
       "})(window);</script>"
      ],
      "text/plain": [
       ":Scatter   [TotalCoinsMined]   (TotalCoinSupply)"
      ]
     },
     "execution_count": 154,
     "metadata": {
      "application/vnd.holoviews_exec.v0+json": {
       "id": "2160"
      }
     },
     "output_type": "execute_result"
    }
   ],
   "source": [
    "# Plot the scatter with x=\"TotalCoinsMined\" and y=\"TotalCoinSupply\"\n",
    "clustered_df.hvplot(\n",
    "    kind=\"scatter\", \n",
    "    x=\"TotalCoinsMined\", \n",
    "    y=\"TotalCoinSupply\", \n",
    "    colormap=\"viridis\", \n",
    ")"
   ]
  },
  {
   "cell_type": "code",
   "execution_count": null,
   "metadata": {},
   "outputs": [],
   "source": []
  }
 ],
 "metadata": {
  "file_extension": ".py",
  "kernelspec": {
   "display_name": "Python 3",
   "language": "python",
   "name": "python3"
  },
  "language_info": {
   "codemirror_mode": {
    "name": "ipython",
    "version": 3
   },
   "file_extension": ".py",
   "mimetype": "text/x-python",
   "name": "python",
   "nbconvert_exporter": "python",
   "pygments_lexer": "ipython3",
   "version": "3.7.9"
  },
  "mimetype": "text/x-python",
  "name": "python",
  "npconvert_exporter": "python",
  "pygments_lexer": "ipython3",
  "version": 3
 },
 "nbformat": 4,
 "nbformat_minor": 4
}
